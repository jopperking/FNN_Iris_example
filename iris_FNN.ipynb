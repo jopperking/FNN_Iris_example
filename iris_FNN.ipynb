{
 "cells": [
  {
   "cell_type": "markdown",
   "metadata": {},
   "source": [
    "<h1><center><div style=\"direction:rtl;font-family:B Lotus, B Nazanin, Tahoma\"> بسم الله الرحمن الرحیم</div></center></h1>"
   ]
  },
  {
   "cell_type": "markdown",
   "metadata": {},
   "source": [
    "<h1><center><div style=\"direction:rtl;font-family:B Lotus, B Nazanin, Tahoma\"> Classification with fully connected neural network with the IRIS dataset</div></center></h1>"
   ]
  },
  {
   "cell_type": "markdown",
   "metadata": {},
   "source": [
    "## About\n",
    "```\n",
    "The structural data set of the findings includes 4 characteristics for the length and width of the sepals and petals, based on which the type of flower is distinguished from 3 different classes.\n",
    "``` "
   ]
  },
  {
   "cell_type": "markdown",
   "metadata": {},
   "source": [
    "# Import required libraries"
   ]
  },
  {
   "cell_type": "code",
   "execution_count": 1,
   "metadata": {},
   "outputs": [
    {
     "name": "stderr",
     "output_type": "stream",
     "text": [
      "2022-03-16 17:57:44.023190: W tensorflow/stream_executor/platform/default/dso_loader.cc:64] Could not load dynamic library 'libcudart.so.11.0'; dlerror: libcudart.so.11.0: cannot open shared object file: No such file or directory\n",
      "2022-03-16 17:57:44.023234: I tensorflow/stream_executor/cuda/cudart_stub.cc:29] Ignore above cudart dlerror if you do not have a GPU set up on your machine.\n"
     ]
    }
   ],
   "source": [
    "import numpy as np\n",
    "from tensorflow import keras # Datasetas"
   ]
  },
  {
   "cell_type": "markdown",
   "metadata": {},
   "source": [
    "# About Dataset"
   ]
  },
  {
   "cell_type": "markdown",
   "metadata": {},
   "source": [
    "+ Descriptions of this dataset are available on this website:\n",
    "\n",
    "  + https://archive.ics.uci.edu/ml/datasets/iris \n",
    "\n",
    "---\n",
    "\n",
    "+ Attribute Information:\n",
    "\n",
    "    + sepal length in cm\n",
    "    + sepal width in cm\n",
    "    + petal length in cm\n",
    "    + petal width in cm\n",
    "\n",
    "---\n",
    "\n",
    "+ class:\n",
    "\n",
    "    + Iris Setosa\n",
    "    + Iris Versicolour\n",
    "    + Iris Virginica\n",
    "\n"
   ]
  },
  {
   "cell_type": "markdown",
   "metadata": {},
   "source": [
    "# + Load Dataset"
   ]
  },
  {
   "cell_type": "code",
   "execution_count": 2,
   "metadata": {},
   "outputs": [
    {
     "name": "stdout",
     "output_type": "stream",
     "text": [
      "Sample of Features:\n",
      "[[5.1 3.5 1.4 0.2]\n",
      " [4.9 3.  1.4 0.2]\n",
      " [4.7 3.2 1.3 0.2]\n",
      " [4.6 3.1 1.5 0.2]\n",
      " [5.  3.6 1.4 0.2]]\n",
      "\n",
      "\n",
      "Sample of Classes:\n",
      "[0 0 0 0 0]\n"
     ]
    }
   ],
   "source": [
    "from sklearn.datasets import load_iris\n",
    "\n",
    "iris_data = load_iris() # load the iris dataset\n",
    "\n",
    "x = iris_data.data # Features\n",
    "y = iris_data.target # Classes\n",
    "\n",
    "print(\"Sample of Features:\")\n",
    "print(x[:5])\n",
    "\n",
    "print(\"\\n\")\n",
    "\n",
    "print(\"Sample of Classes:\")\n",
    "print(y[:5])"
   ]
  },
  {
   "cell_type": "markdown",
   "metadata": {},
   "source": [
    "# + Preprocessing"
   ]
  },
  {
   "cell_type": "code",
   "execution_count": 3,
   "metadata": {},
   "outputs": [
    {
     "name": "stdout",
     "output_type": "stream",
     "text": [
      "Sample of Classes in a single column:\n"
     ]
    },
    {
     "data": {
      "text/plain": [
       "array([[0],\n",
       "       [0],\n",
       "       [0],\n",
       "       [0],\n",
       "       [0]])"
      ]
     },
     "execution_count": 3,
     "metadata": {},
     "output_type": "execute_result"
    }
   ],
   "source": [
    "# Convert data to a single column\n",
    "y = y.reshape(-1, 1) \n",
    "\n",
    "print(\"Sample of Classes in a single column:\")\n",
    "y[:5]"
   ]
  },
  {
   "cell_type": "code",
   "execution_count": 4,
   "metadata": {},
   "outputs": [
    {
     "name": "stdout",
     "output_type": "stream",
     "text": [
      "Classes are:\n",
      "[0 1 2]\n"
     ]
    },
    {
     "data": {
      "text/plain": [
       "3"
      ]
     },
     "execution_count": 4,
     "metadata": {},
     "output_type": "execute_result"
    }
   ],
   "source": [
    "# Store Number of classes befor convert to one-hot\n",
    "print('Classes are:')\n",
    "print(np.unique(y)) # Classes\n",
    "number_of_classes = len(np.unique(y)) # 3\n",
    "number_of_classes"
   ]
  },
  {
   "cell_type": "code",
   "execution_count": 5,
   "metadata": {},
   "outputs": [
    {
     "data": {
      "text/plain": [
       "array([[1., 0., 0.],\n",
       "       [1., 0., 0.],\n",
       "       [1., 0., 0.],\n",
       "       [1., 0., 0.],\n",
       "       [1., 0., 0.]], dtype=float32)"
      ]
     },
     "execution_count": 5,
     "metadata": {},
     "output_type": "execute_result"
    }
   ],
   "source": [
    "# Convert classes in one-hot\n",
    "\n",
    "y = keras.utils.to_categorical(y , num_classes=3)\n",
    "y[:5]"
   ]
  },
  {
   "cell_type": "markdown",
   "metadata": {},
   "source": [
    "# + Split the data"
   ]
  },
  {
   "cell_type": "code",
   "execution_count": 6,
   "metadata": {},
   "outputs": [
    {
     "data": {
      "text/plain": [
       "array([[5.9, 3. , 4.2, 1.5],\n",
       "       [6.5, 3.2, 5.1, 2. ],\n",
       "       [6.3, 2.9, 5.6, 1.8],\n",
       "       [5.4, 3.9, 1.3, 0.4],\n",
       "       [4.8, 3.1, 1.6, 0.2]])"
      ]
     },
     "execution_count": 6,
     "metadata": {},
     "output_type": "execute_result"
    }
   ],
   "source": [
    "from sklearn.model_selection import train_test_split\n",
    "\n",
    "# Split the data for training and testing\n",
    "train_x, test_x, train_y, test_y = train_test_split(x, y, test_size=0.20)\n",
    "train_x[:5]"
   ]
  },
  {
   "cell_type": "markdown",
   "metadata": {},
   "source": [
    "# + Initial Neural Network"
   ]
  },
  {
   "cell_type": "code",
   "execution_count": null,
   "metadata": {},
   "outputs": [],
   "source": [
    "from keras.models import Sequential\n",
    "from keras.layers import Dense, Dropout\n",
    "\n",
    "# Store input dimention\n",
    "size_sample , dimantion = x.shape\n",
    "\n",
    "model = Sequential()\n",
    "model.add(Dense(10 , activation='relu' , input_dim=dimantion)) # 1st Layerst\n",
    "model.add(Dense(10 , activation='relu' )) # 2nd Layer\n",
    "model.add(Dropout(0.5)) # Droupout ( kill 50% of neurals)\n",
    "model.add(Dense(number_of_classes, activation='softmax')) # Final Layer"
   ]
  },
  {
   "cell_type": "code",
   "execution_count": 8,
   "metadata": {},
   "outputs": [
    {
     "name": "stdout",
     "output_type": "stream",
     "text": [
      "Model: \"sequential\"\n",
      "_________________________________________________________________\n",
      " Layer (type)                Output Shape              Param #   \n",
      "=================================================================\n",
      " dense (Dense)               (None, 10)                50        \n",
      "                                                                 \n",
      " dense_1 (Dense)             (None, 10)                110       \n",
      "                                                                 \n",
      " dropout (Dropout)           (None, 10)                0         \n",
      "                                                                 \n",
      " dense_2 (Dense)             (None, 3)                 33        \n",
      "                                                                 \n",
      "=================================================================\n",
      "Total params: 193\n",
      "Trainable params: 193\n",
      "Non-trainable params: 0\n",
      "_________________________________________________________________\n"
     ]
    }
   ],
   "source": [
    "# Summary of created Neural Network\n",
    "model.summary()"
   ]
  },
  {
   "cell_type": "markdown",
   "metadata": {},
   "source": [
    "# + Optimizing\n"
   ]
  },
  {
   "cell_type": "code",
   "execution_count": 9,
   "metadata": {},
   "outputs": [
    {
     "name": "stderr",
     "output_type": "stream",
     "text": [
      "/usr/local/lib/python3.9/dist-packages/keras/optimizer_v2/adam.py:105: UserWarning: The `lr` argument is deprecated, use `learning_rate` instead.\n",
      "  super(Adam, self).__init__(name, **kwargs)\n"
     ]
    }
   ],
   "source": [
    "from tensorflow.keras.optimizers import Adam\n",
    "\n",
    "# Adam optimizer with learning rate of 0.001\n",
    "optimizer = Adam(lr=0.001)\n",
    "model.compile(optimizer, loss='categorical_crossentropy', metrics=['accuracy'])\n"
   ]
  },
  {
   "cell_type": "markdown",
   "metadata": {},
   "source": [
    "# + Learning"
   ]
  },
  {
   "cell_type": "code",
   "execution_count": 11,
   "metadata": {},
   "outputs": [
    {
     "name": "stdout",
     "output_type": "stream",
     "text": [
      "Epoch 1/200\n",
      "20/20 [==============================] - 0s 15ms/step - loss: 0.4010 - accuracy: 0.8542 - val_loss: 0.2796 - val_accuracy: 0.8750\n",
      "Epoch 2/200\n",
      "20/20 [==============================] - 0s 10ms/step - loss: 0.5264 - accuracy: 0.8125 - val_loss: 0.2584 - val_accuracy: 0.9167\n",
      "Epoch 3/200\n",
      "20/20 [==============================] - 0s 9ms/step - loss: 0.5186 - accuracy: 0.7917 - val_loss: 0.2770 - val_accuracy: 0.8750\n",
      "Epoch 4/200\n",
      "20/20 [==============================] - 0s 10ms/step - loss: 0.5524 - accuracy: 0.7812 - val_loss: 0.2904 - val_accuracy: 0.8750\n",
      "Epoch 5/200\n",
      "20/20 [==============================] - 0s 9ms/step - loss: 0.4712 - accuracy: 0.7500 - val_loss: 0.2640 - val_accuracy: 0.8750\n",
      "Epoch 6/200\n",
      "20/20 [==============================] - 0s 10ms/step - loss: 0.4574 - accuracy: 0.7917 - val_loss: 0.2786 - val_accuracy: 0.8750\n",
      "Epoch 7/200\n",
      "20/20 [==============================] - 0s 13ms/step - loss: 0.4728 - accuracy: 0.8021 - val_loss: 0.2690 - val_accuracy: 0.8750\n",
      "Epoch 8/200\n",
      "20/20 [==============================] - 0s 10ms/step - loss: 0.5385 - accuracy: 0.7604 - val_loss: 0.2821 - val_accuracy: 0.8750\n",
      "Epoch 9/200\n",
      "20/20 [==============================] - 0s 10ms/step - loss: 0.4528 - accuracy: 0.8542 - val_loss: 0.2957 - val_accuracy: 0.8750\n",
      "Epoch 10/200\n",
      "20/20 [==============================] - 0s 10ms/step - loss: 0.5000 - accuracy: 0.7708 - val_loss: 0.2721 - val_accuracy: 0.8750\n",
      "Epoch 11/200\n",
      "20/20 [==============================] - 0s 11ms/step - loss: 0.5239 - accuracy: 0.8021 - val_loss: 0.2748 - val_accuracy: 0.8750\n",
      "Epoch 12/200\n",
      "20/20 [==============================] - 0s 10ms/step - loss: 0.5796 - accuracy: 0.7604 - val_loss: 0.2763 - val_accuracy: 0.8750\n",
      "Epoch 13/200\n",
      "20/20 [==============================] - 0s 11ms/step - loss: 0.4124 - accuracy: 0.7917 - val_loss: 0.2858 - val_accuracy: 0.8750\n",
      "Epoch 14/200\n",
      "20/20 [==============================] - 0s 11ms/step - loss: 0.5046 - accuracy: 0.8021 - val_loss: 0.2801 - val_accuracy: 0.8750\n",
      "Epoch 15/200\n",
      "20/20 [==============================] - 0s 9ms/step - loss: 0.5113 - accuracy: 0.8021 - val_loss: 0.2814 - val_accuracy: 0.8750\n",
      "Epoch 16/200\n",
      "20/20 [==============================] - 0s 10ms/step - loss: 0.5012 - accuracy: 0.7604 - val_loss: 0.3071 - val_accuracy: 0.8750\n",
      "Epoch 17/200\n",
      "20/20 [==============================] - 0s 9ms/step - loss: 0.4884 - accuracy: 0.8125 - val_loss: 0.2605 - val_accuracy: 0.9167\n",
      "Epoch 18/200\n",
      "20/20 [==============================] - 0s 11ms/step - loss: 0.5630 - accuracy: 0.7708 - val_loss: 0.2813 - val_accuracy: 0.8750\n",
      "Epoch 19/200\n",
      "20/20 [==============================] - 0s 9ms/step - loss: 0.4677 - accuracy: 0.8438 - val_loss: 0.3067 - val_accuracy: 0.8750\n",
      "Epoch 20/200\n",
      "20/20 [==============================] - 0s 9ms/step - loss: 0.4871 - accuracy: 0.8021 - val_loss: 0.2871 - val_accuracy: 0.8750\n",
      "Epoch 21/200\n",
      "20/20 [==============================] - 0s 10ms/step - loss: 0.5923 - accuracy: 0.7500 - val_loss: 0.2877 - val_accuracy: 0.8750\n",
      "Epoch 22/200\n",
      "20/20 [==============================] - 0s 11ms/step - loss: 0.4530 - accuracy: 0.8229 - val_loss: 0.2754 - val_accuracy: 0.8750\n",
      "Epoch 23/200\n",
      "20/20 [==============================] - 0s 9ms/step - loss: 0.4728 - accuracy: 0.8021 - val_loss: 0.2687 - val_accuracy: 0.8750\n",
      "Epoch 24/200\n",
      "20/20 [==============================] - 0s 9ms/step - loss: 0.4732 - accuracy: 0.8542 - val_loss: 0.2983 - val_accuracy: 0.8750\n",
      "Epoch 25/200\n",
      "20/20 [==============================] - 0s 11ms/step - loss: 0.5330 - accuracy: 0.8021 - val_loss: 0.2811 - val_accuracy: 0.8750\n",
      "Epoch 26/200\n",
      "20/20 [==============================] - 0s 9ms/step - loss: 0.4022 - accuracy: 0.8438 - val_loss: 0.2698 - val_accuracy: 0.8750\n",
      "Epoch 27/200\n",
      "20/20 [==============================] - 0s 11ms/step - loss: 0.3941 - accuracy: 0.8229 - val_loss: 0.2645 - val_accuracy: 0.8750\n",
      "Epoch 28/200\n",
      "20/20 [==============================] - 0s 10ms/step - loss: 0.5210 - accuracy: 0.7812 - val_loss: 0.2856 - val_accuracy: 0.8750\n",
      "Epoch 29/200\n",
      "20/20 [==============================] - 0s 8ms/step - loss: 0.5596 - accuracy: 0.7292 - val_loss: 0.2725 - val_accuracy: 0.8750\n",
      "Epoch 30/200\n",
      "20/20 [==============================] - 0s 10ms/step - loss: 0.4427 - accuracy: 0.8542 - val_loss: 0.2931 - val_accuracy: 0.8750\n",
      "Epoch 31/200\n",
      "20/20 [==============================] - 0s 10ms/step - loss: 0.4768 - accuracy: 0.7812 - val_loss: 0.2882 - val_accuracy: 0.8750\n",
      "Epoch 32/200\n",
      "20/20 [==============================] - 0s 9ms/step - loss: 0.4473 - accuracy: 0.8125 - val_loss: 0.2661 - val_accuracy: 0.8750\n",
      "Epoch 33/200\n",
      "20/20 [==============================] - 0s 10ms/step - loss: 0.5310 - accuracy: 0.7812 - val_loss: 0.2918 - val_accuracy: 0.8750\n",
      "Epoch 34/200\n",
      "20/20 [==============================] - 0s 11ms/step - loss: 0.4189 - accuracy: 0.8229 - val_loss: 0.2744 - val_accuracy: 0.8750\n",
      "Epoch 35/200\n",
      "20/20 [==============================] - 0s 9ms/step - loss: 0.3727 - accuracy: 0.8750 - val_loss: 0.2646 - val_accuracy: 0.8750\n",
      "Epoch 36/200\n",
      "20/20 [==============================] - 0s 10ms/step - loss: 0.5346 - accuracy: 0.7708 - val_loss: 0.2845 - val_accuracy: 0.8750\n",
      "Epoch 37/200\n",
      "20/20 [==============================] - 0s 10ms/step - loss: 0.4610 - accuracy: 0.7604 - val_loss: 0.2569 - val_accuracy: 0.9167\n",
      "Epoch 38/200\n",
      "20/20 [==============================] - 0s 9ms/step - loss: 0.4719 - accuracy: 0.7917 - val_loss: 0.2906 - val_accuracy: 0.8750\n",
      "Epoch 39/200\n",
      "20/20 [==============================] - 0s 11ms/step - loss: 0.4849 - accuracy: 0.8438 - val_loss: 0.2927 - val_accuracy: 0.8750\n",
      "Epoch 40/200\n",
      "20/20 [==============================] - 0s 9ms/step - loss: 0.4013 - accuracy: 0.8229 - val_loss: 0.2725 - val_accuracy: 0.8750\n",
      "Epoch 41/200\n",
      "20/20 [==============================] - 0s 11ms/step - loss: 0.4170 - accuracy: 0.8125 - val_loss: 0.2925 - val_accuracy: 0.8750\n",
      "Epoch 42/200\n",
      "20/20 [==============================] - 0s 9ms/step - loss: 0.4735 - accuracy: 0.8542 - val_loss: 0.3056 - val_accuracy: 0.8750\n",
      "Epoch 43/200\n",
      "20/20 [==============================] - 0s 9ms/step - loss: 0.4846 - accuracy: 0.8229 - val_loss: 0.2667 - val_accuracy: 0.8750\n",
      "Epoch 44/200\n",
      "20/20 [==============================] - 0s 12ms/step - loss: 0.4833 - accuracy: 0.8229 - val_loss: 0.2614 - val_accuracy: 0.8750\n",
      "Epoch 45/200\n",
      "20/20 [==============================] - 0s 9ms/step - loss: 0.4932 - accuracy: 0.7500 - val_loss: 0.2851 - val_accuracy: 0.8750\n",
      "Epoch 46/200\n",
      "20/20 [==============================] - 0s 9ms/step - loss: 0.4118 - accuracy: 0.8333 - val_loss: 0.2424 - val_accuracy: 0.9167\n",
      "Epoch 47/200\n",
      "20/20 [==============================] - 0s 10ms/step - loss: 0.4356 - accuracy: 0.8438 - val_loss: 0.2725 - val_accuracy: 0.8750\n",
      "Epoch 48/200\n",
      "20/20 [==============================] - 0s 10ms/step - loss: 0.4507 - accuracy: 0.8021 - val_loss: 0.2833 - val_accuracy: 0.8750\n",
      "Epoch 49/200\n",
      "20/20 [==============================] - 0s 9ms/step - loss: 0.4618 - accuracy: 0.8438 - val_loss: 0.2639 - val_accuracy: 0.8750\n",
      "Epoch 50/200\n",
      "20/20 [==============================] - 0s 7ms/step - loss: 0.4567 - accuracy: 0.8542 - val_loss: 0.3327 - val_accuracy: 0.8750\n",
      "Epoch 51/200\n",
      "20/20 [==============================] - 0s 11ms/step - loss: 0.4144 - accuracy: 0.8958 - val_loss: 0.2618 - val_accuracy: 0.8750\n",
      "Epoch 52/200\n",
      "20/20 [==============================] - 0s 10ms/step - loss: 0.4583 - accuracy: 0.8333 - val_loss: 0.2556 - val_accuracy: 0.9167\n",
      "Epoch 53/200\n",
      "20/20 [==============================] - 0s 11ms/step - loss: 0.4351 - accuracy: 0.8542 - val_loss: 0.2690 - val_accuracy: 0.8750\n",
      "Epoch 54/200\n",
      "20/20 [==============================] - 0s 10ms/step - loss: 0.4219 - accuracy: 0.8229 - val_loss: 0.2753 - val_accuracy: 0.8750\n",
      "Epoch 55/200\n",
      "20/20 [==============================] - 0s 10ms/step - loss: 0.3649 - accuracy: 0.8854 - val_loss: 0.3034 - val_accuracy: 0.8750\n",
      "Epoch 56/200\n",
      "20/20 [==============================] - 0s 9ms/step - loss: 0.4174 - accuracy: 0.8542 - val_loss: 0.2487 - val_accuracy: 0.9167\n",
      "Epoch 57/200\n",
      "20/20 [==============================] - 0s 9ms/step - loss: 0.4633 - accuracy: 0.8229 - val_loss: 0.2455 - val_accuracy: 0.9167\n",
      "Epoch 58/200\n",
      "20/20 [==============================] - 0s 10ms/step - loss: 0.3275 - accuracy: 0.8854 - val_loss: 0.2674 - val_accuracy: 0.8750\n",
      "Epoch 59/200\n",
      "20/20 [==============================] - 0s 10ms/step - loss: 0.4169 - accuracy: 0.8125 - val_loss: 0.2718 - val_accuracy: 0.8750\n",
      "Epoch 60/200\n",
      "20/20 [==============================] - 0s 11ms/step - loss: 0.3946 - accuracy: 0.8542 - val_loss: 0.2523 - val_accuracy: 0.8750\n",
      "Epoch 61/200\n",
      "20/20 [==============================] - 0s 10ms/step - loss: 0.5141 - accuracy: 0.8229 - val_loss: 0.2793 - val_accuracy: 0.8750\n",
      "Epoch 62/200\n",
      "20/20 [==============================] - 0s 9ms/step - loss: 0.4315 - accuracy: 0.8646 - val_loss: 0.2576 - val_accuracy: 0.8750\n",
      "Epoch 63/200\n",
      "20/20 [==============================] - 0s 9ms/step - loss: 0.4224 - accuracy: 0.8125 - val_loss: 0.2555 - val_accuracy: 0.8750\n",
      "Epoch 64/200\n",
      "20/20 [==============================] - 0s 10ms/step - loss: 0.3431 - accuracy: 0.8542 - val_loss: 0.2452 - val_accuracy: 0.9167\n",
      "Epoch 65/200\n",
      "20/20 [==============================] - 0s 11ms/step - loss: 0.4477 - accuracy: 0.8542 - val_loss: 0.2574 - val_accuracy: 0.8750\n",
      "Epoch 66/200\n",
      "20/20 [==============================] - 0s 11ms/step - loss: 0.4478 - accuracy: 0.8125 - val_loss: 0.2981 - val_accuracy: 0.8750\n",
      "Epoch 67/200\n",
      "20/20 [==============================] - 0s 10ms/step - loss: 0.4318 - accuracy: 0.8229 - val_loss: 0.2863 - val_accuracy: 0.8750\n",
      "Epoch 68/200\n",
      "20/20 [==============================] - 0s 9ms/step - loss: 0.4271 - accuracy: 0.8646 - val_loss: 0.2293 - val_accuracy: 0.9167\n",
      "Epoch 69/200\n",
      "20/20 [==============================] - 0s 10ms/step - loss: 0.4006 - accuracy: 0.8750 - val_loss: 0.2558 - val_accuracy: 0.8750\n",
      "Epoch 70/200\n",
      "20/20 [==============================] - 0s 9ms/step - loss: 0.4496 - accuracy: 0.8021 - val_loss: 0.2808 - val_accuracy: 0.8750\n",
      "Epoch 71/200\n",
      "20/20 [==============================] - 0s 9ms/step - loss: 0.4495 - accuracy: 0.8229 - val_loss: 0.2509 - val_accuracy: 0.8750\n",
      "Epoch 72/200\n",
      "20/20 [==============================] - 0s 9ms/step - loss: 0.4587 - accuracy: 0.8333 - val_loss: 0.2806 - val_accuracy: 0.8750\n",
      "Epoch 73/200\n",
      "20/20 [==============================] - 0s 9ms/step - loss: 0.3831 - accuracy: 0.8333 - val_loss: 0.2896 - val_accuracy: 0.8750\n",
      "Epoch 74/200\n",
      "20/20 [==============================] - 0s 11ms/step - loss: 0.5224 - accuracy: 0.7812 - val_loss: 0.2625 - val_accuracy: 0.8750\n",
      "Epoch 75/200\n",
      "20/20 [==============================] - 0s 12ms/step - loss: 0.4358 - accuracy: 0.8438 - val_loss: 0.2894 - val_accuracy: 0.8750\n",
      "Epoch 76/200\n",
      "20/20 [==============================] - 0s 9ms/step - loss: 0.4591 - accuracy: 0.8333 - val_loss: 0.2759 - val_accuracy: 0.8750\n",
      "Epoch 77/200\n",
      "20/20 [==============================] - 0s 9ms/step - loss: 0.4352 - accuracy: 0.7917 - val_loss: 0.2497 - val_accuracy: 0.8750\n",
      "Epoch 78/200\n",
      "20/20 [==============================] - 0s 11ms/step - loss: 0.5020 - accuracy: 0.7812 - val_loss: 0.2658 - val_accuracy: 0.8750\n",
      "Epoch 79/200\n",
      "20/20 [==============================] - 0s 9ms/step - loss: 0.5365 - accuracy: 0.7708 - val_loss: 0.2556 - val_accuracy: 0.8750\n",
      "Epoch 80/200\n",
      "20/20 [==============================] - 0s 11ms/step - loss: 0.5143 - accuracy: 0.8021 - val_loss: 0.2796 - val_accuracy: 0.8750\n",
      "Epoch 81/200\n",
      "20/20 [==============================] - 0s 10ms/step - loss: 0.5097 - accuracy: 0.7708 - val_loss: 0.2297 - val_accuracy: 0.9167\n",
      "Epoch 82/200\n",
      "20/20 [==============================] - 0s 10ms/step - loss: 0.4339 - accuracy: 0.8438 - val_loss: 0.2657 - val_accuracy: 0.8750\n",
      "Epoch 83/200\n",
      "20/20 [==============================] - 0s 11ms/step - loss: 0.4094 - accuracy: 0.8438 - val_loss: 0.2520 - val_accuracy: 0.8750\n",
      "Epoch 84/200\n",
      "20/20 [==============================] - 0s 8ms/step - loss: 0.4869 - accuracy: 0.8229 - val_loss: 0.2625 - val_accuracy: 0.8750\n",
      "Epoch 85/200\n",
      "20/20 [==============================] - 0s 7ms/step - loss: 0.3806 - accuracy: 0.8854 - val_loss: 0.2881 - val_accuracy: 0.8750\n",
      "Epoch 86/200\n",
      "20/20 [==============================] - 0s 8ms/step - loss: 0.4655 - accuracy: 0.8333 - val_loss: 0.3000 - val_accuracy: 0.8750\n",
      "Epoch 87/200\n",
      "20/20 [==============================] - 0s 8ms/step - loss: 0.4283 - accuracy: 0.8333 - val_loss: 0.2648 - val_accuracy: 0.8750\n",
      "Epoch 88/200\n",
      "20/20 [==============================] - 0s 11ms/step - loss: 0.5163 - accuracy: 0.7812 - val_loss: 0.2436 - val_accuracy: 0.9167\n",
      "Epoch 89/200\n",
      "20/20 [==============================] - 0s 10ms/step - loss: 0.4346 - accuracy: 0.8229 - val_loss: 0.2377 - val_accuracy: 0.9167\n",
      "Epoch 90/200\n",
      "20/20 [==============================] - ETA: 0s - loss: 0.3533 - accuracy: 0.87 - 0s 10ms/step - loss: 0.3587 - accuracy: 0.8542 - val_loss: 0.2578 - val_accuracy: 0.8750\n",
      "Epoch 91/200\n",
      "20/20 [==============================] - 0s 10ms/step - loss: 0.3862 - accuracy: 0.8854 - val_loss: 0.3299 - val_accuracy: 0.8750\n",
      "Epoch 92/200\n",
      "20/20 [==============================] - 0s 11ms/step - loss: 0.4203 - accuracy: 0.8229 - val_loss: 0.2731 - val_accuracy: 0.8750\n",
      "Epoch 93/200\n",
      "20/20 [==============================] - 0s 10ms/step - loss: 0.4044 - accuracy: 0.8646 - val_loss: 0.2566 - val_accuracy: 0.8750\n",
      "Epoch 94/200\n",
      "20/20 [==============================] - 0s 11ms/step - loss: 0.4522 - accuracy: 0.8333 - val_loss: 0.3001 - val_accuracy: 0.8750\n",
      "Epoch 95/200\n",
      "20/20 [==============================] - 0s 10ms/step - loss: 0.4954 - accuracy: 0.8333 - val_loss: 0.3076 - val_accuracy: 0.8750\n",
      "Epoch 96/200\n",
      "20/20 [==============================] - 0s 11ms/step - loss: 0.5010 - accuracy: 0.8125 - val_loss: 0.2253 - val_accuracy: 0.9167\n",
      "Epoch 97/200\n",
      "20/20 [==============================] - 0s 10ms/step - loss: 0.4379 - accuracy: 0.8438 - val_loss: 0.2290 - val_accuracy: 0.9167\n",
      "Epoch 98/200\n",
      "20/20 [==============================] - 0s 9ms/step - loss: 0.5052 - accuracy: 0.7708 - val_loss: 0.2807 - val_accuracy: 0.8750\n",
      "Epoch 99/200\n",
      "20/20 [==============================] - 0s 9ms/step - loss: 0.4567 - accuracy: 0.8333 - val_loss: 0.2945 - val_accuracy: 0.8750\n",
      "Epoch 100/200\n",
      "20/20 [==============================] - 0s 9ms/step - loss: 0.4666 - accuracy: 0.8438 - val_loss: 0.2848 - val_accuracy: 0.8750\n",
      "Epoch 101/200\n",
      "20/20 [==============================] - 0s 11ms/step - loss: 0.4669 - accuracy: 0.8125 - val_loss: 0.2842 - val_accuracy: 0.8750\n",
      "Epoch 102/200\n",
      "20/20 [==============================] - 0s 11ms/step - loss: 0.4136 - accuracy: 0.8333 - val_loss: 0.2994 - val_accuracy: 0.8750\n",
      "Epoch 103/200\n",
      "20/20 [==============================] - 0s 11ms/step - loss: 0.4652 - accuracy: 0.8229 - val_loss: 0.2810 - val_accuracy: 0.8750\n",
      "Epoch 104/200\n",
      "20/20 [==============================] - 0s 11ms/step - loss: 0.4969 - accuracy: 0.8542 - val_loss: 0.2402 - val_accuracy: 0.9167\n",
      "Epoch 105/200\n",
      "20/20 [==============================] - 0s 13ms/step - loss: 0.4722 - accuracy: 0.8021 - val_loss: 0.2457 - val_accuracy: 0.8750\n",
      "Epoch 106/200\n",
      "20/20 [==============================] - 0s 9ms/step - loss: 0.3448 - accuracy: 0.8958 - val_loss: 0.2593 - val_accuracy: 0.8750\n",
      "Epoch 107/200\n",
      "20/20 [==============================] - 0s 10ms/step - loss: 0.4948 - accuracy: 0.8021 - val_loss: 0.2760 - val_accuracy: 0.8750\n",
      "Epoch 108/200\n",
      "20/20 [==============================] - 0s 9ms/step - loss: 0.3582 - accuracy: 0.8854 - val_loss: 0.2531 - val_accuracy: 0.8750\n",
      "Epoch 109/200\n",
      "20/20 [==============================] - 0s 10ms/step - loss: 0.3813 - accuracy: 0.8854 - val_loss: 0.2413 - val_accuracy: 0.8750\n",
      "Epoch 110/200\n",
      "20/20 [==============================] - 0s 9ms/step - loss: 0.4093 - accuracy: 0.8333 - val_loss: 0.2707 - val_accuracy: 0.8750\n",
      "Epoch 111/200\n",
      "20/20 [==============================] - 0s 10ms/step - loss: 0.3758 - accuracy: 0.8958 - val_loss: 0.3155 - val_accuracy: 0.8750\n",
      "Epoch 112/200\n",
      "20/20 [==============================] - 0s 10ms/step - loss: 0.3840 - accuracy: 0.8542 - val_loss: 0.2718 - val_accuracy: 0.8750\n",
      "Epoch 113/200\n",
      "20/20 [==============================] - 0s 8ms/step - loss: 0.5410 - accuracy: 0.8125 - val_loss: 0.3284 - val_accuracy: 0.8750\n",
      "Epoch 114/200\n",
      "20/20 [==============================] - 0s 9ms/step - loss: 0.4546 - accuracy: 0.8750 - val_loss: 0.2822 - val_accuracy: 0.8750\n",
      "Epoch 115/200\n",
      "20/20 [==============================] - 0s 8ms/step - loss: 0.4309 - accuracy: 0.8021 - val_loss: 0.2842 - val_accuracy: 0.8750\n",
      "Epoch 116/200\n",
      "20/20 [==============================] - 0s 9ms/step - loss: 0.4452 - accuracy: 0.8646 - val_loss: 0.2703 - val_accuracy: 0.8750\n",
      "Epoch 117/200\n",
      "20/20 [==============================] - 0s 12ms/step - loss: 0.5046 - accuracy: 0.8021 - val_loss: 0.2605 - val_accuracy: 0.8750\n",
      "Epoch 118/200\n",
      "20/20 [==============================] - 0s 13ms/step - loss: 0.4954 - accuracy: 0.8021 - val_loss: 0.2417 - val_accuracy: 0.8750\n",
      "Epoch 119/200\n",
      "20/20 [==============================] - 0s 11ms/step - loss: 0.4892 - accuracy: 0.8438 - val_loss: 0.2486 - val_accuracy: 0.8750\n",
      "Epoch 120/200\n",
      "20/20 [==============================] - 0s 10ms/step - loss: 0.4333 - accuracy: 0.8229 - val_loss: 0.2686 - val_accuracy: 0.8750\n",
      "Epoch 121/200\n",
      "20/20 [==============================] - 0s 11ms/step - loss: 0.4396 - accuracy: 0.8646 - val_loss: 0.2427 - val_accuracy: 0.8750\n",
      "Epoch 122/200\n",
      "20/20 [==============================] - 0s 8ms/step - loss: 0.3426 - accuracy: 0.8854 - val_loss: 0.2518 - val_accuracy: 0.8750\n",
      "Epoch 123/200\n",
      "20/20 [==============================] - 0s 10ms/step - loss: 0.4314 - accuracy: 0.8125 - val_loss: 0.2769 - val_accuracy: 0.8750\n",
      "Epoch 124/200\n",
      "20/20 [==============================] - 0s 10ms/step - loss: 0.5190 - accuracy: 0.8021 - val_loss: 0.2406 - val_accuracy: 0.8750\n",
      "Epoch 125/200\n",
      "20/20 [==============================] - 0s 8ms/step - loss: 0.4237 - accuracy: 0.8542 - val_loss: 0.2771 - val_accuracy: 0.8750\n",
      "Epoch 126/200\n",
      "20/20 [==============================] - 0s 7ms/step - loss: 0.5174 - accuracy: 0.8021 - val_loss: 0.2672 - val_accuracy: 0.8750\n",
      "Epoch 127/200\n",
      "20/20 [==============================] - 0s 7ms/step - loss: 0.4648 - accuracy: 0.8333 - val_loss: 0.2820 - val_accuracy: 0.8750\n",
      "Epoch 128/200\n",
      "20/20 [==============================] - 0s 8ms/step - loss: 0.4410 - accuracy: 0.8229 - val_loss: 0.2660 - val_accuracy: 0.8750\n",
      "Epoch 129/200\n",
      "20/20 [==============================] - 0s 8ms/step - loss: 0.4582 - accuracy: 0.7812 - val_loss: 0.3143 - val_accuracy: 0.8750\n",
      "Epoch 130/200\n",
      "20/20 [==============================] - 0s 9ms/step - loss: 0.3658 - accuracy: 0.8542 - val_loss: 0.2449 - val_accuracy: 0.8750\n",
      "Epoch 131/200\n",
      "20/20 [==============================] - 0s 9ms/step - loss: 0.4845 - accuracy: 0.8125 - val_loss: 0.2314 - val_accuracy: 0.9167\n",
      "Epoch 132/200\n",
      "20/20 [==============================] - 0s 8ms/step - loss: 0.4850 - accuracy: 0.8021 - val_loss: 0.2976 - val_accuracy: 0.8750\n",
      "Epoch 133/200\n",
      "20/20 [==============================] - 0s 8ms/step - loss: 0.4142 - accuracy: 0.8229 - val_loss: 0.2304 - val_accuracy: 0.9167\n",
      "Epoch 134/200\n",
      "20/20 [==============================] - 0s 9ms/step - loss: 0.3895 - accuracy: 0.8542 - val_loss: 0.2882 - val_accuracy: 0.8750\n",
      "Epoch 135/200\n",
      "20/20 [==============================] - 0s 9ms/step - loss: 0.4054 - accuracy: 0.8333 - val_loss: 0.2681 - val_accuracy: 0.8750\n",
      "Epoch 136/200\n",
      "20/20 [==============================] - 0s 9ms/step - loss: 0.4220 - accuracy: 0.8229 - val_loss: 0.3006 - val_accuracy: 0.8750\n",
      "Epoch 137/200\n",
      "20/20 [==============================] - 0s 11ms/step - loss: 0.4615 - accuracy: 0.8438 - val_loss: 0.2745 - val_accuracy: 0.8750\n",
      "Epoch 138/200\n",
      "20/20 [==============================] - 0s 10ms/step - loss: 0.4925 - accuracy: 0.8125 - val_loss: 0.3385 - val_accuracy: 0.8750\n",
      "Epoch 139/200\n",
      "20/20 [==============================] - 0s 9ms/step - loss: 0.4650 - accuracy: 0.8125 - val_loss: 0.2175 - val_accuracy: 0.9167\n",
      "Epoch 140/200\n",
      "20/20 [==============================] - 0s 7ms/step - loss: 0.4505 - accuracy: 0.8438 - val_loss: 0.2283 - val_accuracy: 0.9167\n",
      "Epoch 141/200\n",
      "20/20 [==============================] - 0s 7ms/step - loss: 0.4269 - accuracy: 0.8333 - val_loss: 0.2557 - val_accuracy: 0.8750\n",
      "Epoch 142/200\n",
      "20/20 [==============================] - 0s 8ms/step - loss: 0.5016 - accuracy: 0.7812 - val_loss: 0.3035 - val_accuracy: 0.8750\n",
      "Epoch 143/200\n",
      "20/20 [==============================] - 0s 9ms/step - loss: 0.4879 - accuracy: 0.8021 - val_loss: 0.2624 - val_accuracy: 0.8750\n",
      "Epoch 144/200\n",
      "20/20 [==============================] - 0s 9ms/step - loss: 0.5007 - accuracy: 0.8021 - val_loss: 0.2828 - val_accuracy: 0.8750\n",
      "Epoch 145/200\n",
      "20/20 [==============================] - 0s 10ms/step - loss: 0.4843 - accuracy: 0.8021 - val_loss: 0.2702 - val_accuracy: 0.8750\n",
      "Epoch 146/200\n",
      "20/20 [==============================] - 0s 10ms/step - loss: 0.4928 - accuracy: 0.7812 - val_loss: 0.2850 - val_accuracy: 0.8750\n",
      "Epoch 147/200\n",
      "20/20 [==============================] - 0s 9ms/step - loss: 0.5711 - accuracy: 0.7708 - val_loss: 0.2511 - val_accuracy: 0.8750\n",
      "Epoch 148/200\n",
      "20/20 [==============================] - 0s 9ms/step - loss: 0.4145 - accuracy: 0.7917 - val_loss: 0.3159 - val_accuracy: 0.8750\n",
      "Epoch 149/200\n",
      "20/20 [==============================] - 0s 9ms/step - loss: 0.4489 - accuracy: 0.8333 - val_loss: 0.2743 - val_accuracy: 0.8750\n",
      "Epoch 150/200\n",
      "20/20 [==============================] - 0s 10ms/step - loss: 0.3801 - accuracy: 0.8229 - val_loss: 0.2417 - val_accuracy: 0.9167\n",
      "Epoch 151/200\n",
      "20/20 [==============================] - 0s 8ms/step - loss: 0.4204 - accuracy: 0.8854 - val_loss: 0.2898 - val_accuracy: 0.8750\n",
      "Epoch 152/200\n",
      "20/20 [==============================] - 0s 9ms/step - loss: 0.3922 - accuracy: 0.8438 - val_loss: 0.2515 - val_accuracy: 0.8750\n",
      "Epoch 153/200\n",
      "20/20 [==============================] - 0s 11ms/step - loss: 0.3683 - accuracy: 0.8854 - val_loss: 0.2422 - val_accuracy: 0.8750\n",
      "Epoch 154/200\n",
      "20/20 [==============================] - 0s 11ms/step - loss: 0.5548 - accuracy: 0.7292 - val_loss: 0.2131 - val_accuracy: 0.9167\n",
      "Epoch 155/200\n",
      "20/20 [==============================] - 0s 11ms/step - loss: 0.4891 - accuracy: 0.7812 - val_loss: 0.2091 - val_accuracy: 0.9583\n",
      "Epoch 156/200\n",
      "20/20 [==============================] - 0s 12ms/step - loss: 0.4114 - accuracy: 0.8854 - val_loss: 0.2443 - val_accuracy: 0.8750\n",
      "Epoch 157/200\n",
      "20/20 [==============================] - 0s 11ms/step - loss: 0.4325 - accuracy: 0.8542 - val_loss: 0.2722 - val_accuracy: 0.8750\n",
      "Epoch 158/200\n",
      "20/20 [==============================] - 0s 11ms/step - loss: 0.4184 - accuracy: 0.8542 - val_loss: 0.2977 - val_accuracy: 0.8750\n",
      "Epoch 159/200\n",
      "20/20 [==============================] - 0s 10ms/step - loss: 0.4495 - accuracy: 0.8021 - val_loss: 0.2797 - val_accuracy: 0.8750\n",
      "Epoch 160/200\n",
      "20/20 [==============================] - 0s 11ms/step - loss: 0.4325 - accuracy: 0.8021 - val_loss: 0.2499 - val_accuracy: 0.8750\n",
      "Epoch 161/200\n",
      "20/20 [==============================] - 0s 12ms/step - loss: 0.5336 - accuracy: 0.7812 - val_loss: 0.2718 - val_accuracy: 0.8750\n",
      "Epoch 162/200\n",
      "20/20 [==============================] - 0s 10ms/step - loss: 0.3562 - accuracy: 0.8854 - val_loss: 0.2565 - val_accuracy: 0.8750\n",
      "Epoch 163/200\n",
      "20/20 [==============================] - 0s 11ms/step - loss: 0.5102 - accuracy: 0.8125 - val_loss: 0.2190 - val_accuracy: 0.9167\n",
      "Epoch 164/200\n",
      "20/20 [==============================] - 0s 9ms/step - loss: 0.4421 - accuracy: 0.8646 - val_loss: 0.2688 - val_accuracy: 0.8750\n",
      "Epoch 165/200\n",
      "20/20 [==============================] - 0s 13ms/step - loss: 0.4578 - accuracy: 0.7708 - val_loss: 0.3096 - val_accuracy: 0.8750\n",
      "Epoch 166/200\n",
      "20/20 [==============================] - 0s 12ms/step - loss: 0.4547 - accuracy: 0.8438 - val_loss: 0.3064 - val_accuracy: 0.8750\n",
      "Epoch 167/200\n",
      "20/20 [==============================] - 0s 13ms/step - loss: 0.4606 - accuracy: 0.8542 - val_loss: 0.2659 - val_accuracy: 0.8750\n",
      "Epoch 168/200\n",
      "20/20 [==============================] - 0s 11ms/step - loss: 0.3757 - accuracy: 0.8542 - val_loss: 0.2569 - val_accuracy: 0.8750\n",
      "Epoch 169/200\n",
      "20/20 [==============================] - 0s 12ms/step - loss: 0.4090 - accuracy: 0.8646 - val_loss: 0.2856 - val_accuracy: 0.8750\n",
      "Epoch 170/200\n",
      "20/20 [==============================] - 0s 10ms/step - loss: 0.4241 - accuracy: 0.8438 - val_loss: 0.3149 - val_accuracy: 0.8750\n",
      "Epoch 171/200\n",
      "20/20 [==============================] - 0s 10ms/step - loss: 0.4370 - accuracy: 0.8438 - val_loss: 0.2410 - val_accuracy: 0.8750\n",
      "Epoch 172/200\n",
      "20/20 [==============================] - 0s 9ms/step - loss: 0.4396 - accuracy: 0.8542 - val_loss: 0.2353 - val_accuracy: 0.9167\n",
      "Epoch 173/200\n",
      "20/20 [==============================] - 0s 11ms/step - loss: 0.4255 - accuracy: 0.8750 - val_loss: 0.2922 - val_accuracy: 0.8750\n",
      "Epoch 174/200\n",
      "20/20 [==============================] - 0s 9ms/step - loss: 0.4054 - accuracy: 0.8438 - val_loss: 0.2652 - val_accuracy: 0.8750\n",
      "Epoch 175/200\n",
      "20/20 [==============================] - 0s 9ms/step - loss: 0.4536 - accuracy: 0.8021 - val_loss: 0.2873 - val_accuracy: 0.8750\n",
      "Epoch 176/200\n",
      "20/20 [==============================] - 0s 14ms/step - loss: 0.4253 - accuracy: 0.8229 - val_loss: 0.2959 - val_accuracy: 0.8750\n",
      "Epoch 177/200\n",
      "20/20 [==============================] - 0s 11ms/step - loss: 0.4819 - accuracy: 0.8125 - val_loss: 0.3188 - val_accuracy: 0.8750\n",
      "Epoch 178/200\n",
      "20/20 [==============================] - 0s 10ms/step - loss: 0.4971 - accuracy: 0.7708 - val_loss: 0.2897 - val_accuracy: 0.8750\n",
      "Epoch 179/200\n",
      "20/20 [==============================] - 0s 10ms/step - loss: 0.4254 - accuracy: 0.8229 - val_loss: 0.3703 - val_accuracy: 0.8750\n",
      "Epoch 180/200\n",
      "20/20 [==============================] - 0s 9ms/step - loss: 0.5057 - accuracy: 0.8229 - val_loss: 0.2682 - val_accuracy: 0.8750\n",
      "Epoch 181/200\n",
      "20/20 [==============================] - 0s 10ms/step - loss: 0.4499 - accuracy: 0.8438 - val_loss: 0.2679 - val_accuracy: 0.8750\n",
      "Epoch 182/200\n",
      "20/20 [==============================] - 0s 9ms/step - loss: 0.3365 - accuracy: 0.8750 - val_loss: 0.2561 - val_accuracy: 0.8750\n",
      "Epoch 183/200\n",
      "20/20 [==============================] - 0s 10ms/step - loss: 0.4026 - accuracy: 0.8958 - val_loss: 0.2783 - val_accuracy: 0.8750\n",
      "Epoch 184/200\n",
      "20/20 [==============================] - ETA: 0s - loss: 0.3862 - accuracy: 0.82 - 0s 10ms/step - loss: 0.4150 - accuracy: 0.8229 - val_loss: 0.2460 - val_accuracy: 0.8750\n",
      "Epoch 185/200\n",
      "20/20 [==============================] - 0s 9ms/step - loss: 0.3718 - accuracy: 0.8646 - val_loss: 0.2919 - val_accuracy: 0.8750\n",
      "Epoch 186/200\n",
      "20/20 [==============================] - 0s 10ms/step - loss: 0.4361 - accuracy: 0.8646 - val_loss: 0.2612 - val_accuracy: 0.8750\n",
      "Epoch 187/200\n",
      "20/20 [==============================] - 0s 8ms/step - loss: 0.4499 - accuracy: 0.8333 - val_loss: 0.3041 - val_accuracy: 0.8750\n",
      "Epoch 188/200\n",
      "20/20 [==============================] - 0s 8ms/step - loss: 0.4547 - accuracy: 0.8438 - val_loss: 0.3024 - val_accuracy: 0.8750\n",
      "Epoch 189/200\n",
      "20/20 [==============================] - 0s 8ms/step - loss: 0.4361 - accuracy: 0.8438 - val_loss: 0.2455 - val_accuracy: 0.8750\n",
      "Epoch 190/200\n",
      "20/20 [==============================] - 0s 8ms/step - loss: 0.4295 - accuracy: 0.8438 - val_loss: 0.3044 - val_accuracy: 0.8750\n",
      "Epoch 191/200\n",
      "20/20 [==============================] - 0s 9ms/step - loss: 0.4473 - accuracy: 0.8750 - val_loss: 0.2753 - val_accuracy: 0.8750\n",
      "Epoch 192/200\n",
      "20/20 [==============================] - 0s 12ms/step - loss: 0.4511 - accuracy: 0.7917 - val_loss: 0.2969 - val_accuracy: 0.8750\n",
      "Epoch 193/200\n",
      "20/20 [==============================] - 0s 10ms/step - loss: 0.4039 - accuracy: 0.8333 - val_loss: 0.2745 - val_accuracy: 0.8750\n",
      "Epoch 194/200\n",
      "20/20 [==============================] - 0s 7ms/step - loss: 0.4579 - accuracy: 0.7917 - val_loss: 0.2795 - val_accuracy: 0.8750\n",
      "Epoch 195/200\n",
      "20/20 [==============================] - 0s 7ms/step - loss: 0.4424 - accuracy: 0.8229 - val_loss: 0.2906 - val_accuracy: 0.8750\n",
      "Epoch 196/200\n",
      "20/20 [==============================] - 0s 12ms/step - loss: 0.4503 - accuracy: 0.8333 - val_loss: 0.3036 - val_accuracy: 0.8750\n",
      "Epoch 197/200\n",
      "20/20 [==============================] - 0s 9ms/step - loss: 0.4125 - accuracy: 0.8125 - val_loss: 0.2649 - val_accuracy: 0.8750\n",
      "Epoch 198/200\n",
      "20/20 [==============================] - 0s 10ms/step - loss: 0.4534 - accuracy: 0.8333 - val_loss: 0.2900 - val_accuracy: 0.8750\n",
      "Epoch 199/200\n",
      "20/20 [==============================] - 0s 10ms/step - loss: 0.4638 - accuracy: 0.8229 - val_loss: 0.3079 - val_accuracy: 0.8750\n",
      "Epoch 200/200\n",
      "20/20 [==============================] - 0s 12ms/step - loss: 0.3645 - accuracy: 0.8542 - val_loss: 0.2933 - val_accuracy: 0.8750\n"
     ]
    }
   ],
   "source": [
    "history = model.fit(train_x,train_y,epochs=200,batch_size=5,validation_split=0.2)"
   ]
  },
  {
   "cell_type": "markdown",
   "metadata": {},
   "source": [
    "# + Evaluatution"
   ]
  },
  {
   "cell_type": "code",
   "execution_count": 14,
   "metadata": {},
   "outputs": [
    {
     "name": "stdout",
     "output_type": "stream",
     "text": [
      "1/1 [==============================] - 0s 267ms/step - loss: 0.0509 - accuracy: 1.0000\n",
      "Final test set loss: 0.050933\n",
      "Final test set accuracy: 1.000000\n"
     ]
    }
   ],
   "source": [
    "# Test on unseen data\n",
    "results = model.evaluate(test_x, test_y)\n",
    "\n",
    "print('Final test set loss: {:4f}'.format(results[0]))\n",
    "print('Final test set accuracy: {:4f}'.format(results[1]))"
   ]
  },
  {
   "cell_type": "code",
   "execution_count": null,
   "metadata": {},
   "outputs": [],
   "source": []
  }
 ],
 "metadata": {
  "interpreter": {
   "hash": "916dbcbb3f70747c44a77c7bcd40155683ae19c65e1c03b4aa3499c5328201f1"
  },
  "kernelspec": {
   "display_name": "Python 3.9.7 64-bit",
   "language": "python",
   "name": "python3"
  },
  "language_info": {
   "codemirror_mode": {
    "name": "ipython",
    "version": 3
   },
   "file_extension": ".py",
   "mimetype": "text/x-python",
   "name": "python",
   "nbconvert_exporter": "python",
   "pygments_lexer": "ipython3",
   "version": "3.9.7"
  },
  "orig_nbformat": 4
 },
 "nbformat": 4,
 "nbformat_minor": 2
}
