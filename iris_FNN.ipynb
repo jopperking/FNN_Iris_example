{
 "cells": [
  {
   "cell_type": "markdown",
   "metadata": {},
   "source": [
    "<h1><center><div style=\"direction:rtl;font-family:B Lotus, B Nazanin, Tahoma\"> بسم الله الرحمن الرحیم</div></center></h1>"
   ]
  },
  {
   "cell_type": "markdown",
   "metadata": {},
   "source": [
    "<h1><center><div style=\"direction:rtl;font-family:B Lotus, B Nazanin, Tahoma\"> Classification with fully connected neural network with the IRIS dataset</div></center></h1>"
   ]
  },
  {
   "cell_type": "markdown",
   "metadata": {},
   "source": [
    "## About\n",
    "```\n",
    "The structural data set of the findings includes 4 characteristics for the length and width of the sepals and petals, based on which the type of flower is distinguished from 3 different classes.\n",
    "``` "
   ]
  },
  {
   "cell_type": "markdown",
   "metadata": {},
   "source": [
    "# Import required libraries"
   ]
  },
  {
   "cell_type": "code",
   "execution_count": 1,
   "metadata": {},
   "outputs": [
    {
     "name": "stderr",
     "output_type": "stream",
     "text": [
      "2022-03-16 17:57:44.023190: W tensorflow/stream_executor/platform/default/dso_loader.cc:64] Could not load dynamic library 'libcudart.so.11.0'; dlerror: libcudart.so.11.0: cannot open shared object file: No such file or directory\n",
      "2022-03-16 17:57:44.023234: I tensorflow/stream_executor/cuda/cudart_stub.cc:29] Ignore above cudart dlerror if you do not have a GPU set up on your machine.\n"
     ]
    }
   ],
   "source": [
    "import numpy as np\n",
    "from tensorflow import keras # Datasetas"
   ]
  },
  {
   "cell_type": "markdown",
   "metadata": {},
   "source": [
    "# About Dataset"
   ]
  },
  {
   "cell_type": "markdown",
   "metadata": {},
   "source": [
    "+ Descriptions of this dataset are available on this website:\n",
    "\n",
    "  + https://archive.ics.uci.edu/ml/datasets/iris \n",
    "\n",
    "---\n",
    "\n",
    "+ Attribute Information:\n",
    "\n",
    "    + sepal length in cm\n",
    "    + sepal width in cm\n",
    "    + petal length in cm\n",
    "    + petal width in cm\n",
    "\n",
    "---\n",
    "\n",
    "+ class:\n",
    "\n",
    "    + Iris Setosa\n",
    "    + Iris Versicolour\n",
    "    + Iris Virginica\n",
    "\n"
   ]
  },
  {
   "cell_type": "markdown",
   "metadata": {},
   "source": [
    "# + Load Dataset"
   ]
  },
  {
   "cell_type": "code",
   "execution_count": 2,
   "metadata": {},
   "outputs": [
    {
     "name": "stdout",
     "output_type": "stream",
     "text": [
      "Sample of Features:\n",
      "[[5.1 3.5 1.4 0.2]\n",
      " [4.9 3.  1.4 0.2]\n",
      " [4.7 3.2 1.3 0.2]\n",
      " [4.6 3.1 1.5 0.2]\n",
      " [5.  3.6 1.4 0.2]]\n",
      "\n",
      "\n",
      "Sample of Classes:\n",
      "[0 0 0 0 0]\n"
     ]
    }
   ],
   "source": [
    "from sklearn.datasets import load_iris\n",
    "\n",
    "iris_data = load_iris() # load the iris dataset\n",
    "\n",
    "x = iris_data.data # Features\n",
    "y = iris_data.target # Classes\n",
    "\n",
    "print(\"Sample of Features:\")\n",
    "print(x[:5])\n",
    "\n",
    "print(\"\\n\")\n",
    "\n",
    "print(\"Sample of Classes:\")\n",
    "print(y[:5])"
   ]
  },
  {
   "cell_type": "markdown",
   "metadata": {},
   "source": [
    "# + Preprocessing"
   ]
  },
  {
   "cell_type": "code",
   "execution_count": 3,
   "metadata": {},
   "outputs": [
    {
     "name": "stdout",
     "output_type": "stream",
     "text": [
      "Sample of Classes in a single column:\n"
     ]
    },
    {
     "data": {
      "text/plain": [
       "array([[0],\n",
       "       [0],\n",
       "       [0],\n",
       "       [0],\n",
       "       [0]])"
      ]
     },
     "execution_count": 3,
     "metadata": {},
     "output_type": "execute_result"
    }
   ],
   "source": [
    "# Convert data to a single column\n",
    "y = y.reshape(-1, 1) \n",
    "\n",
    "print(\"Sample of Classes in a single column:\")\n",
    "y[:5]"
   ]
  },
  {
   "cell_type": "code",
   "execution_count": 4,
   "metadata": {},
   "outputs": [
    {
     "name": "stdout",
     "output_type": "stream",
     "text": [
      "Classes are:\n",
      "[0 1 2]\n"
     ]
    },
    {
     "data": {
      "text/plain": [
       "3"
      ]
     },
     "execution_count": 4,
     "metadata": {},
     "output_type": "execute_result"
    }
   ],
   "source": [
    "# Store Number of classes befor convert to one-hot\n",
    "print('Classes are:')\n",
    "print(np.unique(y)) # Classes\n",
    "number_of_classes = len(np.unique(y)) # 3\n",
    "number_of_classes"
   ]
  },
  {
   "cell_type": "code",
   "execution_count": 5,
   "metadata": {},
   "outputs": [
    {
     "data": {
      "text/plain": [
       "array([[1., 0., 0.],\n",
       "       [1., 0., 0.],\n",
       "       [1., 0., 0.],\n",
       "       [1., 0., 0.],\n",
       "       [1., 0., 0.]], dtype=float32)"
      ]
     },
     "execution_count": 5,
     "metadata": {},
     "output_type": "execute_result"
    }
   ],
   "source": [
    "# Convert classes in one-hot\n",
    "\n",
    "y = keras.utils.to_categorical(y , num_classes=3)\n",
    "y[:5]"
   ]
  },
  {
   "cell_type": "markdown",
   "metadata": {},
   "source": [
    "# + Split the data"
   ]
  },
  {
   "cell_type": "code",
   "execution_count": 6,
   "metadata": {},
   "outputs": [
    {
     "data": {
      "text/plain": [
       "array([[5.9, 3. , 4.2, 1.5],\n",
       "       [6.5, 3.2, 5.1, 2. ],\n",
       "       [6.3, 2.9, 5.6, 1.8],\n",
       "       [5.4, 3.9, 1.3, 0.4],\n",
       "       [4.8, 3.1, 1.6, 0.2]])"
      ]
     },
     "execution_count": 6,
     "metadata": {},
     "output_type": "execute_result"
    }
   ],
   "source": [
    "from sklearn.model_selection import train_test_split\n",
    "\n",
    "# Split the data for training and testing\n",
    "train_x, test_x, train_y, test_y = train_test_split(x, y, test_size=0.20)\n",
    "train_x[:5]"
   ]
  },
  {
   "cell_type": "markdown",
   "metadata": {},
   "source": [
    "# + Initial Neural Network"
   ]
  },
  {
   "cell_type": "code",
   "execution_count": null,
   "metadata": {},
   "outputs": [],
   "source": [
    "from keras.models import Sequential\n",
    "from keras.layers import Dense, Dropout\n",
    "\n",
    "# Store input dimention\n",
    "size_sample , dimantion = x.shape\n",
    "\n",
    "model = Sequential()\n",
    "model.add(Dense(10 , activation='relu' , input_dim=dimantion)) # 1st Layerst\n",
    "model.add(Dense(10 , activation='relu' )) # 2nd Layer\n",
    "model.add(Dropout(0.5)) # Droupout ( kill 50% of neurals)\n",
    "model.add(Dense(number_of_classes, activation='softmax')) # Final Layer"
   ]
  },
  {
   "cell_type": "code",
   "execution_count": 8,
   "metadata": {},
   "outputs": [
    {
     "name": "stdout",
     "output_type": "stream",
     "text": [
      "Model: \"sequential\"\n",
      "_________________________________________________________________\n",
      " Layer (type)                Output Shape              Param #   \n",
      "=================================================================\n",
      " dense (Dense)               (None, 10)                50        \n",
      "                                                                 \n",
      " dense_1 (Dense)             (None, 10)                110       \n",
      "                                                                 \n",
      " dropout (Dropout)           (None, 10)                0         \n",
      "                                                                 \n",
      " dense_2 (Dense)             (None, 3)                 33        \n",
      "                                                                 \n",
      "=================================================================\n",
      "Total params: 193\n",
      "Trainable params: 193\n",
      "Non-trainable params: 0\n",
      "_________________________________________________________________\n"
     ]
    }
   ],
   "source": [
    "# Summary of created Neural Network\n",
    "model.summary()"
   ]
  },
  {
   "cell_type": "markdown",
   "metadata": {},
   "source": [
    "# + Optimizing\n"
   ]
  },
  {
   "cell_type": "code",
   "execution_count": 9,
   "metadata": {},
   "outputs": [
    {
     "name": "stderr",
     "output_type": "stream",
     "text": [
      "/usr/local/lib/python3.9/dist-packages/keras/optimizer_v2/adam.py:105: UserWarning: The `lr` argument is deprecated, use `learning_rate` instead.\n",
      "  super(Adam, self).__init__(name, **kwargs)\n"
     ]
    }
   ],
   "source": [
    "from tensorflow.keras.optimizers import Adam\n",
    "\n",
    "# Adam optimizer with learning rate of 0.001\n",
    "optimizer = Adam(lr=0.001)\n",
    "model.compile(optimizer, loss='categorical_crossentropy', metrics=['accuracy'])\n"
   ]
  },
  {
   "cell_type": "markdown",
   "metadata": {},
   "source": [
    "# + Learning"
   ]
  },
  {
   "cell_type": "code",
   "execution_count": 10,
   "metadata": {},
   "outputs": [
    {
     "name": "stdout",
     "output_type": "stream",
     "text": [
      "Epoch 1/200\n",
      "20/20 [==============================] - 2s 33ms/step - loss: 1.1639 - accuracy: 0.3542 - val_loss: 1.1512 - val_accuracy: 0.3333\n",
      "Epoch 2/200\n",
      "20/20 [==============================] - 0s 10ms/step - loss: 1.1314 - accuracy: 0.3646 - val_loss: 1.1195 - val_accuracy: 0.3333\n",
      "Epoch 3/200\n",
      "20/20 [==============================] - 0s 10ms/step - loss: 1.1642 - accuracy: 0.2604 - val_loss: 1.0857 - val_accuracy: 0.3333\n",
      "Epoch 4/200\n",
      "20/20 [==============================] - 0s 11ms/step - loss: 1.0866 - accuracy: 0.3750 - val_loss: 1.0033 - val_accuracy: 0.3333\n",
      "Epoch 5/200\n",
      "20/20 [==============================] - 0s 11ms/step - loss: 1.0025 - accuracy: 0.4271 - val_loss: 0.9703 - val_accuracy: 0.3333\n",
      "Epoch 6/200\n",
      "20/20 [==============================] - 0s 9ms/step - loss: 1.0052 - accuracy: 0.3958 - val_loss: 0.9444 - val_accuracy: 0.3750\n",
      "Epoch 7/200\n",
      "20/20 [==============================] - 0s 11ms/step - loss: 0.9823 - accuracy: 0.4271 - val_loss: 0.9172 - val_accuracy: 0.6250\n",
      "Epoch 8/200\n",
      "20/20 [==============================] - 0s 9ms/step - loss: 0.9120 - accuracy: 0.5833 - val_loss: 0.8906 - val_accuracy: 0.6667\n",
      "Epoch 9/200\n",
      "20/20 [==============================] - 0s 14ms/step - loss: 0.9214 - accuracy: 0.5833 - val_loss: 0.8663 - val_accuracy: 0.6667\n",
      "Epoch 10/200\n",
      "20/20 [==============================] - 0s 11ms/step - loss: 0.8979 - accuracy: 0.6042 - val_loss: 0.8468 - val_accuracy: 0.6667\n",
      "Epoch 11/200\n",
      "20/20 [==============================] - 0s 12ms/step - loss: 0.8873 - accuracy: 0.5729 - val_loss: 0.8209 - val_accuracy: 0.6667\n",
      "Epoch 12/200\n",
      "20/20 [==============================] - 0s 10ms/step - loss: 0.8091 - accuracy: 0.6250 - val_loss: 0.7923 - val_accuracy: 0.6667\n",
      "Epoch 13/200\n",
      "20/20 [==============================] - 0s 12ms/step - loss: 0.7975 - accuracy: 0.6250 - val_loss: 0.7741 - val_accuracy: 0.6667\n",
      "Epoch 14/200\n",
      "20/20 [==============================] - 0s 10ms/step - loss: 0.8110 - accuracy: 0.6146 - val_loss: 0.7499 - val_accuracy: 0.6667\n",
      "Epoch 15/200\n",
      "20/20 [==============================] - 0s 12ms/step - loss: 0.7954 - accuracy: 0.5417 - val_loss: 0.7300 - val_accuracy: 0.6667\n",
      "Epoch 16/200\n",
      "20/20 [==============================] - 0s 10ms/step - loss: 0.7520 - accuracy: 0.6667 - val_loss: 0.7095 - val_accuracy: 0.6667\n",
      "Epoch 17/200\n",
      "20/20 [==============================] - 0s 9ms/step - loss: 0.7656 - accuracy: 0.6458 - val_loss: 0.6909 - val_accuracy: 0.6667\n",
      "Epoch 18/200\n",
      "20/20 [==============================] - 0s 10ms/step - loss: 0.7698 - accuracy: 0.6771 - val_loss: 0.6714 - val_accuracy: 0.6667\n",
      "Epoch 19/200\n",
      "20/20 [==============================] - 0s 9ms/step - loss: 0.7388 - accuracy: 0.6458 - val_loss: 0.6529 - val_accuracy: 0.6667\n",
      "Epoch 20/200\n",
      "20/20 [==============================] - 0s 11ms/step - loss: 0.6991 - accuracy: 0.6250 - val_loss: 0.6341 - val_accuracy: 0.6667\n",
      "Epoch 21/200\n",
      "20/20 [==============================] - 0s 11ms/step - loss: 0.6998 - accuracy: 0.6562 - val_loss: 0.6173 - val_accuracy: 0.6667\n",
      "Epoch 22/200\n",
      "20/20 [==============================] - 0s 9ms/step - loss: 0.7377 - accuracy: 0.6458 - val_loss: 0.6067 - val_accuracy: 0.6667\n",
      "Epoch 23/200\n",
      "20/20 [==============================] - 0s 11ms/step - loss: 0.6976 - accuracy: 0.6458 - val_loss: 0.5936 - val_accuracy: 0.6667\n",
      "Epoch 24/200\n",
      "20/20 [==============================] - 0s 9ms/step - loss: 0.7182 - accuracy: 0.6354 - val_loss: 0.5784 - val_accuracy: 0.6667\n",
      "Epoch 25/200\n",
      "20/20 [==============================] - 0s 12ms/step - loss: 0.6480 - accuracy: 0.6146 - val_loss: 0.5671 - val_accuracy: 0.6667\n",
      "Epoch 26/200\n",
      "20/20 [==============================] - 0s 12ms/step - loss: 0.6567 - accuracy: 0.6458 - val_loss: 0.5572 - val_accuracy: 0.6667\n",
      "Epoch 27/200\n",
      "20/20 [==============================] - 0s 11ms/step - loss: 0.6796 - accuracy: 0.6562 - val_loss: 0.5482 - val_accuracy: 0.6667\n",
      "Epoch 28/200\n",
      "20/20 [==============================] - 0s 11ms/step - loss: 0.6592 - accuracy: 0.6562 - val_loss: 0.5419 - val_accuracy: 0.6667\n",
      "Epoch 29/200\n",
      "20/20 [==============================] - 0s 11ms/step - loss: 0.6710 - accuracy: 0.6875 - val_loss: 0.5285 - val_accuracy: 0.7917\n",
      "Epoch 30/200\n",
      "20/20 [==============================] - 0s 10ms/step - loss: 0.6663 - accuracy: 0.6667 - val_loss: 0.5215 - val_accuracy: 0.7917\n",
      "Epoch 31/200\n",
      "20/20 [==============================] - 0s 11ms/step - loss: 0.6114 - accuracy: 0.6979 - val_loss: 0.5197 - val_accuracy: 0.6667\n",
      "Epoch 32/200\n",
      "20/20 [==============================] - 0s 10ms/step - loss: 0.6491 - accuracy: 0.6771 - val_loss: 0.5060 - val_accuracy: 0.7917\n",
      "Epoch 33/200\n",
      "20/20 [==============================] - 0s 11ms/step - loss: 0.6470 - accuracy: 0.7188 - val_loss: 0.5060 - val_accuracy: 0.6667\n",
      "Epoch 34/200\n",
      "20/20 [==============================] - 0s 10ms/step - loss: 0.6350 - accuracy: 0.6771 - val_loss: 0.4913 - val_accuracy: 0.7917\n",
      "Epoch 35/200\n",
      "20/20 [==============================] - 0s 11ms/step - loss: 0.6401 - accuracy: 0.6875 - val_loss: 0.4889 - val_accuracy: 0.7917\n",
      "Epoch 36/200\n",
      "20/20 [==============================] - 0s 10ms/step - loss: 0.6216 - accuracy: 0.7188 - val_loss: 0.4842 - val_accuracy: 0.7917\n",
      "Epoch 37/200\n",
      "20/20 [==============================] - 0s 12ms/step - loss: 0.6245 - accuracy: 0.6667 - val_loss: 0.4799 - val_accuracy: 0.7917\n",
      "Epoch 38/200\n",
      "20/20 [==============================] - 0s 11ms/step - loss: 0.6079 - accuracy: 0.7188 - val_loss: 0.4759 - val_accuracy: 0.7917\n",
      "Epoch 39/200\n",
      "20/20 [==============================] - 0s 10ms/step - loss: 0.7159 - accuracy: 0.5625 - val_loss: 0.4687 - val_accuracy: 0.8750\n",
      "Epoch 40/200\n",
      "20/20 [==============================] - 0s 9ms/step - loss: 0.5880 - accuracy: 0.7292 - val_loss: 0.4691 - val_accuracy: 0.7917\n",
      "Epoch 41/200\n",
      "20/20 [==============================] - 0s 11ms/step - loss: 0.6420 - accuracy: 0.7188 - val_loss: 0.4827 - val_accuracy: 0.6667\n",
      "Epoch 42/200\n",
      "20/20 [==============================] - 0s 11ms/step - loss: 0.6417 - accuracy: 0.7083 - val_loss: 0.4565 - val_accuracy: 0.8333\n",
      "Epoch 43/200\n",
      "20/20 [==============================] - 0s 10ms/step - loss: 0.6287 - accuracy: 0.7396 - val_loss: 0.4553 - val_accuracy: 0.7917\n",
      "Epoch 44/200\n",
      "20/20 [==============================] - 0s 11ms/step - loss: 0.6299 - accuracy: 0.6771 - val_loss: 0.4508 - val_accuracy: 0.7917\n",
      "Epoch 45/200\n",
      "20/20 [==============================] - 0s 10ms/step - loss: 0.5771 - accuracy: 0.7083 - val_loss: 0.4461 - val_accuracy: 0.7917\n",
      "Epoch 46/200\n",
      "20/20 [==============================] - 0s 13ms/step - loss: 0.5698 - accuracy: 0.7708 - val_loss: 0.4390 - val_accuracy: 0.8333\n",
      "Epoch 47/200\n",
      "20/20 [==============================] - 0s 12ms/step - loss: 0.6226 - accuracy: 0.6562 - val_loss: 0.4351 - val_accuracy: 0.8333\n",
      "Epoch 48/200\n",
      "20/20 [==============================] - 0s 11ms/step - loss: 0.6081 - accuracy: 0.7500 - val_loss: 0.4310 - val_accuracy: 0.8333\n",
      "Epoch 49/200\n",
      "20/20 [==============================] - 0s 11ms/step - loss: 0.6119 - accuracy: 0.7188 - val_loss: 0.4312 - val_accuracy: 0.8333\n",
      "Epoch 50/200\n",
      "20/20 [==============================] - 0s 10ms/step - loss: 0.6470 - accuracy: 0.7396 - val_loss: 0.4232 - val_accuracy: 0.8333\n",
      "Epoch 51/200\n",
      "20/20 [==============================] - 0s 10ms/step - loss: 0.5966 - accuracy: 0.7188 - val_loss: 0.4182 - val_accuracy: 0.8750\n",
      "Epoch 52/200\n",
      "20/20 [==============================] - 0s 12ms/step - loss: 0.5468 - accuracy: 0.7604 - val_loss: 0.4186 - val_accuracy: 0.8333\n",
      "Epoch 53/200\n",
      "20/20 [==============================] - 0s 9ms/step - loss: 0.5033 - accuracy: 0.7917 - val_loss: 0.4138 - val_accuracy: 0.8333\n",
      "Epoch 54/200\n",
      "20/20 [==============================] - 0s 12ms/step - loss: 0.5584 - accuracy: 0.7188 - val_loss: 0.4074 - val_accuracy: 0.8750\n",
      "Epoch 55/200\n",
      "20/20 [==============================] - 0s 10ms/step - loss: 0.5834 - accuracy: 0.7708 - val_loss: 0.4328 - val_accuracy: 0.7500\n",
      "Epoch 56/200\n",
      "20/20 [==============================] - 0s 11ms/step - loss: 0.5504 - accuracy: 0.7188 - val_loss: 0.4071 - val_accuracy: 0.8333\n",
      "Epoch 57/200\n",
      "20/20 [==============================] - 0s 10ms/step - loss: 0.6171 - accuracy: 0.7292 - val_loss: 0.3999 - val_accuracy: 0.8750\n",
      "Epoch 58/200\n",
      "20/20 [==============================] - 0s 10ms/step - loss: 0.5622 - accuracy: 0.7812 - val_loss: 0.3974 - val_accuracy: 0.8333\n",
      "Epoch 59/200\n",
      "20/20 [==============================] - 0s 9ms/step - loss: 0.5496 - accuracy: 0.7708 - val_loss: 0.3942 - val_accuracy: 0.8333\n",
      "Epoch 60/200\n",
      "20/20 [==============================] - 0s 11ms/step - loss: 0.5207 - accuracy: 0.7396 - val_loss: 0.3892 - val_accuracy: 0.8750\n",
      "Epoch 61/200\n",
      "20/20 [==============================] - 0s 11ms/step - loss: 0.6492 - accuracy: 0.6875 - val_loss: 0.3868 - val_accuracy: 0.8750\n",
      "Epoch 62/200\n",
      "20/20 [==============================] - 0s 11ms/step - loss: 0.5955 - accuracy: 0.7604 - val_loss: 0.3841 - val_accuracy: 0.8750\n",
      "Epoch 63/200\n",
      "20/20 [==============================] - 0s 10ms/step - loss: 0.5571 - accuracy: 0.7708 - val_loss: 0.3824 - val_accuracy: 0.8750\n",
      "Epoch 64/200\n",
      "20/20 [==============================] - 0s 10ms/step - loss: 0.5327 - accuracy: 0.8125 - val_loss: 0.3800 - val_accuracy: 0.8750\n",
      "Epoch 65/200\n",
      "20/20 [==============================] - 0s 10ms/step - loss: 0.6091 - accuracy: 0.7292 - val_loss: 0.3768 - val_accuracy: 0.8750\n",
      "Epoch 66/200\n",
      "20/20 [==============================] - 0s 10ms/step - loss: 0.5591 - accuracy: 0.7500 - val_loss: 0.3781 - val_accuracy: 0.8750\n",
      "Epoch 67/200\n",
      "20/20 [==============================] - 0s 10ms/step - loss: 0.6074 - accuracy: 0.7083 - val_loss: 0.3728 - val_accuracy: 0.8750\n",
      "Epoch 68/200\n",
      "20/20 [==============================] - 0s 10ms/step - loss: 0.5786 - accuracy: 0.7917 - val_loss: 0.3712 - val_accuracy: 0.8750\n",
      "Epoch 69/200\n",
      "20/20 [==============================] - 0s 10ms/step - loss: 0.5744 - accuracy: 0.7500 - val_loss: 0.3691 - val_accuracy: 0.8750\n",
      "Epoch 70/200\n",
      "20/20 [==============================] - 0s 9ms/step - loss: 0.5684 - accuracy: 0.7812 - val_loss: 0.3684 - val_accuracy: 0.8750\n",
      "Epoch 71/200\n",
      "20/20 [==============================] - 0s 9ms/step - loss: 0.5568 - accuracy: 0.7500 - val_loss: 0.3676 - val_accuracy: 0.8750\n",
      "Epoch 72/200\n",
      "20/20 [==============================] - 0s 12ms/step - loss: 0.5524 - accuracy: 0.7604 - val_loss: 0.3637 - val_accuracy: 0.8750\n",
      "Epoch 73/200\n",
      "20/20 [==============================] - 0s 10ms/step - loss: 0.5566 - accuracy: 0.7396 - val_loss: 0.3624 - val_accuracy: 0.8750\n",
      "Epoch 74/200\n",
      "20/20 [==============================] - 0s 10ms/step - loss: 0.5408 - accuracy: 0.7708 - val_loss: 0.3625 - val_accuracy: 0.8750\n",
      "Epoch 75/200\n",
      "20/20 [==============================] - 0s 11ms/step - loss: 0.5421 - accuracy: 0.7396 - val_loss: 0.3608 - val_accuracy: 0.8750\n",
      "Epoch 76/200\n",
      "20/20 [==============================] - 0s 11ms/step - loss: 0.6490 - accuracy: 0.7396 - val_loss: 0.3591 - val_accuracy: 0.9167\n",
      "Epoch 77/200\n",
      "20/20 [==============================] - 0s 10ms/step - loss: 0.5980 - accuracy: 0.8125 - val_loss: 0.3610 - val_accuracy: 0.8750\n",
      "Epoch 78/200\n",
      "20/20 [==============================] - 0s 10ms/step - loss: 0.5520 - accuracy: 0.7604 - val_loss: 0.3524 - val_accuracy: 0.8750\n",
      "Epoch 79/200\n",
      "20/20 [==============================] - 0s 12ms/step - loss: 0.5665 - accuracy: 0.7396 - val_loss: 0.3507 - val_accuracy: 0.8750\n",
      "Epoch 80/200\n",
      "20/20 [==============================] - 0s 11ms/step - loss: 0.5803 - accuracy: 0.7500 - val_loss: 0.3499 - val_accuracy: 0.8750\n",
      "Epoch 81/200\n",
      "20/20 [==============================] - 0s 10ms/step - loss: 0.5727 - accuracy: 0.7604 - val_loss: 0.3515 - val_accuracy: 0.8750\n",
      "Epoch 82/200\n",
      "20/20 [==============================] - 0s 10ms/step - loss: 0.5824 - accuracy: 0.7708 - val_loss: 0.3504 - val_accuracy: 0.8750\n",
      "Epoch 83/200\n",
      "20/20 [==============================] - 0s 9ms/step - loss: 0.4983 - accuracy: 0.7917 - val_loss: 0.3503 - val_accuracy: 0.8750\n",
      "Epoch 84/200\n",
      "20/20 [==============================] - 0s 8ms/step - loss: 0.5214 - accuracy: 0.7604 - val_loss: 0.3455 - val_accuracy: 0.8750\n",
      "Epoch 85/200\n",
      "20/20 [==============================] - 0s 8ms/step - loss: 0.5594 - accuracy: 0.7396 - val_loss: 0.3602 - val_accuracy: 0.8333\n",
      "Epoch 86/200\n",
      "20/20 [==============================] - 0s 8ms/step - loss: 0.5418 - accuracy: 0.7708 - val_loss: 0.3459 - val_accuracy: 0.8750\n",
      "Epoch 87/200\n",
      "20/20 [==============================] - 0s 9ms/step - loss: 0.5682 - accuracy: 0.7188 - val_loss: 0.3548 - val_accuracy: 0.8333\n",
      "Epoch 88/200\n",
      "20/20 [==============================] - 0s 10ms/step - loss: 0.5426 - accuracy: 0.7917 - val_loss: 0.3429 - val_accuracy: 0.8750\n",
      "Epoch 89/200\n",
      "20/20 [==============================] - 0s 9ms/step - loss: 0.5531 - accuracy: 0.7083 - val_loss: 0.3457 - val_accuracy: 0.8750\n",
      "Epoch 90/200\n",
      "20/20 [==============================] - 0s 10ms/step - loss: 0.5497 - accuracy: 0.7917 - val_loss: 0.3447 - val_accuracy: 0.8750\n",
      "Epoch 91/200\n",
      "20/20 [==============================] - 0s 10ms/step - loss: 0.6367 - accuracy: 0.6875 - val_loss: 0.3392 - val_accuracy: 0.8750\n",
      "Epoch 92/200\n",
      "20/20 [==============================] - 0s 11ms/step - loss: 0.6053 - accuracy: 0.7292 - val_loss: 0.3385 - val_accuracy: 0.8750\n",
      "Epoch 93/200\n",
      "20/20 [==============================] - 0s 8ms/step - loss: 0.5031 - accuracy: 0.7188 - val_loss: 0.3364 - val_accuracy: 0.8750\n",
      "Epoch 94/200\n",
      "20/20 [==============================] - 0s 8ms/step - loss: 0.5898 - accuracy: 0.6979 - val_loss: 0.3390 - val_accuracy: 0.8750\n",
      "Epoch 95/200\n",
      "20/20 [==============================] - 0s 7ms/step - loss: 0.5278 - accuracy: 0.7292 - val_loss: 0.3336 - val_accuracy: 0.8750\n",
      "Epoch 96/200\n",
      "20/20 [==============================] - 0s 9ms/step - loss: 0.5173 - accuracy: 0.7708 - val_loss: 0.3323 - val_accuracy: 0.8750\n",
      "Epoch 97/200\n",
      "20/20 [==============================] - 0s 10ms/step - loss: 0.5472 - accuracy: 0.8125 - val_loss: 0.3356 - val_accuracy: 0.8750\n",
      "Epoch 98/200\n",
      "20/20 [==============================] - 0s 10ms/step - loss: 0.5416 - accuracy: 0.6979 - val_loss: 0.3333 - val_accuracy: 0.8750\n",
      "Epoch 99/200\n",
      "20/20 [==============================] - 0s 9ms/step - loss: 0.6016 - accuracy: 0.7083 - val_loss: 0.3349 - val_accuracy: 0.8750\n",
      "Epoch 100/200\n",
      "20/20 [==============================] - 0s 9ms/step - loss: 0.5043 - accuracy: 0.7708 - val_loss: 0.3300 - val_accuracy: 0.8750\n",
      "Epoch 101/200\n",
      "20/20 [==============================] - 0s 10ms/step - loss: 0.5478 - accuracy: 0.7396 - val_loss: 0.3313 - val_accuracy: 0.8750\n",
      "Epoch 102/200\n",
      "20/20 [==============================] - 0s 10ms/step - loss: 0.6293 - accuracy: 0.7604 - val_loss: 0.3285 - val_accuracy: 0.8750\n",
      "Epoch 103/200\n",
      "20/20 [==============================] - 0s 11ms/step - loss: 0.5098 - accuracy: 0.7917 - val_loss: 0.3268 - val_accuracy: 0.8750\n",
      "Epoch 104/200\n",
      "20/20 [==============================] - 0s 9ms/step - loss: 0.6069 - accuracy: 0.7396 - val_loss: 0.3334 - val_accuracy: 0.8750\n",
      "Epoch 105/200\n",
      "20/20 [==============================] - 0s 12ms/step - loss: 0.5444 - accuracy: 0.6875 - val_loss: 0.3260 - val_accuracy: 0.8750\n",
      "Epoch 106/200\n",
      "20/20 [==============================] - 0s 11ms/step - loss: 0.5311 - accuracy: 0.7396 - val_loss: 0.3243 - val_accuracy: 0.8750\n",
      "Epoch 107/200\n",
      "20/20 [==============================] - 0s 9ms/step - loss: 0.5438 - accuracy: 0.7500 - val_loss: 0.3314 - val_accuracy: 0.8750\n",
      "Epoch 108/200\n",
      "20/20 [==============================] - 0s 8ms/step - loss: 0.4762 - accuracy: 0.8021 - val_loss: 0.3321 - val_accuracy: 0.8750\n",
      "Epoch 109/200\n",
      "20/20 [==============================] - 0s 8ms/step - loss: 0.5931 - accuracy: 0.7188 - val_loss: 0.3203 - val_accuracy: 0.8750\n",
      "Epoch 110/200\n",
      "20/20 [==============================] - 0s 9ms/step - loss: 0.5574 - accuracy: 0.7500 - val_loss: 0.3225 - val_accuracy: 0.8750\n",
      "Epoch 111/200\n",
      "20/20 [==============================] - 0s 11ms/step - loss: 0.5183 - accuracy: 0.7396 - val_loss: 0.3179 - val_accuracy: 0.8750\n",
      "Epoch 112/200\n",
      "20/20 [==============================] - 0s 11ms/step - loss: 0.4867 - accuracy: 0.8021 - val_loss: 0.3268 - val_accuracy: 0.8750\n",
      "Epoch 113/200\n",
      "20/20 [==============================] - 0s 11ms/step - loss: 0.5455 - accuracy: 0.7812 - val_loss: 0.3156 - val_accuracy: 0.8750\n",
      "Epoch 114/200\n",
      "20/20 [==============================] - 0s 10ms/step - loss: 0.5069 - accuracy: 0.7708 - val_loss: 0.3170 - val_accuracy: 0.8750\n",
      "Epoch 115/200\n",
      "20/20 [==============================] - 0s 10ms/step - loss: 0.5895 - accuracy: 0.7188 - val_loss: 0.3210 - val_accuracy: 0.8750\n",
      "Epoch 116/200\n",
      "20/20 [==============================] - 0s 11ms/step - loss: 0.5263 - accuracy: 0.7500 - val_loss: 0.3190 - val_accuracy: 0.8750\n",
      "Epoch 117/200\n",
      "20/20 [==============================] - 0s 11ms/step - loss: 0.5032 - accuracy: 0.7917 - val_loss: 0.3110 - val_accuracy: 0.8750\n",
      "Epoch 118/200\n",
      "20/20 [==============================] - 0s 11ms/step - loss: 0.5345 - accuracy: 0.7396 - val_loss: 0.3155 - val_accuracy: 0.8750\n",
      "Epoch 119/200\n",
      "20/20 [==============================] - 0s 10ms/step - loss: 0.4584 - accuracy: 0.7708 - val_loss: 0.3196 - val_accuracy: 0.8750\n",
      "Epoch 120/200\n",
      "20/20 [==============================] - 0s 12ms/step - loss: 0.5215 - accuracy: 0.7708 - val_loss: 0.3123 - val_accuracy: 0.8750\n",
      "Epoch 121/200\n",
      "20/20 [==============================] - 0s 10ms/step - loss: 0.4697 - accuracy: 0.8333 - val_loss: 0.3255 - val_accuracy: 0.8750\n",
      "Epoch 122/200\n",
      "20/20 [==============================] - 0s 10ms/step - loss: 0.5525 - accuracy: 0.7708 - val_loss: 0.3151 - val_accuracy: 0.8750\n",
      "Epoch 123/200\n",
      "20/20 [==============================] - 0s 11ms/step - loss: 0.5216 - accuracy: 0.7604 - val_loss: 0.3049 - val_accuracy: 0.8750\n",
      "Epoch 124/200\n",
      "20/20 [==============================] - 0s 15ms/step - loss: 0.5776 - accuracy: 0.7188 - val_loss: 0.3073 - val_accuracy: 0.8750\n",
      "Epoch 125/200\n",
      "20/20 [==============================] - 0s 11ms/step - loss: 0.4919 - accuracy: 0.7917 - val_loss: 0.3051 - val_accuracy: 0.8750\n",
      "Epoch 126/200\n",
      "20/20 [==============================] - 0s 10ms/step - loss: 0.5172 - accuracy: 0.7708 - val_loss: 0.3044 - val_accuracy: 0.8750\n",
      "Epoch 127/200\n",
      "20/20 [==============================] - 0s 8ms/step - loss: 0.5207 - accuracy: 0.8125 - val_loss: 0.3027 - val_accuracy: 0.8750\n",
      "Epoch 128/200\n",
      "20/20 [==============================] - 0s 8ms/step - loss: 0.5488 - accuracy: 0.7188 - val_loss: 0.3075 - val_accuracy: 0.8750\n",
      "Epoch 129/200\n",
      "20/20 [==============================] - 0s 8ms/step - loss: 0.5408 - accuracy: 0.7917 - val_loss: 0.3008 - val_accuracy: 0.8750\n",
      "Epoch 130/200\n",
      "20/20 [==============================] - 0s 8ms/step - loss: 0.4846 - accuracy: 0.8229 - val_loss: 0.3150 - val_accuracy: 0.8750\n",
      "Epoch 131/200\n",
      "20/20 [==============================] - 0s 8ms/step - loss: 0.5548 - accuracy: 0.7188 - val_loss: 0.3036 - val_accuracy: 0.8750\n",
      "Epoch 132/200\n",
      "20/20 [==============================] - 0s 9ms/step - loss: 0.5299 - accuracy: 0.7708 - val_loss: 0.3003 - val_accuracy: 0.8750\n",
      "Epoch 133/200\n",
      "20/20 [==============================] - 0s 11ms/step - loss: 0.5195 - accuracy: 0.8021 - val_loss: 0.3055 - val_accuracy: 0.8750\n",
      "Epoch 134/200\n",
      "20/20 [==============================] - 0s 10ms/step - loss: 0.4901 - accuracy: 0.7812 - val_loss: 0.3120 - val_accuracy: 0.8750\n",
      "Epoch 135/200\n",
      "20/20 [==============================] - 0s 10ms/step - loss: 0.4903 - accuracy: 0.7812 - val_loss: 0.3008 - val_accuracy: 0.8750\n",
      "Epoch 136/200\n",
      "20/20 [==============================] - 0s 10ms/step - loss: 0.5366 - accuracy: 0.7812 - val_loss: 0.3025 - val_accuracy: 0.8750\n",
      "Epoch 137/200\n",
      "20/20 [==============================] - 0s 13ms/step - loss: 0.5241 - accuracy: 0.7708 - val_loss: 0.3011 - val_accuracy: 0.8750\n",
      "Epoch 138/200\n",
      "20/20 [==============================] - 0s 10ms/step - loss: 0.5004 - accuracy: 0.7396 - val_loss: 0.3013 - val_accuracy: 0.8750\n",
      "Epoch 139/200\n",
      "20/20 [==============================] - 0s 10ms/step - loss: 0.5279 - accuracy: 0.7604 - val_loss: 0.2995 - val_accuracy: 0.8750\n",
      "Epoch 140/200\n",
      "20/20 [==============================] - 0s 10ms/step - loss: 0.4992 - accuracy: 0.8229 - val_loss: 0.3003 - val_accuracy: 0.8750\n",
      "Epoch 141/200\n",
      "20/20 [==============================] - 0s 11ms/step - loss: 0.4493 - accuracy: 0.8125 - val_loss: 0.2941 - val_accuracy: 0.8750\n",
      "Epoch 142/200\n",
      "20/20 [==============================] - 0s 10ms/step - loss: 0.5909 - accuracy: 0.7396 - val_loss: 0.2974 - val_accuracy: 0.8750\n",
      "Epoch 143/200\n",
      "20/20 [==============================] - 0s 10ms/step - loss: 0.4930 - accuracy: 0.7812 - val_loss: 0.2983 - val_accuracy: 0.8750\n",
      "Epoch 144/200\n",
      "20/20 [==============================] - 0s 9ms/step - loss: 0.5046 - accuracy: 0.7708 - val_loss: 0.3080 - val_accuracy: 0.8750\n",
      "Epoch 145/200\n",
      "20/20 [==============================] - 0s 9ms/step - loss: 0.4635 - accuracy: 0.7708 - val_loss: 0.3171 - val_accuracy: 0.8750\n",
      "Epoch 146/200\n",
      "20/20 [==============================] - 0s 8ms/step - loss: 0.5292 - accuracy: 0.7604 - val_loss: 0.2875 - val_accuracy: 0.8750\n",
      "Epoch 147/200\n",
      "20/20 [==============================] - 0s 10ms/step - loss: 0.4883 - accuracy: 0.7396 - val_loss: 0.2986 - val_accuracy: 0.8750\n",
      "Epoch 148/200\n",
      "20/20 [==============================] - 0s 11ms/step - loss: 0.5009 - accuracy: 0.7917 - val_loss: 0.2999 - val_accuracy: 0.8750\n",
      "Epoch 149/200\n",
      "20/20 [==============================] - 0s 10ms/step - loss: 0.5195 - accuracy: 0.7917 - val_loss: 0.2959 - val_accuracy: 0.8750\n",
      "Epoch 150/200\n",
      "20/20 [==============================] - 0s 9ms/step - loss: 0.3953 - accuracy: 0.8542 - val_loss: 0.3083 - val_accuracy: 0.8750\n",
      "Epoch 151/200\n",
      "20/20 [==============================] - 0s 11ms/step - loss: 0.4973 - accuracy: 0.8021 - val_loss: 0.2803 - val_accuracy: 0.9167\n",
      "Epoch 152/200\n",
      "20/20 [==============================] - 0s 10ms/step - loss: 0.5166 - accuracy: 0.8542 - val_loss: 0.2784 - val_accuracy: 0.9167\n",
      "Epoch 153/200\n",
      "20/20 [==============================] - 0s 12ms/step - loss: 0.4839 - accuracy: 0.8854 - val_loss: 0.2865 - val_accuracy: 0.8750\n",
      "Epoch 154/200\n",
      "20/20 [==============================] - 0s 9ms/step - loss: 0.4436 - accuracy: 0.8021 - val_loss: 0.2938 - val_accuracy: 0.8750\n",
      "Epoch 155/200\n",
      "20/20 [==============================] - 0s 10ms/step - loss: 0.5864 - accuracy: 0.8021 - val_loss: 0.2874 - val_accuracy: 0.8750\n",
      "Epoch 156/200\n",
      "20/20 [==============================] - 0s 10ms/step - loss: 0.5286 - accuracy: 0.7917 - val_loss: 0.2942 - val_accuracy: 0.8750\n",
      "Epoch 157/200\n",
      "20/20 [==============================] - 0s 10ms/step - loss: 0.4540 - accuracy: 0.8333 - val_loss: 0.2924 - val_accuracy: 0.8750\n",
      "Epoch 158/200\n",
      "20/20 [==============================] - 0s 9ms/step - loss: 0.5465 - accuracy: 0.7292 - val_loss: 0.2942 - val_accuracy: 0.8750\n",
      "Epoch 159/200\n",
      "20/20 [==============================] - 0s 10ms/step - loss: 0.5700 - accuracy: 0.7292 - val_loss: 0.2782 - val_accuracy: 0.9167\n",
      "Epoch 160/200\n",
      "20/20 [==============================] - 0s 9ms/step - loss: 0.4456 - accuracy: 0.8333 - val_loss: 0.2858 - val_accuracy: 0.8750\n",
      "Epoch 161/200\n",
      "20/20 [==============================] - 0s 10ms/step - loss: 0.4289 - accuracy: 0.7917 - val_loss: 0.2969 - val_accuracy: 0.8750\n",
      "Epoch 162/200\n",
      "20/20 [==============================] - 0s 10ms/step - loss: 0.6142 - accuracy: 0.7396 - val_loss: 0.2923 - val_accuracy: 0.8750\n",
      "Epoch 163/200\n",
      "20/20 [==============================] - 0s 8ms/step - loss: 0.4490 - accuracy: 0.8542 - val_loss: 0.2810 - val_accuracy: 0.8750\n",
      "Epoch 164/200\n",
      "20/20 [==============================] - 0s 10ms/step - loss: 0.6584 - accuracy: 0.7083 - val_loss: 0.2984 - val_accuracy: 0.8750\n",
      "Epoch 165/200\n",
      "20/20 [==============================] - 0s 9ms/step - loss: 0.4932 - accuracy: 0.7917 - val_loss: 0.2954 - val_accuracy: 0.8750\n",
      "Epoch 166/200\n",
      "20/20 [==============================] - 0s 9ms/step - loss: 0.4800 - accuracy: 0.8333 - val_loss: 0.2734 - val_accuracy: 0.9167\n",
      "Epoch 167/200\n",
      "20/20 [==============================] - 0s 10ms/step - loss: 0.5333 - accuracy: 0.7500 - val_loss: 0.2867 - val_accuracy: 0.8750\n",
      "Epoch 168/200\n",
      "20/20 [==============================] - 0s 11ms/step - loss: 0.5378 - accuracy: 0.7812 - val_loss: 0.2937 - val_accuracy: 0.8750\n",
      "Epoch 169/200\n",
      "20/20 [==============================] - 0s 10ms/step - loss: 0.4935 - accuracy: 0.7812 - val_loss: 0.2862 - val_accuracy: 0.8750\n",
      "Epoch 170/200\n",
      "20/20 [==============================] - 0s 10ms/step - loss: 0.5011 - accuracy: 0.7812 - val_loss: 0.2914 - val_accuracy: 0.8750\n",
      "Epoch 171/200\n",
      "20/20 [==============================] - 0s 9ms/step - loss: 0.5731 - accuracy: 0.7292 - val_loss: 0.2812 - val_accuracy: 0.8750\n",
      "Epoch 172/200\n",
      "20/20 [==============================] - 0s 10ms/step - loss: 0.4777 - accuracy: 0.8438 - val_loss: 0.2715 - val_accuracy: 0.9167\n",
      "Epoch 173/200\n",
      "20/20 [==============================] - 0s 10ms/step - loss: 0.4232 - accuracy: 0.8333 - val_loss: 0.2709 - val_accuracy: 0.8750\n",
      "Epoch 174/200\n",
      "20/20 [==============================] - 0s 10ms/step - loss: 0.4145 - accuracy: 0.8542 - val_loss: 0.2716 - val_accuracy: 0.8750\n",
      "Epoch 175/200\n",
      "20/20 [==============================] - 0s 10ms/step - loss: 0.4629 - accuracy: 0.8229 - val_loss: 0.2700 - val_accuracy: 0.8750\n",
      "Epoch 176/200\n",
      "20/20 [==============================] - 0s 9ms/step - loss: 0.5266 - accuracy: 0.8125 - val_loss: 0.2813 - val_accuracy: 0.8750\n",
      "Epoch 177/200\n",
      "20/20 [==============================] - 0s 12ms/step - loss: 0.5524 - accuracy: 0.7500 - val_loss: 0.2710 - val_accuracy: 0.8750\n",
      "Epoch 178/200\n",
      "20/20 [==============================] - 0s 12ms/step - loss: 0.4664 - accuracy: 0.8229 - val_loss: 0.2795 - val_accuracy: 0.8750\n",
      "Epoch 179/200\n",
      "20/20 [==============================] - 0s 11ms/step - loss: 0.4964 - accuracy: 0.7917 - val_loss: 0.2759 - val_accuracy: 0.8750\n",
      "Epoch 180/200\n",
      "20/20 [==============================] - 0s 9ms/step - loss: 0.4525 - accuracy: 0.8125 - val_loss: 0.2843 - val_accuracy: 0.8750\n",
      "Epoch 181/200\n",
      "20/20 [==============================] - 0s 8ms/step - loss: 0.4800 - accuracy: 0.8229 - val_loss: 0.2837 - val_accuracy: 0.8750\n",
      "Epoch 182/200\n",
      "20/20 [==============================] - 0s 8ms/step - loss: 0.4843 - accuracy: 0.8229 - val_loss: 0.2767 - val_accuracy: 0.8750\n",
      "Epoch 183/200\n",
      "20/20 [==============================] - 0s 9ms/step - loss: 0.3789 - accuracy: 0.8958 - val_loss: 0.2756 - val_accuracy: 0.8750\n",
      "Epoch 184/200\n",
      "20/20 [==============================] - 0s 11ms/step - loss: 0.4279 - accuracy: 0.8750 - val_loss: 0.2916 - val_accuracy: 0.8750\n",
      "Epoch 185/200\n",
      "20/20 [==============================] - 0s 11ms/step - loss: 0.4842 - accuracy: 0.8125 - val_loss: 0.2715 - val_accuracy: 0.8750\n",
      "Epoch 186/200\n",
      "20/20 [==============================] - 0s 8ms/step - loss: 0.5163 - accuracy: 0.7604 - val_loss: 0.2786 - val_accuracy: 0.8750\n",
      "Epoch 187/200\n",
      "20/20 [==============================] - 0s 11ms/step - loss: 0.5216 - accuracy: 0.7604 - val_loss: 0.2652 - val_accuracy: 0.9167\n",
      "Epoch 188/200\n",
      "20/20 [==============================] - 0s 10ms/step - loss: 0.5052 - accuracy: 0.7812 - val_loss: 0.2734 - val_accuracy: 0.8750\n",
      "Epoch 189/200\n",
      "20/20 [==============================] - 0s 12ms/step - loss: 0.4946 - accuracy: 0.8542 - val_loss: 0.2897 - val_accuracy: 0.8750\n",
      "Epoch 190/200\n",
      "20/20 [==============================] - 0s 11ms/step - loss: 0.5414 - accuracy: 0.7500 - val_loss: 0.2618 - val_accuracy: 0.9167\n",
      "Epoch 191/200\n",
      "20/20 [==============================] - 0s 12ms/step - loss: 0.4970 - accuracy: 0.8021 - val_loss: 0.2722 - val_accuracy: 0.8750\n",
      "Epoch 192/200\n",
      "20/20 [==============================] - 0s 9ms/step - loss: 0.5252 - accuracy: 0.7917 - val_loss: 0.2755 - val_accuracy: 0.8750\n",
      "Epoch 193/200\n",
      "20/20 [==============================] - 0s 11ms/step - loss: 0.4955 - accuracy: 0.7708 - val_loss: 0.2803 - val_accuracy: 0.8750\n",
      "Epoch 194/200\n",
      "20/20 [==============================] - 0s 11ms/step - loss: 0.4716 - accuracy: 0.8125 - val_loss: 0.2800 - val_accuracy: 0.8750\n",
      "Epoch 195/200\n",
      "20/20 [==============================] - 0s 11ms/step - loss: 0.5296 - accuracy: 0.8333 - val_loss: 0.2683 - val_accuracy: 0.8750\n",
      "Epoch 196/200\n",
      "20/20 [==============================] - 0s 9ms/step - loss: 0.5606 - accuracy: 0.7708 - val_loss: 0.2625 - val_accuracy: 0.9167\n",
      "Epoch 197/200\n",
      "20/20 [==============================] - 0s 10ms/step - loss: 0.5226 - accuracy: 0.7708 - val_loss: 0.3032 - val_accuracy: 0.8750\n",
      "Epoch 198/200\n",
      "20/20 [==============================] - 0s 12ms/step - loss: 0.4961 - accuracy: 0.7292 - val_loss: 0.2660 - val_accuracy: 0.8750\n",
      "Epoch 199/200\n",
      "20/20 [==============================] - 0s 9ms/step - loss: 0.4931 - accuracy: 0.7708 - val_loss: 0.2560 - val_accuracy: 0.9167\n",
      "Epoch 200/200\n",
      "20/20 [==============================] - 0s 9ms/step - loss: 0.4565 - accuracy: 0.8438 - val_loss: 0.2711 - val_accuracy: 0.8750\n"
     ]
    },
    {
     "data": {
      "text/plain": [
       "<keras.callbacks.History at 0x7f832c10b850>"
      ]
     },
     "execution_count": 10,
     "metadata": {},
     "output_type": "execute_result"
    }
   ],
   "source": [
    "model.fit(train_x,train_y,epochs=200,batch_size=5,validation_split=0.2)"
   ]
  },
  {
   "cell_type": "markdown",
   "metadata": {},
   "source": [
    "# + Evaluatution"
   ]
  },
  {
   "cell_type": "code",
   "execution_count": 14,
   "metadata": {},
   "outputs": [
    {
     "name": "stdout",
     "output_type": "stream",
     "text": [
      "1/1 [==============================] - 0s 267ms/step - loss: 0.0509 - accuracy: 1.0000\n",
      "Final test set loss: 0.050933\n",
      "Final test set accuracy: 1.000000\n"
     ]
    }
   ],
   "source": [
    "# Test on unseen data\n",
    "results = model.evaluate(test_x, test_y)\n",
    "\n",
    "print('Final test set loss: {:4f}'.format(results[0]))\n",
    "print('Final test set accuracy: {:4f}'.format(results[1]))"
   ]
  },
  {
   "cell_type": "code",
   "execution_count": null,
   "metadata": {},
   "outputs": [],
   "source": []
  }
 ],
 "metadata": {
  "interpreter": {
   "hash": "916dbcbb3f70747c44a77c7bcd40155683ae19c65e1c03b4aa3499c5328201f1"
  },
  "kernelspec": {
   "display_name": "Python 3.9.7 64-bit",
   "language": "python",
   "name": "python3"
  },
  "language_info": {
   "codemirror_mode": {
    "name": "ipython",
    "version": 3
   },
   "file_extension": ".py",
   "mimetype": "text/x-python",
   "name": "python",
   "nbconvert_exporter": "python",
   "pygments_lexer": "ipython3",
   "version": "3.9.7"
  },
  "orig_nbformat": 4
 },
 "nbformat": 4,
 "nbformat_minor": 2
}
