{
 "cells": [
  {
   "cell_type": "markdown",
   "metadata": {},
   "source": [
    "<h1><center><div style=\"direction:rtl;font-family:B Lotus, B Nazanin, Tahoma\"> بسم الله الرحمن الرحیم</div></center></h1>"
   ]
  },
  {
   "cell_type": "markdown",
   "metadata": {},
   "source": [
    "<h1><center><div style=\"direction:rtl;font-family:B Lotus, B Nazanin, Tahoma\"> Classification with fully connected neural network with the IRIS dataset</div></center></h1>"
   ]
  },
  {
   "cell_type": "markdown",
   "metadata": {},
   "source": [
    "## About\n",
    "```\n",
    "The structural data set of the findings includes 4 characteristics for the length and width of the sepals and petals, based on which the type of flower is distinguished from 3 different classes.\n",
    "``` "
   ]
  },
  {
   "cell_type": "markdown",
   "metadata": {},
   "source": [
    "# Import required libraries"
   ]
  },
  {
   "cell_type": "code",
   "execution_count": 1,
   "metadata": {},
   "outputs": [
    {
     "name": "stderr",
     "output_type": "stream",
     "text": [
      "2022-03-16 18:11:48.019672: W tensorflow/stream_executor/platform/default/dso_loader.cc:64] Could not load dynamic library 'libcudart.so.11.0'; dlerror: libcudart.so.11.0: cannot open shared object file: No such file or directory\n",
      "2022-03-16 18:11:48.019709: I tensorflow/stream_executor/cuda/cudart_stub.cc:29] Ignore above cudart dlerror if you do not have a GPU set up on your machine.\n"
     ]
    }
   ],
   "source": [
    "import numpy as np\n",
    "from tensorflow import keras # Datasetas"
   ]
  },
  {
   "cell_type": "markdown",
   "metadata": {},
   "source": [
    "# About Dataset"
   ]
  },
  {
   "cell_type": "markdown",
   "metadata": {},
   "source": [
    "+ Descriptions of this dataset are available on this website:\n",
    "\n",
    "  + https://archive.ics.uci.edu/ml/datasets/iris \n",
    "\n",
    "---\n",
    "\n",
    "+ Attribute Information:\n",
    "\n",
    "    + sepal length in cm\n",
    "    + sepal width in cm\n",
    "    + petal length in cm\n",
    "    + petal width in cm\n",
    "\n",
    "---\n",
    "\n",
    "+ class:\n",
    "\n",
    "    + Iris Setosa\n",
    "    + Iris Versicolour\n",
    "    + Iris Virginica\n",
    "\n"
   ]
  },
  {
   "cell_type": "markdown",
   "metadata": {},
   "source": [
    "# + Load Dataset"
   ]
  },
  {
   "cell_type": "code",
   "execution_count": 2,
   "metadata": {},
   "outputs": [
    {
     "name": "stdout",
     "output_type": "stream",
     "text": [
      "Sample of Features:\n",
      "[[5.1 3.5 1.4 0.2]\n",
      " [4.9 3.  1.4 0.2]\n",
      " [4.7 3.2 1.3 0.2]\n",
      " [4.6 3.1 1.5 0.2]\n",
      " [5.  3.6 1.4 0.2]]\n",
      "\n",
      "\n",
      "Sample of Classes:\n",
      "[0 0 0 0 0]\n"
     ]
    }
   ],
   "source": [
    "from sklearn.datasets import load_iris\n",
    "\n",
    "iris_data = load_iris() # load the iris dataset\n",
    "\n",
    "x = iris_data.data # Features\n",
    "y = iris_data.target # Classes\n",
    "\n",
    "print(\"Sample of Features:\")\n",
    "print(x[:5])\n",
    "\n",
    "print(\"\\n\")\n",
    "\n",
    "print(\"Sample of Classes:\")\n",
    "print(y[:5])"
   ]
  },
  {
   "cell_type": "markdown",
   "metadata": {},
   "source": [
    "# + Preprocessing"
   ]
  },
  {
   "cell_type": "code",
   "execution_count": 3,
   "metadata": {},
   "outputs": [
    {
     "name": "stdout",
     "output_type": "stream",
     "text": [
      "Sample of Classes in a single column:\n"
     ]
    },
    {
     "data": {
      "text/plain": [
       "array([[0],\n",
       "       [0],\n",
       "       [0],\n",
       "       [0],\n",
       "       [0]])"
      ]
     },
     "execution_count": 3,
     "metadata": {},
     "output_type": "execute_result"
    }
   ],
   "source": [
    "# Convert data to a single column\n",
    "y = y.reshape(-1, 1) \n",
    "\n",
    "print(\"Sample of Classes in a single column:\")\n",
    "y[:5]"
   ]
  },
  {
   "cell_type": "code",
   "execution_count": 4,
   "metadata": {},
   "outputs": [
    {
     "name": "stdout",
     "output_type": "stream",
     "text": [
      "Classes are:\n",
      "[0 1 2]\n"
     ]
    },
    {
     "data": {
      "text/plain": [
       "3"
      ]
     },
     "execution_count": 4,
     "metadata": {},
     "output_type": "execute_result"
    }
   ],
   "source": [
    "# Store Number of classes befor convert to one-hot\n",
    "print('Classes are:')\n",
    "print(np.unique(y)) # Classes\n",
    "number_of_classes = len(np.unique(y)) # 3\n",
    "number_of_classes"
   ]
  },
  {
   "cell_type": "code",
   "execution_count": 5,
   "metadata": {},
   "outputs": [
    {
     "data": {
      "text/plain": [
       "array([[1., 0., 0.],\n",
       "       [1., 0., 0.],\n",
       "       [1., 0., 0.],\n",
       "       [1., 0., 0.],\n",
       "       [1., 0., 0.]], dtype=float32)"
      ]
     },
     "execution_count": 5,
     "metadata": {},
     "output_type": "execute_result"
    }
   ],
   "source": [
    "# Convert classes in one-hot\n",
    "\n",
    "y = keras.utils.to_categorical(y , num_classes=3)\n",
    "y[:5]"
   ]
  },
  {
   "cell_type": "markdown",
   "metadata": {},
   "source": [
    "# + Split the data"
   ]
  },
  {
   "cell_type": "code",
   "execution_count": 6,
   "metadata": {},
   "outputs": [
    {
     "data": {
      "text/plain": [
       "array([[5.8, 2.8, 5.1, 2.4],\n",
       "       [4.7, 3.2, 1.3, 0.2],\n",
       "       [5.8, 2.7, 3.9, 1.2],\n",
       "       [5.6, 3. , 4.1, 1.3],\n",
       "       [6.9, 3.1, 4.9, 1.5]])"
      ]
     },
     "execution_count": 6,
     "metadata": {},
     "output_type": "execute_result"
    }
   ],
   "source": [
    "from sklearn.model_selection import train_test_split\n",
    "\n",
    "# Split the data for training and testing\n",
    "train_x, test_x, train_y, test_y = train_test_split(x, y, test_size=0.20)\n",
    "train_x[:5]"
   ]
  },
  {
   "cell_type": "markdown",
   "metadata": {},
   "source": [
    "# + Initial Neural Network"
   ]
  },
  {
   "cell_type": "code",
   "execution_count": 7,
   "metadata": {},
   "outputs": [
    {
     "name": "stderr",
     "output_type": "stream",
     "text": [
      "2022-03-16 18:11:52.887823: W tensorflow/stream_executor/platform/default/dso_loader.cc:64] Could not load dynamic library 'libcuda.so.1'; dlerror: libcuda.so.1: cannot open shared object file: No such file or directory\n",
      "2022-03-16 18:11:52.887905: W tensorflow/stream_executor/cuda/cuda_driver.cc:269] failed call to cuInit: UNKNOWN ERROR (303)\n",
      "2022-03-16 18:11:52.887937: I tensorflow/stream_executor/cuda/cuda_diagnostics.cc:156] kernel driver does not appear to be running on this host (mahdi-X550IK): /proc/driver/nvidia/version does not exist\n",
      "2022-03-16 18:11:52.888329: I tensorflow/core/platform/cpu_feature_guard.cc:151] This TensorFlow binary is optimized with oneAPI Deep Neural Network Library (oneDNN) to use the following CPU instructions in performance-critical operations:  AVX2 FMA\n",
      "To enable them in other operations, rebuild TensorFlow with the appropriate compiler flags.\n"
     ]
    }
   ],
   "source": [
    "from keras.models import Sequential\n",
    "from keras.layers import Dense, Dropout\n",
    "\n",
    "# Store input dimention\n",
    "size_sample , dimantion = x.shape\n",
    "\n",
    "model = Sequential()\n",
    "model.add(Dense(10 , activation='relu' , input_dim=dimantion)) # 1st Layerst\n",
    "model.add(Dense(10 , activation='relu' )) # 2nd Layer\n",
    "model.add(Dropout(0.5)) # Droupout ( kill 50% of neurals)\n",
    "model.add(Dense(number_of_classes, activation='softmax')) # Final Layer"
   ]
  },
  {
   "cell_type": "code",
   "execution_count": 8,
   "metadata": {},
   "outputs": [
    {
     "name": "stdout",
     "output_type": "stream",
     "text": [
      "Model: \"sequential\"\n",
      "_________________________________________________________________\n",
      " Layer (type)                Output Shape              Param #   \n",
      "=================================================================\n",
      " dense (Dense)               (None, 10)                50        \n",
      "                                                                 \n",
      " dense_1 (Dense)             (None, 10)                110       \n",
      "                                                                 \n",
      " dropout (Dropout)           (None, 10)                0         \n",
      "                                                                 \n",
      " dense_2 (Dense)             (None, 3)                 33        \n",
      "                                                                 \n",
      "=================================================================\n",
      "Total params: 193\n",
      "Trainable params: 193\n",
      "Non-trainable params: 0\n",
      "_________________________________________________________________\n"
     ]
    }
   ],
   "source": [
    "# Summary of created Neural Network\n",
    "model.summary()"
   ]
  },
  {
   "cell_type": "markdown",
   "metadata": {},
   "source": [
    "# + Optimizing\n"
   ]
  },
  {
   "cell_type": "code",
   "execution_count": 9,
   "metadata": {},
   "outputs": [
    {
     "name": "stderr",
     "output_type": "stream",
     "text": [
      "/usr/local/lib/python3.9/dist-packages/keras/optimizer_v2/adam.py:105: UserWarning: The `lr` argument is deprecated, use `learning_rate` instead.\n",
      "  super(Adam, self).__init__(name, **kwargs)\n"
     ]
    }
   ],
   "source": [
    "from tensorflow.keras.optimizers import Adam\n",
    "\n",
    "# Adam optimizer with learning rate of 0.001\n",
    "optimizer = Adam(lr=0.001)\n",
    "model.compile(optimizer, loss='categorical_crossentropy', metrics=['accuracy'])\n"
   ]
  },
  {
   "cell_type": "markdown",
   "metadata": {},
   "source": [
    "# + Learning"
   ]
  },
  {
   "cell_type": "code",
   "execution_count": 10,
   "metadata": {},
   "outputs": [
    {
     "name": "stdout",
     "output_type": "stream",
     "text": [
      "Epoch 1/200\n",
      "20/20 [==============================] - 1s 25ms/step - loss: 0.9902 - accuracy: 0.3854 - val_loss: 0.8868 - val_accuracy: 0.4167\n",
      "Epoch 2/200\n",
      "20/20 [==============================] - 0s 8ms/step - loss: 0.9800 - accuracy: 0.3333 - val_loss: 0.8696 - val_accuracy: 0.5833\n",
      "Epoch 3/200\n",
      "20/20 [==============================] - 0s 8ms/step - loss: 0.9244 - accuracy: 0.4896 - val_loss: 0.8484 - val_accuracy: 0.5833\n",
      "Epoch 4/200\n",
      "20/20 [==============================] - 0s 8ms/step - loss: 0.9071 - accuracy: 0.4896 - val_loss: 0.8179 - val_accuracy: 0.5833\n",
      "Epoch 5/200\n",
      "20/20 [==============================] - 0s 8ms/step - loss: 0.8724 - accuracy: 0.5625 - val_loss: 0.7857 - val_accuracy: 0.5833\n",
      "Epoch 6/200\n",
      "20/20 [==============================] - 0s 8ms/step - loss: 0.7986 - accuracy: 0.5000 - val_loss: 0.7474 - val_accuracy: 0.6250\n",
      "Epoch 7/200\n",
      "20/20 [==============================] - 0s 9ms/step - loss: 0.7660 - accuracy: 0.6562 - val_loss: 0.6976 - val_accuracy: 0.7500\n",
      "Epoch 8/200\n",
      "20/20 [==============================] - 0s 8ms/step - loss: 0.8010 - accuracy: 0.6250 - val_loss: 0.6712 - val_accuracy: 0.7083\n",
      "Epoch 9/200\n",
      "20/20 [==============================] - 0s 8ms/step - loss: 0.7606 - accuracy: 0.5521 - val_loss: 0.6500 - val_accuracy: 0.6250\n",
      "Epoch 10/200\n",
      "20/20 [==============================] - 0s 8ms/step - loss: 0.7430 - accuracy: 0.5521 - val_loss: 0.6292 - val_accuracy: 0.8750\n",
      "Epoch 11/200\n",
      "20/20 [==============================] - 0s 8ms/step - loss: 0.7378 - accuracy: 0.6875 - val_loss: 0.6145 - val_accuracy: 0.8333\n",
      "Epoch 12/200\n",
      "20/20 [==============================] - 0s 7ms/step - loss: 0.7106 - accuracy: 0.6354 - val_loss: 0.6021 - val_accuracy: 0.8750\n",
      "Epoch 13/200\n",
      "20/20 [==============================] - 0s 7ms/step - loss: 0.6896 - accuracy: 0.6250 - val_loss: 0.5881 - val_accuracy: 0.8333\n",
      "Epoch 14/200\n",
      "20/20 [==============================] - 0s 7ms/step - loss: 0.7038 - accuracy: 0.5208 - val_loss: 0.5813 - val_accuracy: 0.9167\n",
      "Epoch 15/200\n",
      "20/20 [==============================] - 0s 9ms/step - loss: 0.6903 - accuracy: 0.6146 - val_loss: 0.5658 - val_accuracy: 0.8333\n",
      "Epoch 16/200\n",
      "20/20 [==============================] - 0s 8ms/step - loss: 0.7104 - accuracy: 0.5625 - val_loss: 0.5588 - val_accuracy: 0.9167\n",
      "Epoch 17/200\n",
      "20/20 [==============================] - 0s 7ms/step - loss: 0.6403 - accuracy: 0.6146 - val_loss: 0.5549 - val_accuracy: 0.9167\n",
      "Epoch 18/200\n",
      "20/20 [==============================] - 0s 8ms/step - loss: 0.6277 - accuracy: 0.6771 - val_loss: 0.5512 - val_accuracy: 0.9167\n",
      "Epoch 19/200\n",
      "20/20 [==============================] - 0s 8ms/step - loss: 0.6570 - accuracy: 0.6562 - val_loss: 0.5389 - val_accuracy: 0.8750\n",
      "Epoch 20/200\n",
      "20/20 [==============================] - 0s 7ms/step - loss: 0.6342 - accuracy: 0.6458 - val_loss: 0.5368 - val_accuracy: 0.9167\n",
      "Epoch 21/200\n",
      "20/20 [==============================] - 0s 8ms/step - loss: 0.6850 - accuracy: 0.6146 - val_loss: 0.5309 - val_accuracy: 0.9167\n",
      "Epoch 22/200\n",
      "20/20 [==============================] - 0s 8ms/step - loss: 0.6346 - accuracy: 0.6667 - val_loss: 0.5272 - val_accuracy: 0.7917\n",
      "Epoch 23/200\n",
      "20/20 [==============================] - 0s 8ms/step - loss: 0.6062 - accuracy: 0.6875 - val_loss: 0.5281 - val_accuracy: 0.7500\n",
      "Epoch 24/200\n",
      "20/20 [==============================] - 0s 8ms/step - loss: 0.7082 - accuracy: 0.5833 - val_loss: 0.5287 - val_accuracy: 0.9167\n",
      "Epoch 25/200\n",
      "20/20 [==============================] - 0s 9ms/step - loss: 0.6286 - accuracy: 0.6250 - val_loss: 0.5167 - val_accuracy: 0.8750\n",
      "Epoch 26/200\n",
      "20/20 [==============================] - 0s 8ms/step - loss: 0.6220 - accuracy: 0.6667 - val_loss: 0.5114 - val_accuracy: 0.8750\n",
      "Epoch 27/200\n",
      "20/20 [==============================] - 0s 8ms/step - loss: 0.6368 - accuracy: 0.6562 - val_loss: 0.5063 - val_accuracy: 0.7917\n",
      "Epoch 28/200\n",
      "20/20 [==============================] - 0s 8ms/step - loss: 0.5766 - accuracy: 0.7188 - val_loss: 0.4999 - val_accuracy: 0.9167\n",
      "Epoch 29/200\n",
      "20/20 [==============================] - 0s 9ms/step - loss: 0.5969 - accuracy: 0.7083 - val_loss: 0.4907 - val_accuracy: 0.9167\n",
      "Epoch 30/200\n",
      "20/20 [==============================] - 0s 7ms/step - loss: 0.6018 - accuracy: 0.6875 - val_loss: 0.4798 - val_accuracy: 0.9167\n",
      "Epoch 31/200\n",
      "20/20 [==============================] - 0s 8ms/step - loss: 0.5479 - accuracy: 0.7396 - val_loss: 0.4750 - val_accuracy: 0.9167\n",
      "Epoch 32/200\n",
      "20/20 [==============================] - 0s 8ms/step - loss: 0.6058 - accuracy: 0.7083 - val_loss: 0.4725 - val_accuracy: 0.9167\n",
      "Epoch 33/200\n",
      "20/20 [==============================] - 0s 8ms/step - loss: 0.6269 - accuracy: 0.6667 - val_loss: 0.4767 - val_accuracy: 0.9167\n",
      "Epoch 34/200\n",
      "20/20 [==============================] - 0s 8ms/step - loss: 0.5711 - accuracy: 0.7708 - val_loss: 0.4661 - val_accuracy: 0.9167\n",
      "Epoch 35/200\n",
      "20/20 [==============================] - 0s 8ms/step - loss: 0.5982 - accuracy: 0.6875 - val_loss: 0.4682 - val_accuracy: 0.9167\n",
      "Epoch 36/200\n",
      "20/20 [==============================] - 0s 8ms/step - loss: 0.5928 - accuracy: 0.7292 - val_loss: 0.4638 - val_accuracy: 0.9167\n",
      "Epoch 37/200\n",
      "20/20 [==============================] - 0s 8ms/step - loss: 0.5600 - accuracy: 0.7812 - val_loss: 0.4587 - val_accuracy: 0.9167\n",
      "Epoch 38/200\n",
      "20/20 [==============================] - 0s 7ms/step - loss: 0.5517 - accuracy: 0.7500 - val_loss: 0.4476 - val_accuracy: 0.9167\n",
      "Epoch 39/200\n",
      "20/20 [==============================] - 0s 8ms/step - loss: 0.5552 - accuracy: 0.7188 - val_loss: 0.4556 - val_accuracy: 0.8750\n",
      "Epoch 40/200\n",
      "20/20 [==============================] - 0s 9ms/step - loss: 0.4938 - accuracy: 0.7812 - val_loss: 0.4403 - val_accuracy: 0.9167\n",
      "Epoch 41/200\n",
      "20/20 [==============================] - 0s 8ms/step - loss: 0.6061 - accuracy: 0.6979 - val_loss: 0.4379 - val_accuracy: 0.9583\n",
      "Epoch 42/200\n",
      "20/20 [==============================] - 0s 7ms/step - loss: 0.6463 - accuracy: 0.6354 - val_loss: 0.4449 - val_accuracy: 0.9167\n",
      "Epoch 43/200\n",
      "20/20 [==============================] - 0s 7ms/step - loss: 0.5672 - accuracy: 0.7396 - val_loss: 0.4393 - val_accuracy: 0.9167\n",
      "Epoch 44/200\n",
      "20/20 [==============================] - 0s 7ms/step - loss: 0.5551 - accuracy: 0.7396 - val_loss: 0.4480 - val_accuracy: 0.8750\n",
      "Epoch 45/200\n",
      "20/20 [==============================] - 0s 7ms/step - loss: 0.5799 - accuracy: 0.7083 - val_loss: 0.4425 - val_accuracy: 0.9167\n",
      "Epoch 46/200\n",
      "20/20 [==============================] - 0s 7ms/step - loss: 0.5306 - accuracy: 0.7292 - val_loss: 0.4356 - val_accuracy: 0.9167\n",
      "Epoch 47/200\n",
      "20/20 [==============================] - 0s 7ms/step - loss: 0.5575 - accuracy: 0.7083 - val_loss: 0.4404 - val_accuracy: 0.9167\n",
      "Epoch 48/200\n",
      "20/20 [==============================] - 0s 6ms/step - loss: 0.5922 - accuracy: 0.7188 - val_loss: 0.4445 - val_accuracy: 0.8750\n",
      "Epoch 49/200\n",
      "20/20 [==============================] - 0s 7ms/step - loss: 0.6251 - accuracy: 0.6875 - val_loss: 0.4351 - val_accuracy: 0.9167\n",
      "Epoch 50/200\n",
      "20/20 [==============================] - 0s 7ms/step - loss: 0.5101 - accuracy: 0.7708 - val_loss: 0.4306 - val_accuracy: 0.9167\n",
      "Epoch 51/200\n",
      "20/20 [==============================] - 0s 6ms/step - loss: 0.5063 - accuracy: 0.7604 - val_loss: 0.4214 - val_accuracy: 0.9167\n",
      "Epoch 52/200\n",
      "20/20 [==============================] - 0s 7ms/step - loss: 0.5427 - accuracy: 0.7604 - val_loss: 0.4180 - val_accuracy: 0.9167\n",
      "Epoch 53/200\n",
      "20/20 [==============================] - 0s 7ms/step - loss: 0.5332 - accuracy: 0.7812 - val_loss: 0.4253 - val_accuracy: 0.8750\n",
      "Epoch 54/200\n",
      "20/20 [==============================] - 0s 8ms/step - loss: 0.5277 - accuracy: 0.7604 - val_loss: 0.4039 - val_accuracy: 0.9167\n",
      "Epoch 55/200\n",
      "20/20 [==============================] - 0s 10ms/step - loss: 0.5249 - accuracy: 0.7812 - val_loss: 0.4155 - val_accuracy: 0.9583\n",
      "Epoch 56/200\n",
      "20/20 [==============================] - 0s 8ms/step - loss: 0.5754 - accuracy: 0.7396 - val_loss: 0.4132 - val_accuracy: 0.9167\n",
      "Epoch 57/200\n",
      "20/20 [==============================] - 0s 9ms/step - loss: 0.5482 - accuracy: 0.7292 - val_loss: 0.4088 - val_accuracy: 0.9583\n",
      "Epoch 58/200\n",
      "20/20 [==============================] - 0s 7ms/step - loss: 0.5033 - accuracy: 0.7500 - val_loss: 0.4057 - val_accuracy: 0.9167\n",
      "Epoch 59/200\n",
      "20/20 [==============================] - 0s 8ms/step - loss: 0.6200 - accuracy: 0.6667 - val_loss: 0.4314 - val_accuracy: 0.8750\n",
      "Epoch 60/200\n",
      "20/20 [==============================] - 0s 8ms/step - loss: 0.5533 - accuracy: 0.7188 - val_loss: 0.4164 - val_accuracy: 0.9167\n",
      "Epoch 61/200\n",
      "20/20 [==============================] - 0s 8ms/step - loss: 0.5758 - accuracy: 0.6771 - val_loss: 0.4182 - val_accuracy: 0.9167\n",
      "Epoch 62/200\n",
      "20/20 [==============================] - 0s 8ms/step - loss: 0.5627 - accuracy: 0.6771 - val_loss: 0.4090 - val_accuracy: 0.9167\n",
      "Epoch 63/200\n",
      "20/20 [==============================] - 0s 7ms/step - loss: 0.5365 - accuracy: 0.7188 - val_loss: 0.4077 - val_accuracy: 0.9167\n",
      "Epoch 64/200\n",
      "20/20 [==============================] - 0s 8ms/step - loss: 0.5493 - accuracy: 0.7396 - val_loss: 0.3973 - val_accuracy: 0.9167\n",
      "Epoch 65/200\n",
      "20/20 [==============================] - 0s 7ms/step - loss: 0.5306 - accuracy: 0.7500 - val_loss: 0.4001 - val_accuracy: 0.9583\n",
      "Epoch 66/200\n",
      "20/20 [==============================] - 0s 10ms/step - loss: 0.5372 - accuracy: 0.7396 - val_loss: 0.3904 - val_accuracy: 0.9167\n",
      "Epoch 67/200\n",
      "20/20 [==============================] - 0s 8ms/step - loss: 0.5415 - accuracy: 0.7292 - val_loss: 0.3879 - val_accuracy: 0.9167\n",
      "Epoch 68/200\n",
      "20/20 [==============================] - 0s 9ms/step - loss: 0.5243 - accuracy: 0.7188 - val_loss: 0.3885 - val_accuracy: 0.9167\n",
      "Epoch 69/200\n",
      "20/20 [==============================] - 0s 9ms/step - loss: 0.5802 - accuracy: 0.6979 - val_loss: 0.3882 - val_accuracy: 0.9167\n",
      "Epoch 70/200\n",
      "20/20 [==============================] - 0s 9ms/step - loss: 0.4712 - accuracy: 0.7812 - val_loss: 0.3857 - val_accuracy: 0.9167\n",
      "Epoch 71/200\n",
      "20/20 [==============================] - 0s 9ms/step - loss: 0.4236 - accuracy: 0.7812 - val_loss: 0.3799 - val_accuracy: 0.9167\n",
      "Epoch 72/200\n",
      "20/20 [==============================] - 0s 8ms/step - loss: 0.5114 - accuracy: 0.7917 - val_loss: 0.3746 - val_accuracy: 0.9167\n",
      "Epoch 73/200\n",
      "20/20 [==============================] - 0s 8ms/step - loss: 0.5210 - accuracy: 0.7083 - val_loss: 0.3805 - val_accuracy: 0.9167\n",
      "Epoch 74/200\n",
      "20/20 [==============================] - 0s 8ms/step - loss: 0.5001 - accuracy: 0.7083 - val_loss: 0.3804 - val_accuracy: 0.9167\n",
      "Epoch 75/200\n",
      "20/20 [==============================] - 0s 9ms/step - loss: 0.4604 - accuracy: 0.7917 - val_loss: 0.3786 - val_accuracy: 0.9167\n",
      "Epoch 76/200\n",
      "20/20 [==============================] - 0s 11ms/step - loss: 0.5452 - accuracy: 0.7188 - val_loss: 0.3714 - val_accuracy: 0.9167\n",
      "Epoch 77/200\n",
      "20/20 [==============================] - 0s 10ms/step - loss: 0.5032 - accuracy: 0.7500 - val_loss: 0.3804 - val_accuracy: 0.9583\n",
      "Epoch 78/200\n",
      "20/20 [==============================] - 0s 9ms/step - loss: 0.4942 - accuracy: 0.7396 - val_loss: 0.3824 - val_accuracy: 0.9583\n",
      "Epoch 79/200\n",
      "20/20 [==============================] - 0s 9ms/step - loss: 0.4833 - accuracy: 0.7708 - val_loss: 0.3956 - val_accuracy: 0.8750\n",
      "Epoch 80/200\n",
      "20/20 [==============================] - 0s 10ms/step - loss: 0.4802 - accuracy: 0.7604 - val_loss: 0.3716 - val_accuracy: 0.9167\n",
      "Epoch 81/200\n",
      "20/20 [==============================] - 0s 7ms/step - loss: 0.5348 - accuracy: 0.6875 - val_loss: 0.3706 - val_accuracy: 0.9167\n",
      "Epoch 82/200\n",
      "20/20 [==============================] - 0s 8ms/step - loss: 0.4795 - accuracy: 0.7604 - val_loss: 0.3674 - val_accuracy: 0.9167\n",
      "Epoch 83/200\n",
      "20/20 [==============================] - 0s 7ms/step - loss: 0.5620 - accuracy: 0.6667 - val_loss: 0.3814 - val_accuracy: 0.9583\n",
      "Epoch 84/200\n",
      "20/20 [==============================] - 0s 8ms/step - loss: 0.4432 - accuracy: 0.7604 - val_loss: 0.3795 - val_accuracy: 0.9167\n",
      "Epoch 85/200\n",
      "20/20 [==============================] - 0s 8ms/step - loss: 0.5091 - accuracy: 0.7083 - val_loss: 0.3730 - val_accuracy: 0.9167\n",
      "Epoch 86/200\n",
      "20/20 [==============================] - 0s 8ms/step - loss: 0.4788 - accuracy: 0.8125 - val_loss: 0.3923 - val_accuracy: 0.8750\n",
      "Epoch 87/200\n",
      "20/20 [==============================] - 0s 9ms/step - loss: 0.4979 - accuracy: 0.7500 - val_loss: 0.3660 - val_accuracy: 0.8750\n",
      "Epoch 88/200\n",
      "20/20 [==============================] - 0s 9ms/step - loss: 0.4048 - accuracy: 0.8229 - val_loss: 0.3593 - val_accuracy: 0.9167\n",
      "Epoch 89/200\n",
      "20/20 [==============================] - 0s 8ms/step - loss: 0.4693 - accuracy: 0.8438 - val_loss: 0.3610 - val_accuracy: 0.9583\n",
      "Epoch 90/200\n",
      "20/20 [==============================] - 0s 11ms/step - loss: 0.5509 - accuracy: 0.7917 - val_loss: 0.3627 - val_accuracy: 0.9167\n",
      "Epoch 91/200\n",
      "20/20 [==============================] - 0s 9ms/step - loss: 0.4549 - accuracy: 0.8750 - val_loss: 0.3644 - val_accuracy: 0.9583\n",
      "Epoch 92/200\n",
      "20/20 [==============================] - 0s 9ms/step - loss: 0.4801 - accuracy: 0.8333 - val_loss: 0.3544 - val_accuracy: 0.9167\n",
      "Epoch 93/200\n",
      "20/20 [==============================] - 0s 8ms/step - loss: 0.4754 - accuracy: 0.7917 - val_loss: 0.3559 - val_accuracy: 0.9167\n",
      "Epoch 94/200\n",
      "20/20 [==============================] - 0s 9ms/step - loss: 0.4220 - accuracy: 0.8646 - val_loss: 0.3503 - val_accuracy: 0.9167\n",
      "Epoch 95/200\n",
      "20/20 [==============================] - 0s 9ms/step - loss: 0.5047 - accuracy: 0.8125 - val_loss: 0.3542 - val_accuracy: 0.9583\n",
      "Epoch 96/200\n",
      "20/20 [==============================] - 0s 8ms/step - loss: 0.4830 - accuracy: 0.8646 - val_loss: 0.3530 - val_accuracy: 0.9167\n",
      "Epoch 97/200\n",
      "20/20 [==============================] - 0s 10ms/step - loss: 0.4833 - accuracy: 0.8229 - val_loss: 0.3551 - val_accuracy: 0.9583\n",
      "Epoch 98/200\n",
      "20/20 [==============================] - 0s 9ms/step - loss: 0.4669 - accuracy: 0.7917 - val_loss: 0.3452 - val_accuracy: 0.9167\n",
      "Epoch 99/200\n",
      "20/20 [==============================] - 0s 9ms/step - loss: 0.4580 - accuracy: 0.8229 - val_loss: 0.3418 - val_accuracy: 0.9167\n",
      "Epoch 100/200\n",
      "20/20 [==============================] - 0s 10ms/step - loss: 0.5708 - accuracy: 0.7812 - val_loss: 0.3505 - val_accuracy: 0.9583\n",
      "Epoch 101/200\n",
      "20/20 [==============================] - 0s 13ms/step - loss: 0.5049 - accuracy: 0.8229 - val_loss: 0.3495 - val_accuracy: 0.9167\n",
      "Epoch 102/200\n",
      "20/20 [==============================] - 0s 9ms/step - loss: 0.4690 - accuracy: 0.7917 - val_loss: 0.3471 - val_accuracy: 0.9167\n",
      "Epoch 103/200\n",
      "20/20 [==============================] - 0s 10ms/step - loss: 0.5081 - accuracy: 0.8021 - val_loss: 0.3444 - val_accuracy: 0.9167\n",
      "Epoch 104/200\n",
      "20/20 [==============================] - 0s 10ms/step - loss: 0.4682 - accuracy: 0.8125 - val_loss: 0.3461 - val_accuracy: 0.9583\n",
      "Epoch 105/200\n",
      "20/20 [==============================] - 0s 8ms/step - loss: 0.4186 - accuracy: 0.8646 - val_loss: 0.3422 - val_accuracy: 0.9583\n",
      "Epoch 106/200\n",
      "20/20 [==============================] - 0s 8ms/step - loss: 0.5011 - accuracy: 0.7917 - val_loss: 0.3555 - val_accuracy: 0.8750\n",
      "Epoch 107/200\n",
      "20/20 [==============================] - 0s 9ms/step - loss: 0.3995 - accuracy: 0.8854 - val_loss: 0.3317 - val_accuracy: 0.9583\n",
      "Epoch 108/200\n",
      "20/20 [==============================] - 0s 8ms/step - loss: 0.4299 - accuracy: 0.8229 - val_loss: 0.3507 - val_accuracy: 0.8750\n",
      "Epoch 109/200\n",
      "20/20 [==============================] - 0s 9ms/step - loss: 0.5087 - accuracy: 0.7604 - val_loss: 0.3458 - val_accuracy: 0.9583\n",
      "Epoch 110/200\n",
      "20/20 [==============================] - 0s 9ms/step - loss: 0.4919 - accuracy: 0.8125 - val_loss: 0.3336 - val_accuracy: 0.9167\n",
      "Epoch 111/200\n",
      "20/20 [==============================] - 0s 8ms/step - loss: 0.4084 - accuracy: 0.8438 - val_loss: 0.3313 - val_accuracy: 0.9167\n",
      "Epoch 112/200\n",
      "20/20 [==============================] - 0s 9ms/step - loss: 0.4168 - accuracy: 0.8646 - val_loss: 0.3365 - val_accuracy: 0.9583\n",
      "Epoch 113/200\n",
      "20/20 [==============================] - 0s 10ms/step - loss: 0.4733 - accuracy: 0.8021 - val_loss: 0.3353 - val_accuracy: 0.9167\n",
      "Epoch 114/200\n",
      "20/20 [==============================] - 0s 9ms/step - loss: 0.5442 - accuracy: 0.7500 - val_loss: 0.3452 - val_accuracy: 0.9583\n",
      "Epoch 115/200\n",
      "20/20 [==============================] - 0s 9ms/step - loss: 0.5575 - accuracy: 0.7188 - val_loss: 0.3414 - val_accuracy: 0.9167\n",
      "Epoch 116/200\n",
      "20/20 [==============================] - 0s 11ms/step - loss: 0.4944 - accuracy: 0.7812 - val_loss: 0.3382 - val_accuracy: 0.9583\n",
      "Epoch 117/200\n",
      "20/20 [==============================] - 0s 10ms/step - loss: 0.4649 - accuracy: 0.8333 - val_loss: 0.3352 - val_accuracy: 0.9167\n",
      "Epoch 118/200\n",
      "20/20 [==============================] - 0s 9ms/step - loss: 0.5040 - accuracy: 0.7917 - val_loss: 0.3495 - val_accuracy: 0.9167\n",
      "Epoch 119/200\n",
      "20/20 [==============================] - 0s 8ms/step - loss: 0.4236 - accuracy: 0.8750 - val_loss: 0.3291 - val_accuracy: 0.9167\n",
      "Epoch 120/200\n",
      "20/20 [==============================] - 0s 8ms/step - loss: 0.4093 - accuracy: 0.8854 - val_loss: 0.3220 - val_accuracy: 0.9167\n",
      "Epoch 121/200\n",
      "20/20 [==============================] - 0s 8ms/step - loss: 0.5216 - accuracy: 0.7812 - val_loss: 0.3235 - val_accuracy: 0.9167\n",
      "Epoch 122/200\n",
      "20/20 [==============================] - 0s 9ms/step - loss: 0.4424 - accuracy: 0.8438 - val_loss: 0.3236 - val_accuracy: 0.9583\n",
      "Epoch 123/200\n",
      "20/20 [==============================] - 0s 8ms/step - loss: 0.4602 - accuracy: 0.8125 - val_loss: 0.3184 - val_accuracy: 0.9167\n",
      "Epoch 124/200\n",
      "20/20 [==============================] - 0s 9ms/step - loss: 0.4707 - accuracy: 0.8229 - val_loss: 0.3174 - val_accuracy: 0.9167\n",
      "Epoch 125/200\n",
      "20/20 [==============================] - 0s 9ms/step - loss: 0.4609 - accuracy: 0.7917 - val_loss: 0.3217 - val_accuracy: 0.9583\n",
      "Epoch 126/200\n",
      "20/20 [==============================] - 0s 10ms/step - loss: 0.4297 - accuracy: 0.8229 - val_loss: 0.3326 - val_accuracy: 0.9583\n",
      "Epoch 127/200\n",
      "20/20 [==============================] - 0s 9ms/step - loss: 0.4619 - accuracy: 0.8229 - val_loss: 0.3215 - val_accuracy: 0.9583\n",
      "Epoch 128/200\n",
      "20/20 [==============================] - 0s 9ms/step - loss: 0.4736 - accuracy: 0.7917 - val_loss: 0.3225 - val_accuracy: 0.9583\n",
      "Epoch 129/200\n",
      "20/20 [==============================] - 0s 9ms/step - loss: 0.4569 - accuracy: 0.8125 - val_loss: 0.3252 - val_accuracy: 0.9583\n",
      "Epoch 130/200\n",
      "20/20 [==============================] - 0s 9ms/step - loss: 0.4404 - accuracy: 0.8125 - val_loss: 0.3352 - val_accuracy: 0.9583\n",
      "Epoch 131/200\n",
      "20/20 [==============================] - 0s 9ms/step - loss: 0.3978 - accuracy: 0.8750 - val_loss: 0.3300 - val_accuracy: 0.9583\n",
      "Epoch 132/200\n",
      "20/20 [==============================] - 0s 9ms/step - loss: 0.4385 - accuracy: 0.8229 - val_loss: 0.3236 - val_accuracy: 0.9167\n",
      "Epoch 133/200\n",
      "20/20 [==============================] - 0s 12ms/step - loss: 0.4062 - accuracy: 0.7812 - val_loss: 0.3229 - val_accuracy: 0.9167\n",
      "Epoch 134/200\n",
      "20/20 [==============================] - 0s 8ms/step - loss: 0.4346 - accuracy: 0.8125 - val_loss: 0.3265 - val_accuracy: 0.9583\n",
      "Epoch 135/200\n",
      "20/20 [==============================] - 0s 9ms/step - loss: 0.4261 - accuracy: 0.8125 - val_loss: 0.3219 - val_accuracy: 0.9583\n",
      "Epoch 136/200\n",
      "20/20 [==============================] - 0s 12ms/step - loss: 0.4417 - accuracy: 0.8333 - val_loss: 0.3225 - val_accuracy: 0.9167\n",
      "Epoch 137/200\n",
      "20/20 [==============================] - 0s 9ms/step - loss: 0.4425 - accuracy: 0.8438 - val_loss: 0.3234 - val_accuracy: 0.9583\n",
      "Epoch 138/200\n",
      "20/20 [==============================] - 0s 8ms/step - loss: 0.4051 - accuracy: 0.8542 - val_loss: 0.3207 - val_accuracy: 0.9583\n",
      "Epoch 139/200\n",
      "20/20 [==============================] - 0s 9ms/step - loss: 0.3981 - accuracy: 0.8854 - val_loss: 0.3075 - val_accuracy: 0.9167\n",
      "Epoch 140/200\n",
      "20/20 [==============================] - 0s 9ms/step - loss: 0.4738 - accuracy: 0.7812 - val_loss: 0.3139 - val_accuracy: 0.9583\n",
      "Epoch 141/200\n",
      "20/20 [==============================] - 0s 9ms/step - loss: 0.3508 - accuracy: 0.9167 - val_loss: 0.3098 - val_accuracy: 0.9583\n",
      "Epoch 142/200\n",
      "20/20 [==============================] - 0s 8ms/step - loss: 0.4689 - accuracy: 0.8125 - val_loss: 0.3082 - val_accuracy: 0.9583\n",
      "Epoch 143/200\n",
      "20/20 [==============================] - 0s 9ms/step - loss: 0.4130 - accuracy: 0.8021 - val_loss: 0.3033 - val_accuracy: 0.8750\n",
      "Epoch 144/200\n",
      "20/20 [==============================] - 0s 9ms/step - loss: 0.4233 - accuracy: 0.8438 - val_loss: 0.2959 - val_accuracy: 0.9167\n",
      "Epoch 145/200\n",
      "20/20 [==============================] - 0s 8ms/step - loss: 0.4908 - accuracy: 0.8229 - val_loss: 0.3058 - val_accuracy: 0.9167\n",
      "Epoch 146/200\n",
      "20/20 [==============================] - 0s 9ms/step - loss: 0.3493 - accuracy: 0.9167 - val_loss: 0.2922 - val_accuracy: 0.9167\n",
      "Epoch 147/200\n",
      "20/20 [==============================] - 0s 9ms/step - loss: 0.4469 - accuracy: 0.7812 - val_loss: 0.2948 - val_accuracy: 0.9583\n",
      "Epoch 148/200\n",
      "20/20 [==============================] - 0s 9ms/step - loss: 0.4179 - accuracy: 0.8750 - val_loss: 0.2962 - val_accuracy: 0.9167\n",
      "Epoch 149/200\n",
      "20/20 [==============================] - 0s 9ms/step - loss: 0.4018 - accuracy: 0.8333 - val_loss: 0.3019 - val_accuracy: 0.9583\n",
      "Epoch 150/200\n",
      "20/20 [==============================] - 0s 9ms/step - loss: 0.4441 - accuracy: 0.8125 - val_loss: 0.3033 - val_accuracy: 0.9583\n",
      "Epoch 151/200\n",
      "20/20 [==============================] - 0s 11ms/step - loss: 0.4439 - accuracy: 0.8333 - val_loss: 0.2969 - val_accuracy: 0.9167\n",
      "Epoch 152/200\n",
      "20/20 [==============================] - 0s 9ms/step - loss: 0.3977 - accuracy: 0.8542 - val_loss: 0.2979 - val_accuracy: 0.9583\n",
      "Epoch 153/200\n",
      "20/20 [==============================] - 0s 8ms/step - loss: 0.3472 - accuracy: 0.8854 - val_loss: 0.2961 - val_accuracy: 0.8750\n",
      "Epoch 154/200\n",
      "20/20 [==============================] - 0s 11ms/step - loss: 0.4298 - accuracy: 0.7917 - val_loss: 0.3054 - val_accuracy: 0.9167\n",
      "Epoch 155/200\n",
      "20/20 [==============================] - 0s 8ms/step - loss: 0.3796 - accuracy: 0.8750 - val_loss: 0.3000 - val_accuracy: 0.9583\n",
      "Epoch 156/200\n",
      "20/20 [==============================] - 0s 9ms/step - loss: 0.3391 - accuracy: 0.9062 - val_loss: 0.2887 - val_accuracy: 0.9167\n",
      "Epoch 157/200\n",
      "20/20 [==============================] - 0s 9ms/step - loss: 0.3686 - accuracy: 0.8646 - val_loss: 0.2806 - val_accuracy: 0.9167\n",
      "Epoch 158/200\n",
      "20/20 [==============================] - 0s 9ms/step - loss: 0.4253 - accuracy: 0.8333 - val_loss: 0.2828 - val_accuracy: 0.9583\n",
      "Epoch 159/200\n",
      "20/20 [==============================] - 0s 11ms/step - loss: 0.4539 - accuracy: 0.8125 - val_loss: 0.2772 - val_accuracy: 0.9583\n",
      "Epoch 160/200\n",
      "20/20 [==============================] - 0s 10ms/step - loss: 0.4143 - accuracy: 0.8438 - val_loss: 0.2779 - val_accuracy: 0.9167\n",
      "Epoch 161/200\n",
      "20/20 [==============================] - 0s 8ms/step - loss: 0.3979 - accuracy: 0.8229 - val_loss: 0.2811 - val_accuracy: 0.9583\n",
      "Epoch 162/200\n",
      "20/20 [==============================] - 0s 8ms/step - loss: 0.4531 - accuracy: 0.8021 - val_loss: 0.2913 - val_accuracy: 0.9583\n",
      "Epoch 163/200\n",
      "20/20 [==============================] - 0s 9ms/step - loss: 0.3642 - accuracy: 0.8542 - val_loss: 0.2874 - val_accuracy: 0.9167\n",
      "Epoch 164/200\n",
      "20/20 [==============================] - 0s 9ms/step - loss: 0.4061 - accuracy: 0.8542 - val_loss: 0.2859 - val_accuracy: 0.9167\n",
      "Epoch 165/200\n",
      "20/20 [==============================] - 0s 9ms/step - loss: 0.4519 - accuracy: 0.7917 - val_loss: 0.2912 - val_accuracy: 0.9167\n",
      "Epoch 166/200\n",
      "20/20 [==============================] - 0s 10ms/step - loss: 0.4766 - accuracy: 0.7812 - val_loss: 0.3012 - val_accuracy: 0.9167\n",
      "Epoch 167/200\n",
      "20/20 [==============================] - 0s 10ms/step - loss: 0.4278 - accuracy: 0.8542 - val_loss: 0.3011 - val_accuracy: 0.9583\n",
      "Epoch 168/200\n",
      "20/20 [==============================] - 0s 10ms/step - loss: 0.4862 - accuracy: 0.8438 - val_loss: 0.2932 - val_accuracy: 0.9583\n",
      "Epoch 169/200\n",
      "20/20 [==============================] - 0s 10ms/step - loss: 0.3335 - accuracy: 0.8750 - val_loss: 0.2888 - val_accuracy: 0.9583\n",
      "Epoch 170/200\n",
      "20/20 [==============================] - 0s 11ms/step - loss: 0.3526 - accuracy: 0.8646 - val_loss: 0.2899 - val_accuracy: 0.9583\n",
      "Epoch 171/200\n",
      "20/20 [==============================] - 0s 11ms/step - loss: 0.4877 - accuracy: 0.8229 - val_loss: 0.2836 - val_accuracy: 0.9583\n",
      "Epoch 172/200\n",
      "20/20 [==============================] - 0s 9ms/step - loss: 0.3555 - accuracy: 0.9062 - val_loss: 0.3045 - val_accuracy: 0.9167\n",
      "Epoch 173/200\n",
      "20/20 [==============================] - 0s 9ms/step - loss: 0.4373 - accuracy: 0.7917 - val_loss: 0.2769 - val_accuracy: 0.9167\n",
      "Epoch 174/200\n",
      "20/20 [==============================] - 0s 9ms/step - loss: 0.3923 - accuracy: 0.8438 - val_loss: 0.2946 - val_accuracy: 0.9167\n",
      "Epoch 175/200\n",
      "20/20 [==============================] - 0s 10ms/step - loss: 0.4176 - accuracy: 0.8542 - val_loss: 0.2796 - val_accuracy: 0.9167\n",
      "Epoch 176/200\n",
      "20/20 [==============================] - 0s 9ms/step - loss: 0.4404 - accuracy: 0.8125 - val_loss: 0.2782 - val_accuracy: 0.9167\n",
      "Epoch 177/200\n",
      "20/20 [==============================] - 0s 11ms/step - loss: 0.4145 - accuracy: 0.8125 - val_loss: 0.2815 - val_accuracy: 0.9167\n",
      "Epoch 178/200\n",
      "20/20 [==============================] - 0s 9ms/step - loss: 0.4032 - accuracy: 0.8438 - val_loss: 0.2763 - val_accuracy: 0.9583\n",
      "Epoch 179/200\n",
      "20/20 [==============================] - 0s 9ms/step - loss: 0.4078 - accuracy: 0.8229 - val_loss: 0.2756 - val_accuracy: 0.9167\n",
      "Epoch 180/200\n",
      "20/20 [==============================] - 0s 9ms/step - loss: 0.4187 - accuracy: 0.8229 - val_loss: 0.2832 - val_accuracy: 0.9167\n",
      "Epoch 181/200\n",
      "20/20 [==============================] - 0s 10ms/step - loss: 0.4793 - accuracy: 0.8021 - val_loss: 0.2774 - val_accuracy: 0.9583\n",
      "Epoch 182/200\n",
      "20/20 [==============================] - 0s 12ms/step - loss: 0.3566 - accuracy: 0.8646 - val_loss: 0.2730 - val_accuracy: 0.9167\n",
      "Epoch 183/200\n",
      "20/20 [==============================] - 0s 8ms/step - loss: 0.4449 - accuracy: 0.8125 - val_loss: 0.2947 - val_accuracy: 0.9167\n",
      "Epoch 184/200\n",
      "20/20 [==============================] - 0s 8ms/step - loss: 0.3346 - accuracy: 0.8854 - val_loss: 0.2846 - val_accuracy: 0.9167\n",
      "Epoch 185/200\n",
      "20/20 [==============================] - 0s 7ms/step - loss: 0.5340 - accuracy: 0.7812 - val_loss: 0.2715 - val_accuracy: 0.9167\n",
      "Epoch 186/200\n",
      "20/20 [==============================] - 0s 7ms/step - loss: 0.4669 - accuracy: 0.8125 - val_loss: 0.2671 - val_accuracy: 0.9167\n",
      "Epoch 187/200\n",
      "20/20 [==============================] - 0s 10ms/step - loss: 0.4322 - accuracy: 0.8021 - val_loss: 0.2658 - val_accuracy: 0.9167\n",
      "Epoch 188/200\n",
      "20/20 [==============================] - 0s 11ms/step - loss: 0.4696 - accuracy: 0.8021 - val_loss: 0.2647 - val_accuracy: 0.9167\n",
      "Epoch 189/200\n",
      "20/20 [==============================] - 0s 10ms/step - loss: 0.4125 - accuracy: 0.8021 - val_loss: 0.2695 - val_accuracy: 0.9583\n",
      "Epoch 190/200\n",
      "20/20 [==============================] - 0s 11ms/step - loss: 0.3623 - accuracy: 0.8646 - val_loss: 0.2901 - val_accuracy: 0.9167\n",
      "Epoch 191/200\n",
      "20/20 [==============================] - 0s 8ms/step - loss: 0.3312 - accuracy: 0.9167 - val_loss: 0.2681 - val_accuracy: 0.9583\n",
      "Epoch 192/200\n",
      "20/20 [==============================] - 0s 9ms/step - loss: 0.4711 - accuracy: 0.7708 - val_loss: 0.2730 - val_accuracy: 0.9167\n",
      "Epoch 193/200\n",
      "20/20 [==============================] - 0s 12ms/step - loss: 0.3269 - accuracy: 0.8646 - val_loss: 0.2785 - val_accuracy: 0.9583\n",
      "Epoch 194/200\n",
      "20/20 [==============================] - 0s 11ms/step - loss: 0.4046 - accuracy: 0.8438 - val_loss: 0.2767 - val_accuracy: 0.9167\n",
      "Epoch 195/200\n",
      "20/20 [==============================] - 0s 11ms/step - loss: 0.4234 - accuracy: 0.8646 - val_loss: 0.2649 - val_accuracy: 0.9167\n",
      "Epoch 196/200\n",
      "20/20 [==============================] - 0s 9ms/step - loss: 0.3983 - accuracy: 0.8438 - val_loss: 0.2716 - val_accuracy: 0.9167\n",
      "Epoch 197/200\n",
      "20/20 [==============================] - 0s 12ms/step - loss: 0.4500 - accuracy: 0.8229 - val_loss: 0.2640 - val_accuracy: 0.9167\n",
      "Epoch 198/200\n",
      "20/20 [==============================] - 0s 11ms/step - loss: 0.3520 - accuracy: 0.8646 - val_loss: 0.2673 - val_accuracy: 0.9167\n",
      "Epoch 199/200\n",
      "20/20 [==============================] - 0s 9ms/step - loss: 0.3684 - accuracy: 0.8542 - val_loss: 0.2748 - val_accuracy: 0.9583\n",
      "Epoch 200/200\n",
      "20/20 [==============================] - 0s 8ms/step - loss: 0.4581 - accuracy: 0.8021 - val_loss: 0.2673 - val_accuracy: 0.9167\n"
     ]
    }
   ],
   "source": [
    "history = model.fit(train_x,train_y,epochs=200,batch_size=5,validation_split=0.2)"
   ]
  },
  {
   "cell_type": "markdown",
   "metadata": {},
   "source": [
    "# + Evaluatution"
   ]
  },
  {
   "cell_type": "code",
   "execution_count": 11,
   "metadata": {},
   "outputs": [
    {
     "name": "stdout",
     "output_type": "stream",
     "text": [
      "1/1 [==============================] - 0s 56ms/step - loss: 0.1569 - accuracy: 1.0000\n",
      "Final test set loss: 0.156932\n",
      "Final test set accuracy: 1.000000\n"
     ]
    }
   ],
   "source": [
    "# Test on unseen data\n",
    "results = model.evaluate(test_x, test_y)\n",
    "\n",
    "print('Final test set loss: {:4f}'.format(results[0]))\n",
    "print('Final test set accuracy: {:4f}'.format(results[1]))"
   ]
  },
  {
   "cell_type": "code",
   "execution_count": 12,
   "metadata": {},
   "outputs": [
    {
     "data": {
      "image/png": "[encoded data removed]",
      "text/plain": [
       "<Figure size 432x288 with 1 Axes>"
      ]
     },
     "metadata": {
      "needs_background": "light"
     },
     "output_type": "display_data"
    },
    {
     "data": {
      "image/png": "[encoded data removed]",
      "text/plain": [
       "<Figure size 432x288 with 1 Axes>"
      ]
     },
     "metadata": {
      "needs_background": "light"
     },
     "output_type": "display_data"
    }
   ],
   "source": [
    "import matplotlib.pyplot as plt\n",
    "%matplotlib inline\n",
    "\n",
    "acc = history.history['accuracy']\n",
    "val_acc = history.history['val_accuracy']\n",
    "loss = history.history['loss']\n",
    "val_loss = history.history['val_loss']\n",
    "\n",
    "epochs = range(len(acc))\n",
    "\n",
    "plt.plot(epochs, acc, 'bo', label='Training acc')\n",
    "plt.plot(epochs, val_acc, 'b', label='Validation acc')\n",
    "plt.title('Training and validation accuracy')\n",
    "plt.legend()\n",
    "\n",
    "plt.figure()\n",
    "\n",
    "plt.plot(epochs, loss, 'bo', label='Training loss')\n",
    "plt.plot(epochs, val_loss, 'b', label='Validation loss')\n",
    "plt.title('Training and validation loss')\n",
    "plt.legend()\n",
    "\n",
    "plt.show()"
   ]
  }
 ],
 "metadata": {
  "interpreter": {
   "hash": "916dbcbb3f70747c44a77c7bcd40155683ae19c65e1c03b4aa3499c5328201f1"
  },
  "kernelspec": {
   "display_name": "Python 3.9.7 64-bit",
   "language": "python",
   "name": "python3"
  },
  "language_info": {
   "codemirror_mode": {
    "name": "ipython",
    "version": 3
   },
   "file_extension": ".py",
   "mimetype": "text/x-python",
   "name": "python",
   "nbconvert_exporter": "python",
   "pygments_lexer": "ipython3",
   "version": "3.9.7"
  },
  "orig_nbformat": 4
 },
 "nbformat": 4,
 "nbformat_minor": 2
}
