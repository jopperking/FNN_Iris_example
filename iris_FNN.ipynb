{
 "cells": [
  {
   "cell_type": "markdown",
   "metadata": {},
   "source": [
    "<h1><center><div style=\"direction:rtl;font-family:B Lotus, B Nazanin, Tahoma\"> بسم الله الرحمن الرحیم</div></center></h1>"
   ]
  },
  {
   "cell_type": "markdown",
   "metadata": {},
   "source": [
    "<h1><center><div style=\"direction:rtl;font-family:B Lotus, B Nazanin, Tahoma\"> Classification with fully connected neural network with the IRIS dataset</div></center></h1>"
   ]
  },
  {
   "cell_type": "markdown",
   "metadata": {},
   "source": [
    "## About\n",
    "```\n",
    "The structural data set of the findings includes 4 characteristics for the length and width of the sepals and petals, based on which the type of flower is distinguished from 3 different classes.\n",
    "``` "
   ]
  },
  {
   "cell_type": "markdown",
   "metadata": {},
   "source": [
    "# Import required libraries"
   ]
  },
  {
   "cell_type": "code",
   "execution_count": 3,
   "metadata": {},
   "outputs": [],
   "source": [
    "import numpy as np\n",
    "from tensorflow import keras # Datasetas"
   ]
  },
  {
   "cell_type": "markdown",
   "metadata": {},
   "source": [
    "# About Dataset"
   ]
  },
  {
   "cell_type": "markdown",
   "metadata": {},
   "source": [
    "+ Descriptions of this dataset are available on this website:\n",
    "\n",
    "  + https://archive.ics.uci.edu/ml/datasets/iris \n",
    "\n",
    "---\n",
    "\n",
    "+ Attribute Information:\n",
    "\n",
    "    + sepal length in cm\n",
    "    + sepal width in cm\n",
    "    + petal length in cm\n",
    "    + petal width in cm\n",
    "\n",
    "---\n",
    "\n",
    "+ class:\n",
    "\n",
    "    + Iris Setosa\n",
    "    + Iris Versicolour\n",
    "    + Iris Virginica\n",
    "\n"
   ]
  },
  {
   "cell_type": "markdown",
   "metadata": {},
   "source": [
    "# + Load Dataset"
   ]
  },
  {
   "cell_type": "code",
   "execution_count": 4,
   "metadata": {},
   "outputs": [
    {
     "name": "stdout",
     "output_type": "stream",
     "text": [
      "Sample of Features:\n",
      "[[5.1 3.5 1.4 0.2]\n",
      " [4.9 3.  1.4 0.2]\n",
      " [4.7 3.2 1.3 0.2]\n",
      " [4.6 3.1 1.5 0.2]\n",
      " [5.  3.6 1.4 0.2]]\n",
      "\n",
      "\n",
      "Sample of Classes:\n",
      "[0 0 0 0 0]\n"
     ]
    }
   ],
   "source": [
    "from sklearn.datasets import load_iris\n",
    "\n",
    "iris_data = load_iris() # load the iris dataset\n",
    "\n",
    "x = iris_data.data # Features\n",
    "y = iris_data.target # Classes\n",
    "\n",
    "print(\"Sample of Features:\")\n",
    "print(x[:5])\n",
    "\n",
    "print(\"\\n\")\n",
    "\n",
    "print(\"Sample of Classes:\")\n",
    "print(y[:5])"
   ]
  },
  {
   "cell_type": "markdown",
   "metadata": {},
   "source": [
    "# + Preprocessing"
   ]
  },
  {
   "cell_type": "code",
   "execution_count": 5,
   "metadata": {},
   "outputs": [
    {
     "name": "stdout",
     "output_type": "stream",
     "text": [
      "Sample of Classes in a single column:\n"
     ]
    },
    {
     "data": {
      "text/plain": [
       "array([[0],\n",
       "       [0],\n",
       "       [0],\n",
       "       [0],\n",
       "       [0]])"
      ]
     },
     "execution_count": 5,
     "metadata": {},
     "output_type": "execute_result"
    }
   ],
   "source": [
    "# Convert data to a single column\n",
    "y = y.reshape(-1, 1) \n",
    "\n",
    "print(\"Sample of Classes in a single column:\")\n",
    "y[:5]"
   ]
  },
  {
   "cell_type": "code",
   "execution_count": 6,
   "metadata": {},
   "outputs": [
    {
     "name": "stdout",
     "output_type": "stream",
     "text": [
      "Classes are:\n",
      "[0 1 2]\n"
     ]
    },
    {
     "data": {
      "text/plain": [
       "3"
      ]
     },
     "execution_count": 6,
     "metadata": {},
     "output_type": "execute_result"
    }
   ],
   "source": [
    "# Store Number of classes befor convert to one-hot\n",
    "print('Classes are:')\n",
    "print(np.unique(y)) # Classes\n",
    "number_of_classes = len(np.unique(y)) # 3\n",
    "number_of_classes"
   ]
  },
  {
   "cell_type": "code",
   "execution_count": 7,
   "metadata": {},
   "outputs": [
    {
     "data": {
      "text/plain": [
       "array([[1., 0., 0.],\n",
       "       [1., 0., 0.],\n",
       "       [1., 0., 0.],\n",
       "       [1., 0., 0.],\n",
       "       [1., 0., 0.]], dtype=float32)"
      ]
     },
     "execution_count": 7,
     "metadata": {},
     "output_type": "execute_result"
    }
   ],
   "source": [
    "# Convert classes in one-hot\n",
    "\n",
    "y = keras.utils.to_categorical(y , num_classes=3)\n",
    "y[:5]"
   ]
  },
  {
   "cell_type": "markdown",
   "metadata": {},
   "source": [
    "# + Split the data"
   ]
  },
  {
   "cell_type": "code",
   "execution_count": 8,
   "metadata": {},
   "outputs": [
    {
     "data": {
      "text/plain": [
       "array([[6.1, 2.8, 4.7, 1.2],\n",
       "       [4.6, 3.6, 1. , 0.2],\n",
       "       [6.8, 2.8, 4.8, 1.4],\n",
       "       [6.9, 3.1, 4.9, 1.5],\n",
       "       [5.5, 2.4, 3.8, 1.1]])"
      ]
     },
     "execution_count": 8,
     "metadata": {},
     "output_type": "execute_result"
    }
   ],
   "source": [
    "from sklearn.model_selection import train_test_split\n",
    "\n",
    "# Split the data for training and testing\n",
    "train_x, test_x, train_y, test_y = train_test_split(x, y, test_size=0.20)\n",
    "train_x[:5]"
   ]
  },
  {
   "cell_type": "markdown",
   "metadata": {},
   "source": [
    "# + Initial Neural Network"
   ]
  },
  {
   "cell_type": "code",
   "execution_count": 10,
   "metadata": {},
   "outputs": [],
   "source": [
    "from keras.models import Sequential\n",
    "from keras.layers import Dense, Dropout\n",
    "\n",
    "# Store input dimention\n",
    "size_sample , dimantion = x.shape\n",
    "\n",
    "model = Sequential()\n",
    "model.add(Dense(10 , activation='relu' , input_dim=dimantion)) # 1st Layerst\n",
    "model.add(Dense(10 , activation='relu' )) # 2nd Layer\n",
    "model.add(Dropout(0.5)) # Droupout ( kill 50% of neurals)\n",
    "model.add(Dense(number_of_classes, activation='softmax')) # Final Layer"
   ]
  },
  {
   "cell_type": "code",
   "execution_count": 11,
   "metadata": {},
   "outputs": [
    {
     "name": "stdout",
     "output_type": "stream",
     "text": [
      "Model: \"sequential_1\"\n",
      "_________________________________________________________________\n",
      " Layer (type)                Output Shape              Param #   \n",
      "=================================================================\n",
      " dense_3 (Dense)             (None, 10)                50        \n",
      "                                                                 \n",
      " dense_4 (Dense)             (None, 10)                110       \n",
      "                                                                 \n",
      " dropout_1 (Dropout)         (None, 10)                0         \n",
      "                                                                 \n",
      " dense_5 (Dense)             (None, 3)                 33        \n",
      "                                                                 \n",
      "=================================================================\n",
      "Total params: 193\n",
      "Trainable params: 193\n",
      "Non-trainable params: 0\n",
      "_________________________________________________________________\n"
     ]
    }
   ],
   "source": [
    "# Summary of created Neural Network\n",
    "model.summary()"
   ]
  },
  {
   "cell_type": "markdown",
   "metadata": {},
   "source": [
    "# + Optimizing\n"
   ]
  },
  {
   "cell_type": "code",
   "execution_count": 12,
   "metadata": {},
   "outputs": [
    {
     "name": "stderr",
     "output_type": "stream",
     "text": [
      "/usr/local/lib/python3.9/dist-packages/keras/optimizer_v2/adam.py:105: UserWarning: The `lr` argument is deprecated, use `learning_rate` instead.\n",
      "  super(Adam, self).__init__(name, **kwargs)\n"
     ]
    }
   ],
   "source": [
    "from tensorflow.keras.optimizers import Adam\n",
    "\n",
    "# Adam optimizer with learning rate of 0.001\n",
    "optimizer = Adam(lr=0.001)\n",
    "model.compile(optimizer, loss='categorical_crossentropy', metrics=['accuracy'])\n"
   ]
  },
  {
   "cell_type": "markdown",
   "metadata": {},
   "source": [
    "# + Learning"
   ]
  },
  {
   "cell_type": "code",
   "execution_count": 13,
   "metadata": {},
   "outputs": [
    {
     "name": "stdout",
     "output_type": "stream",
     "text": [
      "Epoch 1/200\n",
      "24/24 [==============================] - 1s 5ms/step - loss: 1.2474 - accuracy: 0.3667\n",
      "Epoch 2/200\n",
      "24/24 [==============================] - 0s 4ms/step - loss: 1.1055 - accuracy: 0.3333\n",
      "Epoch 3/200\n",
      "24/24 [==============================] - 0s 4ms/step - loss: 1.0383 - accuracy: 0.3667\n",
      "Epoch 4/200\n",
      "24/24 [==============================] - 0s 6ms/step - loss: 0.9766 - accuracy: 0.3417\n",
      "Epoch 5/200\n",
      "24/24 [==============================] - 0s 5ms/step - loss: 0.9344 - accuracy: 0.4500\n",
      "Epoch 6/200\n",
      "24/24 [==============================] - 0s 5ms/step - loss: 0.8995 - accuracy: 0.4667\n",
      "Epoch 7/200\n",
      "24/24 [==============================] - 0s 5ms/step - loss: 0.8760 - accuracy: 0.5000\n",
      "Epoch 8/200\n",
      "24/24 [==============================] - 0s 4ms/step - loss: 0.8856 - accuracy: 0.5917\n",
      "Epoch 9/200\n",
      "24/24 [==============================] - 0s 5ms/step - loss: 0.8480 - accuracy: 0.6333\n",
      "Epoch 10/200\n",
      "24/24 [==============================] - 0s 5ms/step - loss: 0.8281 - accuracy: 0.6250\n",
      "Epoch 11/200\n",
      "24/24 [==============================] - 0s 5ms/step - loss: 0.8271 - accuracy: 0.6083\n",
      "Epoch 12/200\n",
      "24/24 [==============================] - 0s 5ms/step - loss: 0.8190 - accuracy: 0.6000\n",
      "Epoch 13/200\n",
      "24/24 [==============================] - 0s 4ms/step - loss: 0.8063 - accuracy: 0.6583\n",
      "Epoch 14/200\n",
      "24/24 [==============================] - 0s 5ms/step - loss: 0.7765 - accuracy: 0.6500\n",
      "Epoch 15/200\n",
      "24/24 [==============================] - 0s 4ms/step - loss: 0.7651 - accuracy: 0.6333\n",
      "Epoch 16/200\n",
      "24/24 [==============================] - 0s 5ms/step - loss: 0.7728 - accuracy: 0.6417\n",
      "Epoch 17/200\n",
      "24/24 [==============================] - 0s 5ms/step - loss: 0.7432 - accuracy: 0.6500\n",
      "Epoch 18/200\n",
      "24/24 [==============================] - 0s 4ms/step - loss: 0.7068 - accuracy: 0.7417\n",
      "Epoch 19/200\n",
      "24/24 [==============================] - 0s 5ms/step - loss: 0.7226 - accuracy: 0.6417\n",
      "Epoch 20/200\n",
      "24/24 [==============================] - 0s 5ms/step - loss: 0.6387 - accuracy: 0.7083\n",
      "Epoch 21/200\n",
      "24/24 [==============================] - 0s 5ms/step - loss: 0.6338 - accuracy: 0.7167\n",
      "Epoch 22/200\n",
      "24/24 [==============================] - 0s 5ms/step - loss: 0.6008 - accuracy: 0.7583\n",
      "Epoch 23/200\n",
      "24/24 [==============================] - 0s 4ms/step - loss: 0.5965 - accuracy: 0.7833\n",
      "Epoch 24/200\n",
      "24/24 [==============================] - 0s 5ms/step - loss: 0.5607 - accuracy: 0.7667\n",
      "Epoch 25/200\n",
      "24/24 [==============================] - 0s 5ms/step - loss: 0.5055 - accuracy: 0.7500\n",
      "Epoch 26/200\n",
      "24/24 [==============================] - 0s 5ms/step - loss: 0.5557 - accuracy: 0.7750\n",
      "Epoch 27/200\n",
      "24/24 [==============================] - 0s 5ms/step - loss: 0.5528 - accuracy: 0.7417\n",
      "Epoch 28/200\n",
      "24/24 [==============================] - 0s 5ms/step - loss: 0.5129 - accuracy: 0.7917\n",
      "Epoch 29/200\n",
      "24/24 [==============================] - 0s 6ms/step - loss: 0.5494 - accuracy: 0.8333\n",
      "Epoch 30/200\n",
      "24/24 [==============================] - 0s 4ms/step - loss: 0.5129 - accuracy: 0.7583\n",
      "Epoch 31/200\n",
      "24/24 [==============================] - 0s 4ms/step - loss: 0.4902 - accuracy: 0.8000\n",
      "Epoch 32/200\n",
      "24/24 [==============================] - 0s 5ms/step - loss: 0.4986 - accuracy: 0.7833\n",
      "Epoch 33/200\n",
      "24/24 [==============================] - 0s 4ms/step - loss: 0.4543 - accuracy: 0.8583\n",
      "Epoch 34/200\n",
      "24/24 [==============================] - 0s 4ms/step - loss: 0.4965 - accuracy: 0.8167\n",
      "Epoch 35/200\n",
      "24/24 [==============================] - 0s 5ms/step - loss: 0.4965 - accuracy: 0.7583\n",
      "Epoch 36/200\n",
      "24/24 [==============================] - 0s 5ms/step - loss: 0.5094 - accuracy: 0.7750\n",
      "Epoch 37/200\n",
      "24/24 [==============================] - 0s 5ms/step - loss: 0.4927 - accuracy: 0.8500\n",
      "Epoch 38/200\n",
      "24/24 [==============================] - 0s 5ms/step - loss: 0.4591 - accuracy: 0.8250\n",
      "Epoch 39/200\n",
      "24/24 [==============================] - 0s 4ms/step - loss: 0.4343 - accuracy: 0.8167\n",
      "Epoch 40/200\n",
      "24/24 [==============================] - 0s 4ms/step - loss: 0.4037 - accuracy: 0.8583\n",
      "Epoch 41/200\n",
      "24/24 [==============================] - 0s 5ms/step - loss: 0.4217 - accuracy: 0.8000\n",
      "Epoch 42/200\n",
      "24/24 [==============================] - 0s 5ms/step - loss: 0.4155 - accuracy: 0.8083\n",
      "Epoch 43/200\n",
      "24/24 [==============================] - 0s 5ms/step - loss: 0.4513 - accuracy: 0.7833\n",
      "Epoch 44/200\n",
      "24/24 [==============================] - 0s 5ms/step - loss: 0.4409 - accuracy: 0.8167\n",
      "Epoch 45/200\n",
      "24/24 [==============================] - 0s 5ms/step - loss: 0.4193 - accuracy: 0.8167\n",
      "Epoch 46/200\n",
      "24/24 [==============================] - 0s 4ms/step - loss: 0.3744 - accuracy: 0.8500\n",
      "Epoch 47/200\n",
      "24/24 [==============================] - 0s 4ms/step - loss: 0.4040 - accuracy: 0.8250\n",
      "Epoch 48/200\n",
      "24/24 [==============================] - 0s 5ms/step - loss: 0.4133 - accuracy: 0.8250\n",
      "Epoch 49/200\n",
      "24/24 [==============================] - 0s 4ms/step - loss: 0.4121 - accuracy: 0.8333\n",
      "Epoch 50/200\n",
      "24/24 [==============================] - 0s 4ms/step - loss: 0.4120 - accuracy: 0.8167\n",
      "Epoch 51/200\n",
      "24/24 [==============================] - 0s 4ms/step - loss: 0.4204 - accuracy: 0.8667\n",
      "Epoch 52/200\n",
      "24/24 [==============================] - 0s 5ms/step - loss: 0.3742 - accuracy: 0.8250\n",
      "Epoch 53/200\n",
      "24/24 [==============================] - 0s 5ms/step - loss: 0.4072 - accuracy: 0.8250\n",
      "Epoch 54/200\n",
      "24/24 [==============================] - 0s 5ms/step - loss: 0.3714 - accuracy: 0.8250\n",
      "Epoch 55/200\n",
      "24/24 [==============================] - 0s 5ms/step - loss: 0.3783 - accuracy: 0.8667\n",
      "Epoch 56/200\n",
      "24/24 [==============================] - 0s 4ms/step - loss: 0.3957 - accuracy: 0.8333\n",
      "Epoch 57/200\n",
      "24/24 [==============================] - 0s 4ms/step - loss: 0.3790 - accuracy: 0.8583\n",
      "Epoch 58/200\n",
      "24/24 [==============================] - 0s 5ms/step - loss: 0.4185 - accuracy: 0.8250\n",
      "Epoch 59/200\n",
      "24/24 [==============================] - 0s 4ms/step - loss: 0.4145 - accuracy: 0.8250\n",
      "Epoch 60/200\n",
      "24/24 [==============================] - 0s 5ms/step - loss: 0.3461 - accuracy: 0.8833\n",
      "Epoch 61/200\n",
      "24/24 [==============================] - 0s 4ms/step - loss: 0.3274 - accuracy: 0.8750\n",
      "Epoch 62/200\n",
      "24/24 [==============================] - 0s 5ms/step - loss: 0.3387 - accuracy: 0.8833\n",
      "Epoch 63/200\n",
      "24/24 [==============================] - 0s 4ms/step - loss: 0.3701 - accuracy: 0.8083\n",
      "Epoch 64/200\n",
      "24/24 [==============================] - 0s 5ms/step - loss: 0.3312 - accuracy: 0.8250\n",
      "Epoch 65/200\n",
      "24/24 [==============================] - 0s 5ms/step - loss: 0.3764 - accuracy: 0.8083\n",
      "Epoch 66/200\n",
      "24/24 [==============================] - 0s 5ms/step - loss: 0.3737 - accuracy: 0.8167\n",
      "Epoch 67/200\n",
      "24/24 [==============================] - 0s 4ms/step - loss: 0.2991 - accuracy: 0.9333\n",
      "Epoch 68/200\n",
      "24/24 [==============================] - 0s 5ms/step - loss: 0.3716 - accuracy: 0.8167\n",
      "Epoch 69/200\n",
      "24/24 [==============================] - 0s 5ms/step - loss: 0.3313 - accuracy: 0.8833\n",
      "Epoch 70/200\n",
      "24/24 [==============================] - 0s 5ms/step - loss: 0.3422 - accuracy: 0.8667\n",
      "Epoch 71/200\n",
      "24/24 [==============================] - 0s 5ms/step - loss: 0.3042 - accuracy: 0.8833\n",
      "Epoch 72/200\n",
      "24/24 [==============================] - 0s 5ms/step - loss: 0.3465 - accuracy: 0.8500\n",
      "Epoch 73/200\n",
      "24/24 [==============================] - 0s 5ms/step - loss: 0.3124 - accuracy: 0.8917\n",
      "Epoch 74/200\n",
      "24/24 [==============================] - 0s 4ms/step - loss: 0.3058 - accuracy: 0.8833\n",
      "Epoch 75/200\n",
      "24/24 [==============================] - 0s 5ms/step - loss: 0.4069 - accuracy: 0.8250\n",
      "Epoch 76/200\n",
      "24/24 [==============================] - 0s 4ms/step - loss: 0.2679 - accuracy: 0.8917\n",
      "Epoch 77/200\n",
      "24/24 [==============================] - 0s 5ms/step - loss: 0.2640 - accuracy: 0.9083\n",
      "Epoch 78/200\n",
      "24/24 [==============================] - 0s 5ms/step - loss: 0.3914 - accuracy: 0.7833\n",
      "Epoch 79/200\n",
      "24/24 [==============================] - 0s 4ms/step - loss: 0.3290 - accuracy: 0.8500\n",
      "Epoch 80/200\n",
      "24/24 [==============================] - 0s 4ms/step - loss: 0.3262 - accuracy: 0.9083\n",
      "Epoch 81/200\n",
      "24/24 [==============================] - 0s 5ms/step - loss: 0.3380 - accuracy: 0.8583\n",
      "Epoch 82/200\n",
      "24/24 [==============================] - 0s 5ms/step - loss: 0.3440 - accuracy: 0.8500\n",
      "Epoch 83/200\n",
      "24/24 [==============================] - 0s 5ms/step - loss: 0.3270 - accuracy: 0.8583\n",
      "Epoch 84/200\n",
      "24/24 [==============================] - 0s 4ms/step - loss: 0.3282 - accuracy: 0.8833\n",
      "Epoch 85/200\n",
      "24/24 [==============================] - 0s 5ms/step - loss: 0.3420 - accuracy: 0.8333\n",
      "Epoch 86/200\n",
      "24/24 [==============================] - 0s 4ms/step - loss: 0.2816 - accuracy: 0.8917\n",
      "Epoch 87/200\n",
      "24/24 [==============================] - 0s 4ms/step - loss: 0.3056 - accuracy: 0.8667\n",
      "Epoch 88/200\n",
      "24/24 [==============================] - 0s 4ms/step - loss: 0.3683 - accuracy: 0.8500\n",
      "Epoch 89/200\n",
      "24/24 [==============================] - 0s 4ms/step - loss: 0.2926 - accuracy: 0.8833\n",
      "Epoch 90/200\n",
      "24/24 [==============================] - 0s 4ms/step - loss: 0.3199 - accuracy: 0.8667\n",
      "Epoch 91/200\n",
      "24/24 [==============================] - 0s 5ms/step - loss: 0.3538 - accuracy: 0.8500\n",
      "Epoch 92/200\n",
      "24/24 [==============================] - 0s 5ms/step - loss: 0.3294 - accuracy: 0.8667\n",
      "Epoch 93/200\n",
      "24/24 [==============================] - 0s 4ms/step - loss: 0.3099 - accuracy: 0.8583\n",
      "Epoch 94/200\n",
      "24/24 [==============================] - 0s 5ms/step - loss: 0.3276 - accuracy: 0.8500\n",
      "Epoch 95/200\n",
      "24/24 [==============================] - 0s 5ms/step - loss: 0.3157 - accuracy: 0.8583\n",
      "Epoch 96/200\n",
      "24/24 [==============================] - 0s 5ms/step - loss: 0.2878 - accuracy: 0.8917\n",
      "Epoch 97/200\n",
      "24/24 [==============================] - 0s 4ms/step - loss: 0.3414 - accuracy: 0.8417\n",
      "Epoch 98/200\n",
      "24/24 [==============================] - 0s 4ms/step - loss: 0.3093 - accuracy: 0.8833\n",
      "Epoch 99/200\n",
      "24/24 [==============================] - 0s 5ms/step - loss: 0.2691 - accuracy: 0.9083\n",
      "Epoch 100/200\n",
      "24/24 [==============================] - 0s 4ms/step - loss: 0.2640 - accuracy: 0.9250\n",
      "Epoch 101/200\n",
      "24/24 [==============================] - 0s 4ms/step - loss: 0.2382 - accuracy: 0.9250\n",
      "Epoch 102/200\n",
      "24/24 [==============================] - 0s 4ms/step - loss: 0.2974 - accuracy: 0.8667\n",
      "Epoch 103/200\n",
      "24/24 [==============================] - 0s 4ms/step - loss: 0.2451 - accuracy: 0.9250\n",
      "Epoch 104/200\n",
      "24/24 [==============================] - 0s 4ms/step - loss: 0.3041 - accuracy: 0.8750\n",
      "Epoch 105/200\n",
      "24/24 [==============================] - 0s 4ms/step - loss: 0.2750 - accuracy: 0.8667\n",
      "Epoch 106/200\n",
      "24/24 [==============================] - 0s 4ms/step - loss: 0.3105 - accuracy: 0.8667\n",
      "Epoch 107/200\n",
      "24/24 [==============================] - 0s 5ms/step - loss: 0.2564 - accuracy: 0.9250\n",
      "Epoch 108/200\n",
      "24/24 [==============================] - 0s 4ms/step - loss: 0.3206 - accuracy: 0.8417\n",
      "Epoch 109/200\n",
      "24/24 [==============================] - 0s 4ms/step - loss: 0.2565 - accuracy: 0.9333\n",
      "Epoch 110/200\n",
      "24/24 [==============================] - 0s 4ms/step - loss: 0.2395 - accuracy: 0.9083\n",
      "Epoch 111/200\n",
      "24/24 [==============================] - 0s 4ms/step - loss: 0.2638 - accuracy: 0.8917\n",
      "Epoch 112/200\n",
      "24/24 [==============================] - 0s 5ms/step - loss: 0.2288 - accuracy: 0.9083\n",
      "Epoch 113/200\n",
      "24/24 [==============================] - 0s 4ms/step - loss: 0.3098 - accuracy: 0.8667\n",
      "Epoch 114/200\n",
      "24/24 [==============================] - 0s 4ms/step - loss: 0.2550 - accuracy: 0.9083\n",
      "Epoch 115/200\n",
      "24/24 [==============================] - 0s 4ms/step - loss: 0.2836 - accuracy: 0.9083\n",
      "Epoch 116/200\n",
      "24/24 [==============================] - 0s 4ms/step - loss: 0.2853 - accuracy: 0.8917\n",
      "Epoch 117/200\n",
      "24/24 [==============================] - 0s 4ms/step - loss: 0.3219 - accuracy: 0.8750\n",
      "Epoch 118/200\n",
      "24/24 [==============================] - 0s 4ms/step - loss: 0.2238 - accuracy: 0.9000\n",
      "Epoch 119/200\n",
      "24/24 [==============================] - 0s 5ms/step - loss: 0.2607 - accuracy: 0.9083\n",
      "Epoch 120/200\n",
      "24/24 [==============================] - 0s 5ms/step - loss: 0.2681 - accuracy: 0.9083\n",
      "Epoch 121/200\n",
      "24/24 [==============================] - 0s 5ms/step - loss: 0.3347 - accuracy: 0.8750\n",
      "Epoch 122/200\n",
      "24/24 [==============================] - 0s 5ms/step - loss: 0.2980 - accuracy: 0.8750\n",
      "Epoch 123/200\n",
      "24/24 [==============================] - 0s 4ms/step - loss: 0.2164 - accuracy: 0.9417\n",
      "Epoch 124/200\n",
      "24/24 [==============================] - 0s 4ms/step - loss: 0.2348 - accuracy: 0.8917\n",
      "Epoch 125/200\n",
      "24/24 [==============================] - 0s 5ms/step - loss: 0.2583 - accuracy: 0.9000\n",
      "Epoch 126/200\n",
      "24/24 [==============================] - 0s 5ms/step - loss: 0.2290 - accuracy: 0.9083\n",
      "Epoch 127/200\n",
      "24/24 [==============================] - 0s 4ms/step - loss: 0.2943 - accuracy: 0.8833\n",
      "Epoch 128/200\n",
      "24/24 [==============================] - 0s 4ms/step - loss: 0.3053 - accuracy: 0.8750\n",
      "Epoch 129/200\n",
      "24/24 [==============================] - 0s 5ms/step - loss: 0.2813 - accuracy: 0.8750\n",
      "Epoch 130/200\n",
      "24/24 [==============================] - 0s 4ms/step - loss: 0.2439 - accuracy: 0.9250\n",
      "Epoch 131/200\n",
      "24/24 [==============================] - 0s 5ms/step - loss: 0.2434 - accuracy: 0.9000\n",
      "Epoch 132/200\n",
      "24/24 [==============================] - 0s 4ms/step - loss: 0.2514 - accuracy: 0.8917\n",
      "Epoch 133/200\n",
      "24/24 [==============================] - 0s 4ms/step - loss: 0.2206 - accuracy: 0.9167\n",
      "Epoch 134/200\n",
      "24/24 [==============================] - 0s 5ms/step - loss: 0.2786 - accuracy: 0.9000\n",
      "Epoch 135/200\n",
      "24/24 [==============================] - 0s 4ms/step - loss: 0.2924 - accuracy: 0.8667\n",
      "Epoch 136/200\n",
      "24/24 [==============================] - 0s 4ms/step - loss: 0.2034 - accuracy: 0.9167\n",
      "Epoch 137/200\n",
      "24/24 [==============================] - 0s 4ms/step - loss: 0.2710 - accuracy: 0.8917\n",
      "Epoch 138/200\n",
      "24/24 [==============================] - 0s 5ms/step - loss: 0.3063 - accuracy: 0.8500\n",
      "Epoch 139/200\n",
      "24/24 [==============================] - 0s 4ms/step - loss: 0.3006 - accuracy: 0.8833\n",
      "Epoch 140/200\n",
      "24/24 [==============================] - 0s 5ms/step - loss: 0.2486 - accuracy: 0.9000\n",
      "Epoch 141/200\n",
      "24/24 [==============================] - 0s 4ms/step - loss: 0.2971 - accuracy: 0.8833\n",
      "Epoch 142/200\n",
      "24/24 [==============================] - 0s 4ms/step - loss: 0.2747 - accuracy: 0.8750\n",
      "Epoch 143/200\n",
      "24/24 [==============================] - 0s 4ms/step - loss: 0.2467 - accuracy: 0.9000\n",
      "Epoch 144/200\n",
      "24/24 [==============================] - 0s 4ms/step - loss: 0.2359 - accuracy: 0.9000\n",
      "Epoch 145/200\n",
      "24/24 [==============================] - 0s 4ms/step - loss: 0.2505 - accuracy: 0.9083\n",
      "Epoch 146/200\n",
      "24/24 [==============================] - 0s 4ms/step - loss: 0.2768 - accuracy: 0.8750\n",
      "Epoch 147/200\n",
      "24/24 [==============================] - 0s 4ms/step - loss: 0.2672 - accuracy: 0.8750\n",
      "Epoch 148/200\n",
      "24/24 [==============================] - 0s 5ms/step - loss: 0.2106 - accuracy: 0.9333\n",
      "Epoch 149/200\n",
      "24/24 [==============================] - 0s 5ms/step - loss: 0.2732 - accuracy: 0.9000\n",
      "Epoch 150/200\n",
      "24/24 [==============================] - 0s 5ms/step - loss: 0.2771 - accuracy: 0.9000\n",
      "Epoch 151/200\n",
      "24/24 [==============================] - 0s 4ms/step - loss: 0.2964 - accuracy: 0.8167\n",
      "Epoch 152/200\n",
      "24/24 [==============================] - 0s 4ms/step - loss: 0.1902 - accuracy: 0.9417\n",
      "Epoch 153/200\n",
      "24/24 [==============================] - 0s 4ms/step - loss: 0.3798 - accuracy: 0.8500\n",
      "Epoch 154/200\n",
      "24/24 [==============================] - 0s 4ms/step - loss: 0.2471 - accuracy: 0.9250\n",
      "Epoch 155/200\n",
      "24/24 [==============================] - 0s 5ms/step - loss: 0.2383 - accuracy: 0.9167\n",
      "Epoch 156/200\n",
      "24/24 [==============================] - 0s 4ms/step - loss: 0.2325 - accuracy: 0.9000\n",
      "Epoch 157/200\n",
      "24/24 [==============================] - 0s 4ms/step - loss: 0.2048 - accuracy: 0.9250\n",
      "Epoch 158/200\n",
      "24/24 [==============================] - 0s 4ms/step - loss: 0.2869 - accuracy: 0.8667\n",
      "Epoch 159/200\n",
      "24/24 [==============================] - 0s 4ms/step - loss: 0.3289 - accuracy: 0.8667\n",
      "Epoch 160/200\n",
      "24/24 [==============================] - 0s 4ms/step - loss: 0.2681 - accuracy: 0.9000\n",
      "Epoch 161/200\n",
      "24/24 [==============================] - 0s 4ms/step - loss: 0.2186 - accuracy: 0.9583\n",
      "Epoch 162/200\n",
      "24/24 [==============================] - 0s 4ms/step - loss: 0.2897 - accuracy: 0.8667\n",
      "Epoch 163/200\n",
      "24/24 [==============================] - 0s 4ms/step - loss: 0.2761 - accuracy: 0.8917\n",
      "Epoch 164/200\n",
      "24/24 [==============================] - 0s 5ms/step - loss: 0.2478 - accuracy: 0.9167\n",
      "Epoch 165/200\n",
      "24/24 [==============================] - 0s 4ms/step - loss: 0.2800 - accuracy: 0.8750\n",
      "Epoch 166/200\n",
      "24/24 [==============================] - 0s 4ms/step - loss: 0.2523 - accuracy: 0.9000\n",
      "Epoch 167/200\n",
      "24/24 [==============================] - 0s 4ms/step - loss: 0.2331 - accuracy: 0.9000\n",
      "Epoch 168/200\n",
      "24/24 [==============================] - 0s 5ms/step - loss: 0.1977 - accuracy: 0.9333\n",
      "Epoch 169/200\n",
      "24/24 [==============================] - 0s 5ms/step - loss: 0.2744 - accuracy: 0.8750\n",
      "Epoch 170/200\n",
      "24/24 [==============================] - 0s 4ms/step - loss: 0.2350 - accuracy: 0.9083\n",
      "Epoch 171/200\n",
      "24/24 [==============================] - 0s 4ms/step - loss: 0.2335 - accuracy: 0.9250\n",
      "Epoch 172/200\n",
      "24/24 [==============================] - 0s 4ms/step - loss: 0.2284 - accuracy: 0.9167\n",
      "Epoch 173/200\n",
      "24/24 [==============================] - 0s 4ms/step - loss: 0.2293 - accuracy: 0.9167\n",
      "Epoch 174/200\n",
      "24/24 [==============================] - 0s 4ms/step - loss: 0.2389 - accuracy: 0.9333\n",
      "Epoch 175/200\n",
      "24/24 [==============================] - 0s 5ms/step - loss: 0.2719 - accuracy: 0.8917\n",
      "Epoch 176/200\n",
      "24/24 [==============================] - 0s 5ms/step - loss: 0.2596 - accuracy: 0.8917\n",
      "Epoch 177/200\n",
      "24/24 [==============================] - 0s 4ms/step - loss: 0.2391 - accuracy: 0.9000\n",
      "Epoch 178/200\n",
      "24/24 [==============================] - 0s 4ms/step - loss: 0.2437 - accuracy: 0.8917\n",
      "Epoch 179/200\n",
      "24/24 [==============================] - 0s 4ms/step - loss: 0.2700 - accuracy: 0.8750\n",
      "Epoch 180/200\n",
      "24/24 [==============================] - 0s 5ms/step - loss: 0.2753 - accuracy: 0.8833\n",
      "Epoch 181/200\n",
      "24/24 [==============================] - 0s 5ms/step - loss: 0.1761 - accuracy: 0.9417\n",
      "Epoch 182/200\n",
      "24/24 [==============================] - 0s 6ms/step - loss: 0.2874 - accuracy: 0.8750\n",
      "Epoch 183/200\n",
      "24/24 [==============================] - 0s 4ms/step - loss: 0.2365 - accuracy: 0.9167\n",
      "Epoch 184/200\n",
      "24/24 [==============================] - 0s 4ms/step - loss: 0.2375 - accuracy: 0.9083\n",
      "Epoch 185/200\n",
      "24/24 [==============================] - 0s 4ms/step - loss: 0.2118 - accuracy: 0.9250\n",
      "Epoch 186/200\n",
      "24/24 [==============================] - 0s 5ms/step - loss: 0.2763 - accuracy: 0.9000\n",
      "Epoch 187/200\n",
      "24/24 [==============================] - 0s 5ms/step - loss: 0.2451 - accuracy: 0.9167\n",
      "Epoch 188/200\n",
      "24/24 [==============================] - 0s 5ms/step - loss: 0.2197 - accuracy: 0.8750\n",
      "Epoch 189/200\n",
      "24/24 [==============================] - 0s 5ms/step - loss: 0.1961 - accuracy: 0.9417\n",
      "Epoch 190/200\n",
      "24/24 [==============================] - 0s 4ms/step - loss: 0.2687 - accuracy: 0.8667\n",
      "Epoch 191/200\n",
      "24/24 [==============================] - 0s 4ms/step - loss: 0.2026 - accuracy: 0.9417\n",
      "Epoch 192/200\n",
      "24/24 [==============================] - 0s 5ms/step - loss: 0.2102 - accuracy: 0.9417\n",
      "Epoch 193/200\n",
      "24/24 [==============================] - 0s 5ms/step - loss: 0.2444 - accuracy: 0.9000\n",
      "Epoch 194/200\n",
      "24/24 [==============================] - 0s 5ms/step - loss: 0.2541 - accuracy: 0.9000\n",
      "Epoch 195/200\n",
      "24/24 [==============================] - 0s 4ms/step - loss: 0.2190 - accuracy: 0.9167\n",
      "Epoch 196/200\n",
      "24/24 [==============================] - 0s 5ms/step - loss: 0.1991 - accuracy: 0.9417\n",
      "Epoch 197/200\n",
      "24/24 [==============================] - 0s 5ms/step - loss: 0.2281 - accuracy: 0.9167\n",
      "Epoch 198/200\n",
      "24/24 [==============================] - 0s 5ms/step - loss: 0.2670 - accuracy: 0.8917\n",
      "Epoch 199/200\n",
      "24/24 [==============================] - 0s 4ms/step - loss: 0.2536 - accuracy: 0.8917\n",
      "Epoch 200/200\n",
      "24/24 [==============================] - 0s 4ms/step - loss: 0.2201 - accuracy: 0.9167\n"
     ]
    },
    {
     "data": {
      "text/plain": [
       "<keras.callbacks.History at 0x7f5aa422f640>"
      ]
     },
     "execution_count": 13,
     "metadata": {},
     "output_type": "execute_result"
    }
   ],
   "source": [
    "model.fit(train_x,train_y,epochs=200,batch_size=5)"
   ]
  },
  {
   "cell_type": "markdown",
   "metadata": {},
   "source": [
    "# + Evaluatution"
   ]
  },
  {
   "cell_type": "code",
   "execution_count": 14,
   "metadata": {},
   "outputs": [
    {
     "name": "stdout",
     "output_type": "stream",
     "text": [
      "1/1 [==============================] - 0s 267ms/step - loss: 0.0509 - accuracy: 1.0000\n",
      "Final test set loss: 0.050933\n",
      "Final test set accuracy: 1.000000\n"
     ]
    }
   ],
   "source": [
    "# Test on unseen data\n",
    "results = model.evaluate(test_x, test_y)\n",
    "\n",
    "print('Final test set loss: {:4f}'.format(results[0]))\n",
    "print('Final test set accuracy: {:4f}'.format(results[1]))"
   ]
  },
  {
   "cell_type": "code",
   "execution_count": null,
   "metadata": {},
   "outputs": [],
   "source": []
  }
 ],
 "metadata": {
  "interpreter": {
   "hash": "916dbcbb3f70747c44a77c7bcd40155683ae19c65e1c03b4aa3499c5328201f1"
  },
  "kernelspec": {
   "display_name": "Python 3.9.7 64-bit",
   "language": "python",
   "name": "python3"
  },
  "language_info": {
   "codemirror_mode": {
    "name": "ipython",
    "version": 3
   },
   "file_extension": ".py",
   "mimetype": "text/x-python",
   "name": "python",
   "nbconvert_exporter": "python",
   "pygments_lexer": "ipython3",
   "version": "3.9.7"
  },
  "orig_nbformat": 4
 },
 "nbformat": 4,
 "nbformat_minor": 2
}
