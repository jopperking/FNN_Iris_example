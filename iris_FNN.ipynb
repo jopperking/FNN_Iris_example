{
 "cells": [
  {
   "cell_type": "markdown",
   "metadata": {},
   "source": [
    "<h1><center><div style=\"direction:rtl;font-family:B Lotus, B Nazanin, Tahoma\"> بسم الله الرحمن الرحیم</div></center></h1>"
   ]
  },
  {
   "cell_type": "markdown",
   "metadata": {},
   "source": [
    "<h1><center><div style=\"direction:rtl;font-family:B Lotus, B Nazanin, Tahoma\"> Classification with fully connected neural network with the IRIS dataset</div></center></h1>"
   ]
  },
  {
   "cell_type": "markdown",
   "metadata": {},
   "source": [
    "## About\n",
    "```\n",
    "The structural data set of the findings includes 4 characteristics for the length and width of the sepals and petals, based on which the type of flower is distinguished from 3 different classes.\n",
    "``` "
   ]
  },
  {
   "cell_type": "markdown",
   "metadata": {},
   "source": [
    "# Import required libraries"
   ]
  },
  {
   "cell_type": "code",
   "execution_count": null,
   "metadata": {},
   "outputs": [],
   "source": [
    "import numpy as np\n",
    "from tensorflow import ker# Datasetas"
   ]
  },
  {
   "cell_type": "markdown",
   "metadata": {},
   "source": [
    "# About Dataset"
   ]
  },
  {
   "cell_type": "markdown",
   "metadata": {},
   "source": [
    "+ Descriptions of this dataset are available on this website:\n",
    "\n",
    "  + https://archive.ics.uci.edu/ml/datasets/iris \n",
    "\n",
    "---\n",
    "\n",
    "+ Attribute Information:\n",
    "\n",
    "    + sepal length in cm\n",
    "    + sepal width in cm\n",
    "    + petal length in cm\n",
    "    + petal width in cm\n",
    "\n",
    "---\n",
    "\n",
    "+ class:\n",
    "\n",
    "    + Iris Setosa\n",
    "    + Iris Versicolour\n",
    "    + Iris Virginica\n",
    "\n"
   ]
  },
  {
   "cell_type": "markdown",
   "metadata": {},
   "source": [
    "# + Load Dataset"
   ]
  },
  {
   "cell_type": "code",
   "execution_count": 3,
   "metadata": {},
   "outputs": [
    {
     "name": "stdout",
     "output_type": "stream",
     "text": [
      "Sample of Features:\n",
      "[[5.1 3.5 1.4 0.2]\n",
      " [4.9 3.  1.4 0.2]\n",
      " [4.7 3.2 1.3 0.2]\n",
      " [4.6 3.1 1.5 0.2]\n",
      " [5.  3.6 1.4 0.2]]\n",
      "\n",
      "\n",
      "Sample of Classes:\n",
      "[0 0 0 0 0]\n"
     ]
    }
   ],
   "source": [
    "from sklearn.datasets import load_iris\n",
    "\n",
    "iris_data = load_iris() # load the iris dataset\n",
    "\n",
    "x = iris_data.data # Features\n",
    "y = iris_data.target # Classes\n",
    "\n",
    "print(\"Sample of Features:\")\n",
    "print(x[:5])\n",
    "\n",
    "print(\"\\n\")\n",
    "\n",
    "print(\"Sample of Classes:\")\n",
    "print(y[:5])"
   ]
  },
  {
   "cell_type": "markdown",
   "metadata": {},
   "source": [
    "# + Preprocessing"
   ]
  },
  {
   "cell_type": "code",
   "execution_count": 4,
   "metadata": {},
   "outputs": [
    {
     "name": "stdout",
     "output_type": "stream",
     "text": [
      "Sample of Classes in a single column:\n"
     ]
    },
    {
     "data": {
      "text/plain": [
       "array([[0],\n",
       "       [0],\n",
       "       [0],\n",
       "       [0],\n",
       "       [0]])"
      ]
     },
     "execution_count": 4,
     "metadata": {},
     "output_type": "execute_result"
    }
   ],
   "source": [
    "# Convert data to a single column\n",
    "y = y.reshape(-1, 1) \n",
    "\n",
    "print(\"Sample of Classes in a single column:\")\n",
    "y[:5]"
   ]
  },
  {
   "cell_type": "code",
   "execution_count": 9,
   "metadata": {},
   "outputs": [
    {
     "name": "stdout",
     "output_type": "stream",
     "text": [
      "Classes are:\n",
      "[0 1 2]\n"
     ]
    }
   ],
   "source": [
    "# Store Number of classes befor convert to one-hot\n",
    "print('Classes are:')\n",
    "print(np.unique(y)) # Classes\n",
    "number_of_classes = len(np.unique(y)) # 3"
   ]
  },
  {
   "cell_type": "code",
   "execution_count": 10,
   "metadata": {},
   "outputs": [
    {
     "data": {
      "text/plain": [
       "array([[1., 0., 0.],\n",
       "       [1., 0., 0.],\n",
       "       [1., 0., 0.],\n",
       "       [1., 0., 0.],\n",
       "       [1., 0., 0.]], dtype=float32)"
      ]
     },
     "execution_count": 10,
     "metadata": {},
     "output_type": "execute_result"
    }
   ],
   "source": [
    "# Convert classes in one-hot\n",
    "\n",
    "y = keras.utils.to_categorical(y , num_classes=3)\n",
    "y[:5]"
   ]
  },
  {
   "cell_type": "markdown",
   "metadata": {},
   "source": [
    "# + Split the data"
   ]
  },
  {
   "cell_type": "code",
   "execution_count": 15,
   "metadata": {},
   "outputs": [
    {
     "data": {
      "text/plain": [
       "array([[6.7, 3.1, 4.7, 1.5],\n",
       "       [5.7, 2.5, 5. , 2. ],\n",
       "       [5.8, 2.7, 5.1, 1.9],\n",
       "       [4.9, 3.1, 1.5, 0.1],\n",
       "       [6.9, 3.1, 4.9, 1.5]])"
      ]
     },
     "execution_count": 15,
     "metadata": {},
     "output_type": "execute_result"
    }
   ],
   "source": [
    "from sklearn.model_selection import train_test_split\n",
    "\n",
    "# Split the data for training and testing\n",
    "train_x, test_x, train_y, test_y = train_test_split(x, y, test_size=0.20)\n",
    "train_x[:5]"
   ]
  },
  {
   "cell_type": "markdown",
   "metadata": {},
   "source": [
    "# + Initial Neural Network"
   ]
  },
  {
   "cell_type": "code",
   "execution_count": 20,
   "metadata": {},
   "outputs": [],
   "source": [
    "from keras.models import Sequential\n",
    "from keras.layers import Dense, Dropout\n",
    "\n",
    "# Store input dimention\n",
    "size_sample , dimantion = x.shape\n",
    "\n",
    "model = Sequential()\n",
    "model.add(Dense(10 , activation='relu' , input_dim=dimantion)) # 1st Layerst\n",
    "model.add(Dense(10 , activation='relu' )) # 2nd Layer\n",
    "model.add(Dropout(0.5)) # Droupout ( kill 50% of neurals)\n",
    "model.add(Dense(number_of_classes, activation='softmax')) # Final Layer"
   ]
  },
  {
   "cell_type": "code",
   "execution_count": 22,
   "metadata": {},
   "outputs": [
    {
     "name": "stdout",
     "output_type": "stream",
     "text": [
      "Model: \"sequential_3\"\n",
      "_________________________________________________________________\n",
      " Layer (type)                Output Shape              Param #   \n",
      "=================================================================\n",
      " dense_9 (Dense)             (None, 10)                50        \n",
      "                                                                 \n",
      " dense_10 (Dense)            (None, 10)                110       \n",
      "                                                                 \n",
      " dropout_3 (Dropout)         (None, 10)                0         \n",
      "                                                                 \n",
      " dense_11 (Dense)            (None, 3)                 33        \n",
      "                                                                 \n",
      "=================================================================\n",
      "Total params: 193\n",
      "Trainable params: 193\n",
      "Non-trainable params: 0\n",
      "_________________________________________________________________\n"
     ]
    }
   ],
   "source": [
    "# Summary of created Neural Network\n",
    "model.summary()"
   ]
  },
  {
   "cell_type": "markdown",
   "metadata": {},
   "source": [
    "# + Optimizing\n"
   ]
  },
  {
   "cell_type": "code",
   "execution_count": 24,
   "metadata": {},
   "outputs": [],
   "source": [
    "from tensorflow.keras.optimizers import Adam\n",
    "\n",
    "# Adam optimizer with learning rate of 0.001\n",
    "optimizer = Adam(lr=0.001)\n",
    "model.compile(optimizer, loss='categorical_crossentropy', metrics=['accuracy'])\n"
   ]
  },
  {
   "cell_type": "markdown",
   "metadata": {},
   "source": [
    "# + Learning"
   ]
  },
  {
   "cell_type": "code",
   "execution_count": 25,
   "metadata": {},
   "outputs": [
    {
     "name": "stdout",
     "output_type": "stream",
     "text": [
      "Epoch 1/200\n",
      "24/24 [==============================] - 1s 5ms/step - loss: 1.2123 - accuracy: 0.2500\n",
      "Epoch 2/200\n",
      "24/24 [==============================] - 0s 4ms/step - loss: 1.1803 - accuracy: 0.3167\n",
      "Epoch 3/200\n",
      "24/24 [==============================] - 0s 5ms/step - loss: 1.1242 - accuracy: 0.3000\n",
      "Epoch 4/200\n",
      "24/24 [==============================] - 0s 5ms/step - loss: 1.0591 - accuracy: 0.3417\n",
      "Epoch 5/200\n",
      "24/24 [==============================] - 0s 6ms/step - loss: 1.0501 - accuracy: 0.3250\n",
      "Epoch 6/200\n",
      "24/24 [==============================] - 0s 5ms/step - loss: 1.0213 - accuracy: 0.3167\n",
      "Epoch 7/200\n",
      "24/24 [==============================] - 0s 4ms/step - loss: 0.9595 - accuracy: 0.4833\n",
      "Epoch 8/200\n",
      "24/24 [==============================] - 0s 4ms/step - loss: 0.9967 - accuracy: 0.4917\n",
      "Epoch 9/200\n",
      "24/24 [==============================] - 0s 5ms/step - loss: 0.9336 - accuracy: 0.5583\n",
      "Epoch 10/200\n",
      "24/24 [==============================] - 0s 4ms/step - loss: 0.9414 - accuracy: 0.5750\n",
      "Epoch 11/200\n",
      "24/24 [==============================] - 0s 4ms/step - loss: 0.9415 - accuracy: 0.5667\n",
      "Epoch 12/200\n",
      "24/24 [==============================] - 0s 4ms/step - loss: 0.8842 - accuracy: 0.6417\n",
      "Epoch 13/200\n",
      "24/24 [==============================] - 0s 4ms/step - loss: 0.8658 - accuracy: 0.5417\n",
      "Epoch 14/200\n",
      "24/24 [==============================] - 0s 4ms/step - loss: 0.8643 - accuracy: 0.5833\n",
      "Epoch 15/200\n",
      "24/24 [==============================] - 0s 4ms/step - loss: 0.8353 - accuracy: 0.6167\n",
      "Epoch 16/200\n",
      "24/24 [==============================] - 0s 4ms/step - loss: 0.8398 - accuracy: 0.5833\n",
      "Epoch 17/200\n",
      "24/24 [==============================] - 0s 5ms/step - loss: 0.8157 - accuracy: 0.6250\n",
      "Epoch 18/200\n",
      "24/24 [==============================] - 0s 5ms/step - loss: 0.7765 - accuracy: 0.6417\n",
      "Epoch 19/200\n",
      "24/24 [==============================] - 0s 4ms/step - loss: 0.8071 - accuracy: 0.6167\n",
      "Epoch 20/200\n",
      "24/24 [==============================] - 0s 4ms/step - loss: 0.7455 - accuracy: 0.6417\n",
      "Epoch 21/200\n",
      "24/24 [==============================] - 0s 6ms/step - loss: 0.7424 - accuracy: 0.6583\n",
      "Epoch 22/200\n",
      "24/24 [==============================] - 0s 4ms/step - loss: 0.7450 - accuracy: 0.6333\n",
      "Epoch 23/200\n",
      "24/24 [==============================] - 0s 4ms/step - loss: 0.7330 - accuracy: 0.6500\n",
      "Epoch 24/200\n",
      "24/24 [==============================] - 0s 4ms/step - loss: 0.7400 - accuracy: 0.6333\n",
      "Epoch 25/200\n",
      "24/24 [==============================] - 0s 4ms/step - loss: 0.7554 - accuracy: 0.6167\n",
      "Epoch 26/200\n",
      "24/24 [==============================] - 0s 5ms/step - loss: 0.7345 - accuracy: 0.6250\n",
      "Epoch 27/200\n",
      "24/24 [==============================] - 0s 5ms/step - loss: 0.7245 - accuracy: 0.6417\n",
      "Epoch 28/200\n",
      "24/24 [==============================] - 0s 4ms/step - loss: 0.7021 - accuracy: 0.6583\n",
      "Epoch 29/200\n",
      "24/24 [==============================] - 0s 5ms/step - loss: 0.7128 - accuracy: 0.6333\n",
      "Epoch 30/200\n",
      "24/24 [==============================] - 0s 4ms/step - loss: 0.7525 - accuracy: 0.6083\n",
      "Epoch 31/200\n",
      "24/24 [==============================] - 0s 5ms/step - loss: 0.7244 - accuracy: 0.6333\n",
      "Epoch 32/200\n",
      "24/24 [==============================] - 0s 5ms/step - loss: 0.6703 - accuracy: 0.6583\n",
      "Epoch 33/200\n",
      "24/24 [==============================] - 0s 5ms/step - loss: 0.7217 - accuracy: 0.6333\n",
      "Epoch 34/200\n",
      "24/24 [==============================] - 0s 5ms/step - loss: 0.7135 - accuracy: 0.6250\n",
      "Epoch 35/200\n",
      "24/24 [==============================] - 0s 5ms/step - loss: 0.6640 - accuracy: 0.6667\n",
      "Epoch 36/200\n",
      "24/24 [==============================] - 0s 5ms/step - loss: 0.6940 - accuracy: 0.6333\n",
      "Epoch 37/200\n",
      "24/24 [==============================] - 0s 5ms/step - loss: 0.6788 - accuracy: 0.6500\n",
      "Epoch 38/200\n",
      "24/24 [==============================] - 0s 5ms/step - loss: 0.6755 - accuracy: 0.6417\n",
      "Epoch 39/200\n",
      "24/24 [==============================] - 0s 5ms/step - loss: 0.6766 - accuracy: 0.6417\n",
      "Epoch 40/200\n",
      "24/24 [==============================] - 0s 4ms/step - loss: 0.6682 - accuracy: 0.6500\n",
      "Epoch 41/200\n",
      "24/24 [==============================] - 0s 4ms/step - loss: 0.6611 - accuracy: 0.6500\n",
      "Epoch 42/200\n",
      "24/24 [==============================] - 0s 5ms/step - loss: 0.6712 - accuracy: 0.6500\n",
      "Epoch 43/200\n",
      "24/24 [==============================] - 0s 5ms/step - loss: 0.6897 - accuracy: 0.6250\n",
      "Epoch 44/200\n",
      "24/24 [==============================] - 0s 5ms/step - loss: 0.7108 - accuracy: 0.6167\n",
      "Epoch 45/200\n",
      "24/24 [==============================] - 0s 5ms/step - loss: 0.6441 - accuracy: 0.6500\n",
      "Epoch 46/200\n",
      "24/24 [==============================] - 0s 4ms/step - loss: 0.6325 - accuracy: 0.6500\n",
      "Epoch 47/200\n",
      "24/24 [==============================] - 0s 5ms/step - loss: 0.6553 - accuracy: 0.6417\n",
      "Epoch 48/200\n",
      "24/24 [==============================] - 0s 5ms/step - loss: 0.6403 - accuracy: 0.6500\n",
      "Epoch 49/200\n",
      "24/24 [==============================] - 0s 4ms/step - loss: 0.6926 - accuracy: 0.6250\n",
      "Epoch 50/200\n",
      "24/24 [==============================] - 0s 4ms/step - loss: 0.7332 - accuracy: 0.6000\n",
      "Epoch 51/200\n",
      "24/24 [==============================] - 0s 5ms/step - loss: 0.6195 - accuracy: 0.6667\n",
      "Epoch 52/200\n",
      "24/24 [==============================] - 0s 5ms/step - loss: 0.7320 - accuracy: 0.6000\n",
      "Epoch 53/200\n",
      "24/24 [==============================] - 0s 4ms/step - loss: 0.7162 - accuracy: 0.6083\n",
      "Epoch 54/200\n",
      "24/24 [==============================] - 0s 4ms/step - loss: 0.6311 - accuracy: 0.6500\n",
      "Epoch 55/200\n",
      "24/24 [==============================] - 0s 4ms/step - loss: 0.6444 - accuracy: 0.6500\n",
      "Epoch 56/200\n",
      "24/24 [==============================] - 0s 5ms/step - loss: 0.6418 - accuracy: 0.6500\n",
      "Epoch 57/200\n",
      "24/24 [==============================] - 0s 5ms/step - loss: 0.6691 - accuracy: 0.6333\n",
      "Epoch 58/200\n",
      "24/24 [==============================] - 0s 5ms/step - loss: 0.6400 - accuracy: 0.6500\n",
      "Epoch 59/200\n",
      "24/24 [==============================] - 0s 5ms/step - loss: 0.6672 - accuracy: 0.6333\n",
      "Epoch 60/200\n",
      "24/24 [==============================] - 0s 5ms/step - loss: 0.5804 - accuracy: 0.6750\n",
      "Epoch 61/200\n",
      "24/24 [==============================] - 0s 5ms/step - loss: 0.6483 - accuracy: 0.6417\n",
      "Epoch 62/200\n",
      "24/24 [==============================] - 0s 5ms/step - loss: 0.6329 - accuracy: 0.6500\n",
      "Epoch 63/200\n",
      "24/24 [==============================] - 0s 5ms/step - loss: 0.6003 - accuracy: 0.6667\n",
      "Epoch 64/200\n",
      "24/24 [==============================] - 0s 5ms/step - loss: 0.6621 - accuracy: 0.6333\n",
      "Epoch 65/200\n",
      "24/24 [==============================] - 0s 6ms/step - loss: 0.6761 - accuracy: 0.6167\n",
      "Epoch 66/200\n",
      "24/24 [==============================] - 0s 4ms/step - loss: 0.5684 - accuracy: 0.6750\n",
      "Epoch 67/200\n",
      "24/24 [==============================] - 0s 5ms/step - loss: 0.5811 - accuracy: 0.6750\n",
      "Epoch 68/200\n",
      "24/24 [==============================] - 0s 5ms/step - loss: 0.5944 - accuracy: 0.6667\n",
      "Epoch 69/200\n",
      "24/24 [==============================] - 0s 5ms/step - loss: 0.5933 - accuracy: 0.6667\n",
      "Epoch 70/200\n",
      "24/24 [==============================] - 0s 4ms/step - loss: 0.6058 - accuracy: 0.6583\n",
      "Epoch 71/200\n",
      "24/24 [==============================] - 0s 4ms/step - loss: 0.6233 - accuracy: 0.6500\n",
      "Epoch 72/200\n",
      "24/24 [==============================] - 0s 4ms/step - loss: 0.6232 - accuracy: 0.6500\n",
      "Epoch 73/200\n",
      "24/24 [==============================] - 0s 4ms/step - loss: 0.6875 - accuracy: 0.6083\n",
      "Epoch 74/200\n",
      "24/24 [==============================] - 0s 4ms/step - loss: 0.6390 - accuracy: 0.6417\n",
      "Epoch 75/200\n",
      "24/24 [==============================] - 0s 5ms/step - loss: 0.7180 - accuracy: 0.6000\n",
      "Epoch 76/200\n",
      "24/24 [==============================] - 0s 4ms/step - loss: 0.6038 - accuracy: 0.6583\n",
      "Epoch 77/200\n",
      "24/24 [==============================] - 0s 4ms/step - loss: 0.5850 - accuracy: 0.6667\n",
      "Epoch 78/200\n",
      "24/24 [==============================] - 0s 4ms/step - loss: 0.6345 - accuracy: 0.6417\n",
      "Epoch 79/200\n",
      "24/24 [==============================] - 0s 4ms/step - loss: 0.5844 - accuracy: 0.6667\n",
      "Epoch 80/200\n",
      "24/24 [==============================] - 0s 4ms/step - loss: 0.6667 - accuracy: 0.6250\n",
      "Epoch 81/200\n",
      "24/24 [==============================] - 0s 5ms/step - loss: 0.7175 - accuracy: 0.6000\n",
      "Epoch 82/200\n",
      "24/24 [==============================] - 0s 4ms/step - loss: 0.5994 - accuracy: 0.6583\n",
      "Epoch 83/200\n",
      "24/24 [==============================] - 0s 4ms/step - loss: 0.5982 - accuracy: 0.6583\n",
      "Epoch 84/200\n",
      "24/24 [==============================] - 0s 5ms/step - loss: 0.6150 - accuracy: 0.6500\n",
      "Epoch 85/200\n",
      "24/24 [==============================] - 0s 4ms/step - loss: 0.6304 - accuracy: 0.6417\n",
      "Epoch 86/200\n",
      "24/24 [==============================] - 0s 4ms/step - loss: 0.5283 - accuracy: 0.6917\n",
      "Epoch 87/200\n",
      "24/24 [==============================] - 0s 3ms/step - loss: 0.6468 - accuracy: 0.6333\n",
      "Epoch 88/200\n",
      "24/24 [==============================] - 0s 5ms/step - loss: 0.6129 - accuracy: 0.6500\n",
      "Epoch 89/200\n",
      "24/24 [==============================] - 0s 4ms/step - loss: 0.6808 - accuracy: 0.6167\n",
      "Epoch 90/200\n",
      "24/24 [==============================] - 0s 5ms/step - loss: 0.6287 - accuracy: 0.6417\n",
      "Epoch 91/200\n",
      "24/24 [==============================] - 0s 5ms/step - loss: 0.5931 - accuracy: 0.6583\n",
      "Epoch 92/200\n",
      "24/24 [==============================] - 0s 5ms/step - loss: 0.6285 - accuracy: 0.6417\n",
      "Epoch 93/200\n",
      "24/24 [==============================] - 0s 5ms/step - loss: 0.7161 - accuracy: 0.6000\n",
      "Epoch 94/200\n",
      "24/24 [==============================] - 0s 5ms/step - loss: 0.6280 - accuracy: 0.6417\n",
      "Epoch 95/200\n",
      "24/24 [==============================] - 0s 5ms/step - loss: 0.6456 - accuracy: 0.6333\n",
      "Epoch 96/200\n",
      "24/24 [==============================] - 0s 4ms/step - loss: 0.6274 - accuracy: 0.6417\n",
      "Epoch 97/200\n",
      "24/24 [==============================] - 0s 5ms/step - loss: 0.5911 - accuracy: 0.6583\n",
      "Epoch 98/200\n",
      "24/24 [==============================] - 0s 5ms/step - loss: 0.6633 - accuracy: 0.6250\n",
      "Epoch 99/200\n",
      "24/24 [==============================] - 0s 5ms/step - loss: 0.6446 - accuracy: 0.6333\n",
      "Epoch 100/200\n",
      "24/24 [==============================] - 0s 5ms/step - loss: 0.5726 - accuracy: 0.6667\n",
      "Epoch 101/200\n",
      "24/24 [==============================] - 0s 4ms/step - loss: 0.5898 - accuracy: 0.6583\n",
      "Epoch 102/200\n",
      "24/24 [==============================] - 0s 5ms/step - loss: 0.6623 - accuracy: 0.6250\n",
      "Epoch 103/200\n",
      "24/24 [==============================] - 0s 4ms/step - loss: 0.6072 - accuracy: 0.6500\n",
      "Epoch 104/200\n",
      "24/24 [==============================] - 0s 4ms/step - loss: 0.6434 - accuracy: 0.6333\n",
      "Epoch 105/200\n",
      "24/24 [==============================] - 0s 4ms/step - loss: 0.6245 - accuracy: 0.6417\n",
      "Epoch 106/200\n",
      "24/24 [==============================] - 0s 4ms/step - loss: 0.6801 - accuracy: 0.6167\n",
      "Epoch 107/200\n",
      "24/24 [==============================] - 0s 4ms/step - loss: 0.6614 - accuracy: 0.6250\n",
      "Epoch 108/200\n",
      "24/24 [==============================] - 0s 4ms/step - loss: 0.6246 - accuracy: 0.6417\n",
      "Epoch 109/200\n",
      "24/24 [==============================] - 0s 4ms/step - loss: 0.6429 - accuracy: 0.6333\n",
      "Epoch 110/200\n",
      "24/24 [==============================] - 0s 5ms/step - loss: 0.5869 - accuracy: 0.6583: 0s - loss: 0.5872 - accuracy: 0.\n",
      "Epoch 111/200\n",
      "24/24 [==============================] - 0s 4ms/step - loss: 0.6429 - accuracy: 0.6333\n",
      "Epoch 112/200\n",
      "24/24 [==============================] - 0s 5ms/step - loss: 0.6054 - accuracy: 0.6500\n",
      "Epoch 113/200\n",
      "24/24 [==============================] - 0s 4ms/step - loss: 0.5857 - accuracy: 0.6583\n",
      "Epoch 114/200\n",
      "24/24 [==============================] - 0s 4ms/step - loss: 0.5116 - accuracy: 0.6917\n",
      "Epoch 115/200\n",
      "24/24 [==============================] - 0s 5ms/step - loss: 0.6789 - accuracy: 0.6167\n",
      "Epoch 116/200\n",
      "24/24 [==============================] - 0s 4ms/step - loss: 0.6419 - accuracy: 0.6333\n",
      "Epoch 117/200\n",
      "24/24 [==============================] - 0s 5ms/step - loss: 0.5284 - accuracy: 0.6833\n",
      "Epoch 118/200\n",
      "24/24 [==============================] - 0s 4ms/step - loss: 0.6039 - accuracy: 0.6500\n",
      "Epoch 119/200\n",
      "24/24 [==============================] - 0s 4ms/step - loss: 0.5652 - accuracy: 0.6667\n",
      "Epoch 120/200\n",
      "24/24 [==============================] - 0s 4ms/step - loss: 0.6601 - accuracy: 0.6250\n",
      "Epoch 121/200\n",
      "24/24 [==============================] - 0s 4ms/step - loss: 0.6794 - accuracy: 0.6167\n",
      "Epoch 122/200\n",
      "24/24 [==============================] - 0s 5ms/step - loss: 0.5454 - accuracy: 0.6750\n",
      "Epoch 123/200\n",
      "24/24 [==============================] - 0s 6ms/step - loss: 0.6407 - accuracy: 0.6333\n",
      "Epoch 124/200\n",
      "24/24 [==============================] - 0s 5ms/step - loss: 0.6406 - accuracy: 0.6333\n",
      "Epoch 125/200\n",
      "24/24 [==============================] - ETA: 0s - loss: 0.5825 - accuracy: 0.65 - 0s 6ms/step - loss: 0.5825 - accuracy: 0.6583\n",
      "Epoch 126/200\n",
      "24/24 [==============================] - 0s 6ms/step - loss: 0.6403 - accuracy: 0.6333\n",
      "Epoch 127/200\n",
      "24/24 [==============================] - 0s 5ms/step - loss: 0.6213 - accuracy: 0.6417\n",
      "Epoch 128/200\n",
      "24/24 [==============================] - 0s 5ms/step - loss: 0.6600 - accuracy: 0.6250\n",
      "Epoch 129/200\n",
      "24/24 [==============================] - 0s 5ms/step - loss: 0.5433 - accuracy: 0.6750: 0s - loss: 0.5370 - accuracy: 0.\n",
      "Epoch 130/200\n",
      "24/24 [==============================] - 0s 4ms/step - loss: 0.6013 - accuracy: 0.6500\n",
      "Epoch 131/200\n",
      "24/24 [==============================] - 0s 3ms/step - loss: 0.5814 - accuracy: 0.6583\n",
      "Epoch 132/200\n",
      "24/24 [==============================] - 0s 4ms/step - loss: 0.6597 - accuracy: 0.6250\n",
      "Epoch 133/200\n",
      "24/24 [==============================] - 0s 5ms/step - loss: 0.6012 - accuracy: 0.6500\n",
      "Epoch 134/200\n",
      "24/24 [==============================] - 0s 4ms/step - loss: 0.6208 - accuracy: 0.6417\n",
      "Epoch 135/200\n",
      "24/24 [==============================] - 0s 5ms/step - loss: 0.6202 - accuracy: 0.6417\n",
      "Epoch 136/200\n",
      "24/24 [==============================] - 0s 4ms/step - loss: 0.5614 - accuracy: 0.6667\n",
      "Epoch 137/200\n",
      "24/24 [==============================] - 0s 4ms/step - loss: 0.6200 - accuracy: 0.6417\n",
      "Epoch 138/200\n",
      "24/24 [==============================] - 0s 5ms/step - loss: 0.6595 - accuracy: 0.6250\n",
      "Epoch 139/200\n",
      "24/24 [==============================] - 0s 5ms/step - loss: 0.7189 - accuracy: 0.6000\n",
      "Epoch 140/200\n",
      "24/24 [==============================] - 0s 4ms/step - loss: 0.6007 - accuracy: 0.6500\n",
      "Epoch 141/200\n",
      "24/24 [==============================] - 0s 4ms/step - loss: 0.5211 - accuracy: 0.6833\n",
      "Epoch 142/200\n",
      "24/24 [==============================] - 0s 5ms/step - loss: 0.6202 - accuracy: 0.6417\n",
      "Epoch 143/200\n",
      "24/24 [==============================] - 0s 4ms/step - loss: 0.6400 - accuracy: 0.6333\n",
      "Epoch 144/200\n",
      "24/24 [==============================] - 0s 5ms/step - loss: 0.6593 - accuracy: 0.6250\n",
      "Epoch 145/200\n",
      "24/24 [==============================] - 0s 5ms/step - loss: 0.6199 - accuracy: 0.6417\n",
      "Epoch 146/200\n",
      "24/24 [==============================] - 0s 5ms/step - loss: 0.5996 - accuracy: 0.6500\n",
      "Epoch 147/200\n",
      "24/24 [==============================] - 0s 4ms/step - loss: 0.6397 - accuracy: 0.6333\n",
      "Epoch 148/200\n",
      "24/24 [==============================] - 0s 4ms/step - loss: 0.5194 - accuracy: 0.6833\n",
      "Epoch 149/200\n",
      "24/24 [==============================] - 0s 4ms/step - loss: 0.5793 - accuracy: 0.6583\n",
      "Epoch 150/200\n",
      "24/24 [==============================] - 0s 4ms/step - loss: 0.6397 - accuracy: 0.6333\n",
      "Epoch 151/200\n",
      "24/24 [==============================] - 0s 5ms/step - loss: 0.5992 - accuracy: 0.6500\n",
      "Epoch 152/200\n",
      "24/24 [==============================] - 0s 5ms/step - loss: 0.6396 - accuracy: 0.6333\n",
      "Epoch 153/200\n",
      "24/24 [==============================] - 0s 5ms/step - loss: 0.5989 - accuracy: 0.6500\n",
      "Epoch 154/200\n",
      "24/24 [==============================] - 0s 5ms/step - loss: 0.6191 - accuracy: 0.6417\n",
      "Epoch 155/200\n",
      "24/24 [==============================] - 0s 4ms/step - loss: 0.5379 - accuracy: 0.6750\n",
      "Epoch 156/200\n",
      "24/24 [==============================] - 0s 4ms/step - loss: 0.5579 - accuracy: 0.6667\n",
      "Epoch 157/200\n",
      "24/24 [==============================] - 0s 5ms/step - loss: 0.6191 - accuracy: 0.6417\n",
      "Epoch 158/200\n",
      "24/24 [==============================] - 0s 5ms/step - loss: 0.5164 - accuracy: 0.6833\n",
      "Epoch 159/200\n",
      "24/24 [==============================] - 0s 5ms/step - loss: 0.6600 - accuracy: 0.6250\n",
      "Epoch 160/200\n",
      "24/24 [==============================] - 0s 5ms/step - loss: 0.5984 - accuracy: 0.6500: 0s - loss: 0.6348 - accuracy: 0.\n",
      "Epoch 161/200\n",
      "24/24 [==============================] - 0s 6ms/step - loss: 0.6392 - accuracy: 0.6333\n",
      "Epoch 162/200\n",
      "24/24 [==============================] - 0s 4ms/step - loss: 0.5984 - accuracy: 0.6500\n",
      "Epoch 163/200\n",
      "24/24 [==============================] - 0s 4ms/step - loss: 0.6392 - accuracy: 0.6333\n",
      "Epoch 164/200\n",
      "24/24 [==============================] - 0s 4ms/step - loss: 0.5981 - accuracy: 0.6500\n",
      "Epoch 165/200\n",
      "24/24 [==============================] - 0s 4ms/step - loss: 0.5980 - accuracy: 0.6500\n",
      "Epoch 166/200\n",
      "24/24 [==============================] - 0s 5ms/step - loss: 0.5771 - accuracy: 0.6583\n",
      "Epoch 167/200\n",
      "24/24 [==============================] - 0s 5ms/step - loss: 0.6393 - accuracy: 0.6333\n",
      "Epoch 168/200\n",
      "24/24 [==============================] - 0s 5ms/step - loss: 0.6184 - accuracy: 0.6417\n",
      "Epoch 169/200\n",
      "24/24 [==============================] - 0s 5ms/step - loss: 0.5769 - accuracy: 0.6583\n",
      "Epoch 170/200\n",
      "24/24 [==============================] - 0s 5ms/step - loss: 0.5768 - accuracy: 0.6583\n",
      "Epoch 171/200\n",
      "24/24 [==============================] - 0s 4ms/step - loss: 0.5768 - accuracy: 0.6583\n",
      "Epoch 172/200\n",
      "24/24 [==============================] - 0s 5ms/step - loss: 0.5767 - accuracy: 0.6583\n",
      "Epoch 173/200\n",
      "24/24 [==============================] - 0s 5ms/step - loss: 0.5554 - accuracy: 0.6667\n",
      "Epoch 174/200\n",
      "24/24 [==============================] - 0s 4ms/step - loss: 0.5762 - accuracy: 0.6583\n",
      "Epoch 175/200\n",
      "24/24 [==============================] - 0s 4ms/step - loss: 0.5761 - accuracy: 0.6583\n",
      "Epoch 176/200\n",
      "24/24 [==============================] - 0s 4ms/step - loss: 0.5760 - accuracy: 0.6583\n",
      "Epoch 177/200\n",
      "24/24 [==============================] - 0s 4ms/step - loss: 0.6182 - accuracy: 0.6417\n",
      "Epoch 178/200\n",
      "24/24 [==============================] - 0s 5ms/step - loss: 0.6392 - accuracy: 0.6333\n",
      "Epoch 179/200\n",
      "24/24 [==============================] - 0s 5ms/step - loss: 0.5759 - accuracy: 0.6583\n",
      "Epoch 180/200\n",
      "24/24 [==============================] - 0s 5ms/step - loss: 0.6394 - accuracy: 0.6333\n",
      "Epoch 181/200\n",
      "24/24 [==============================] - 0s 4ms/step - loss: 0.6394 - accuracy: 0.6333\n",
      "Epoch 182/200\n",
      "24/24 [==============================] - 0s 5ms/step - loss: 0.6182 - accuracy: 0.6417\n",
      "Epoch 183/200\n",
      "24/24 [==============================] - 0s 5ms/step - loss: 0.5120 - accuracy: 0.6833\n",
      "Epoch 184/200\n",
      "24/24 [==============================] - 0s 4ms/step - loss: 0.5968 - accuracy: 0.6500\n",
      "Epoch 185/200\n",
      "24/24 [==============================] - 0s 4ms/step - loss: 0.6181 - accuracy: 0.6417\n",
      "Epoch 186/200\n",
      "24/24 [==============================] - 0s 5ms/step - loss: 0.6607 - accuracy: 0.6250\n",
      "Epoch 187/200\n",
      "24/24 [==============================] - 0s 5ms/step - loss: 0.5969 - accuracy: 0.6500\n",
      "Epoch 188/200\n",
      "24/24 [==============================] - 0s 4ms/step - loss: 0.6180 - accuracy: 0.6417\n",
      "Epoch 189/200\n",
      "24/24 [==============================] - 0s 5ms/step - loss: 0.5752 - accuracy: 0.6583\n",
      "Epoch 190/200\n",
      "24/24 [==============================] - 0s 4ms/step - loss: 0.7038 - accuracy: 0.6083\n",
      "Epoch 191/200\n",
      "24/24 [==============================] - 0s 5ms/step - loss: 0.5969 - accuracy: 0.6500\n",
      "Epoch 192/200\n",
      "24/24 [==============================] - 0s 5ms/step - loss: 0.5754 - accuracy: 0.6583\n",
      "Epoch 193/200\n",
      "24/24 [==============================] - 0s 5ms/step - loss: 0.5753 - accuracy: 0.6583\n",
      "Epoch 194/200\n",
      "24/24 [==============================] - 0s 5ms/step - loss: 0.7462 - accuracy: 0.5917\n",
      "Epoch 195/200\n",
      "24/24 [==============================] - 0s 5ms/step - loss: 0.6821 - accuracy: 0.6167\n",
      "Epoch 196/200\n",
      "24/24 [==============================] - 0s 5ms/step - loss: 0.5971 - accuracy: 0.6500\n",
      "Epoch 197/200\n",
      "24/24 [==============================] - 0s 5ms/step - loss: 0.5754 - accuracy: 0.6583\n",
      "Epoch 198/200\n",
      "24/24 [==============================] - 0s 6ms/step - loss: 0.6393 - accuracy: 0.6333\n",
      "Epoch 199/200\n",
      "24/24 [==============================] - 0s 4ms/step - loss: 0.5966 - accuracy: 0.6500\n",
      "Epoch 200/200\n",
      "24/24 [==============================] - 0s 5ms/step - loss: 0.5753 - accuracy: 0.6583\n"
     ]
    },
    {
     "data": {
      "text/plain": [
       "<keras.callbacks.History at 0x7fea517190d0>"
      ]
     },
     "execution_count": 25,
     "metadata": {},
     "output_type": "execute_result"
    }
   ],
   "source": [
    "model.fit(train_x,train_y,epochs=200,batch_size=5)"
   ]
  },
  {
   "cell_type": "code",
   "execution_count": null,
   "metadata": {},
   "outputs": [],
   "source": []
  }
 ],
 "metadata": {
  "interpreter": {
   "hash": "916dbcbb3f70747c44a77c7bcd40155683ae19c65e1c03b4aa3499c5328201f1"
  },
  "kernelspec": {
   "display_name": "Python 3.9.7 64-bit",
   "language": "python",
   "name": "python3"
  },
  "language_info": {
   "codemirror_mode": {
    "name": "ipython",
    "version": 3
   },
   "file_extension": ".py",
   "mimetype": "text/x-python",
   "name": "python",
   "nbconvert_exporter": "python",
   "pygments_lexer": "ipython3",
   "version": "3.9.7"
  },
  "orig_nbformat": 4
 },
 "nbformat": 4,
 "nbformat_minor": 2
}
