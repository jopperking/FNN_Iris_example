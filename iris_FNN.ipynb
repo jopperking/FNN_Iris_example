{
 "cells": [
  {
   "cell_type": "markdown",
   "metadata": {},
   "source": [
    "<h1><center><div style=\"direction:rtl;font-family:B Lotus, B Nazanin, Tahoma\"> بسم الله الرحمن الرحیم</div></center></h1>"
   ]
  },
  {
   "cell_type": "markdown",
   "metadata": {},
   "source": [
    "<h1><center><div style=\"direction:rtl;font-family:B Lotus, B Nazanin, Tahoma\"> Classification with fully connected neural network with the IRIS dataset</div></center></h1>"
   ]
  },
  {
   "cell_type": "markdown",
   "metadata": {},
   "source": [
    "## About\n",
    "```\n",
    "The structural data set of the findings includes 4 characteristics for the length and width of the sepals and petals, based on which the type of flower is distinguished from 3 different classes.\n",
    "``` "
   ]
  },
  {
   "cell_type": "markdown",
   "metadata": {},
   "source": [
    "# Import required libraries"
   ]
  },
  {
   "cell_type": "code",
   "execution_count": null,
   "metadata": {},
   "outputs": [],
   "source": [
    "import numpy as np\n",
    "from tensorflow import ker# Datasetas"
   ]
  },
  {
   "cell_type": "markdown",
   "metadata": {},
   "source": [
    "# About Dataset"
   ]
  },
  {
   "cell_type": "markdown",
   "metadata": {},
   "source": [
    "+ Descriptions of this dataset are available on this website:\n",
    "\n",
    "  + https://archive.ics.uci.edu/ml/datasets/iris \n",
    "\n",
    "---\n",
    "\n",
    "+ Attribute Information:\n",
    "\n",
    "    + sepal length in cm\n",
    "    + sepal width in cm\n",
    "    + petal length in cm\n",
    "    + petal width in cm\n",
    "\n",
    "---\n",
    "\n",
    "+ class:\n",
    "\n",
    "    + Iris Setosa\n",
    "    + Iris Versicolour\n",
    "    + Iris Virginica\n",
    "\n"
   ]
  },
  {
   "cell_type": "markdown",
   "metadata": {},
   "source": [
    "# + Load Dataset"
   ]
  },
  {
   "cell_type": "code",
   "execution_count": 3,
   "metadata": {},
   "outputs": [
    {
     "name": "stdout",
     "output_type": "stream",
     "text": [
      "Sample of Features:\n",
      "[[5.1 3.5 1.4 0.2]\n",
      " [4.9 3.  1.4 0.2]\n",
      " [4.7 3.2 1.3 0.2]\n",
      " [4.6 3.1 1.5 0.2]\n",
      " [5.  3.6 1.4 0.2]]\n",
      "\n",
      "\n",
      "Sample of Classes:\n",
      "[0 0 0 0 0]\n"
     ]
    }
   ],
   "source": [
    "from sklearn.datasets import load_iris\n",
    "\n",
    "iris_data = load_iris() # load the iris dataset\n",
    "\n",
    "x = iris_data.data # Features\n",
    "y = iris_data.target # Classes\n",
    "\n",
    "print(\"Sample of Features:\")\n",
    "print(x[:5])\n",
    "\n",
    "print(\"\\n\")\n",
    "\n",
    "print(\"Sample of Classes:\")\n",
    "print(y[:5])"
   ]
  },
  {
   "cell_type": "markdown",
   "metadata": {},
   "source": [
    "# + Preprocessing"
   ]
  },
  {
   "cell_type": "code",
   "execution_count": 4,
   "metadata": {},
   "outputs": [
    {
     "name": "stdout",
     "output_type": "stream",
     "text": [
      "Sample of Classes in a single column:\n"
     ]
    },
    {
     "data": {
      "text/plain": [
       "array([[0],\n",
       "       [0],\n",
       "       [0],\n",
       "       [0],\n",
       "       [0]])"
      ]
     },
     "execution_count": 4,
     "metadata": {},
     "output_type": "execute_result"
    }
   ],
   "source": [
    "# Convert data to a single column\n",
    "y = y.reshape(-1, 1) \n",
    "\n",
    "print(\"Sample of Classes in a single column:\")\n",
    "y[:5]"
   ]
  },
  {
   "cell_type": "code",
   "execution_count": 9,
   "metadata": {},
   "outputs": [
    {
     "name": "stdout",
     "output_type": "stream",
     "text": [
      "Classes are:\n",
      "[0 1 2]\n"
     ]
    }
   ],
   "source": [
    "# Store Number of classes befor convert to one-hot\n",
    "print('Classes are:')\n",
    "print(np.unique(y)) # Classes\n",
    "number_of_classes = len(np.unique(y)) # 3"
   ]
  },
  {
   "cell_type": "code",
   "execution_count": 10,
   "metadata": {},
   "outputs": [
    {
     "data": {
      "text/plain": [
       "array([[1., 0., 0.],\n",
       "       [1., 0., 0.],\n",
       "       [1., 0., 0.],\n",
       "       [1., 0., 0.],\n",
       "       [1., 0., 0.]], dtype=float32)"
      ]
     },
     "execution_count": 10,
     "metadata": {},
     "output_type": "execute_result"
    }
   ],
   "source": [
    "# Convert classes in one-hot\n",
    "\n",
    "y = keras.utils.to_categorical(y , num_classes=3)\n",
    "y[:5]"
   ]
  },
  {
   "cell_type": "markdown",
   "metadata": {},
   "source": [
    "# + Split the data"
   ]
  },
  {
   "cell_type": "code",
   "execution_count": 15,
   "metadata": {},
   "outputs": [
    {
     "data": {
      "text/plain": [
       "array([[6.7, 3.1, 4.7, 1.5],\n",
       "       [5.7, 2.5, 5. , 2. ],\n",
       "       [5.8, 2.7, 5.1, 1.9],\n",
       "       [4.9, 3.1, 1.5, 0.1],\n",
       "       [6.9, 3.1, 4.9, 1.5]])"
      ]
     },
     "execution_count": 15,
     "metadata": {},
     "output_type": "execute_result"
    }
   ],
   "source": [
    "from sklearn.model_selection import train_test_split\n",
    "\n",
    "# Split the data for training and testing\n",
    "train_x, test_x, train_y, test_y = train_test_split(x, y, test_size=0.20)\n",
    "train_x[:5]"
   ]
  },
  {
   "cell_type": "markdown",
   "metadata": {},
   "source": [
    "# + Make the Neural Network"
   ]
  },
  {
   "cell_type": "code",
   "execution_count": 19,
   "metadata": {},
   "outputs": [],
   "source": [
    "from keras.models import Sequential\n",
    "from keras.layers import Dense, Dropout\n",
    "\n",
    "# Store input dimention\n",
    "size_sample , dimantion = x.shape\n",
    "\n",
    "model = Sequential()\n",
    "model.add(Dense(10 , activation='relu' , input_dim=dimantion)) # 1st Layerst\n",
    "model.add(Dense(10 , activation='relu' )) # 2nd Layer\n",
    "model.add(Dropout(0.5)) # Droupout ( kill 50% of neurals)\n",
    "model.add(Dense(number_of_classes, activation='softmax')) # Final Layer"
   ]
  }
 ],
 "metadata": {
  "interpreter": {
   "hash": "916dbcbb3f70747c44a77c7bcd40155683ae19c65e1c03b4aa3499c5328201f1"
  },
  "kernelspec": {
   "display_name": "Python 3.9.7 64-bit",
   "language": "python",
   "name": "python3"
  },
  "language_info": {
   "codemirror_mode": {
    "name": "ipython",
    "version": 3
   },
   "file_extension": ".py",
   "mimetype": "text/x-python",
   "name": "python",
   "nbconvert_exporter": "python",
   "pygments_lexer": "ipython3",
   "version": "3.9.7"
  },
  "orig_nbformat": 4
 },
 "nbformat": 4,
 "nbformat_minor": 2
}
